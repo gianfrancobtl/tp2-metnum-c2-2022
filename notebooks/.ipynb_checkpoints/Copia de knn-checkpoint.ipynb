{
 "cells": [
  {
   "cell_type": "markdown",
   "metadata": {},
   "source": [
    "# Reconocimiento de dígitos con KNN\n",
    "\n"
   ]
  },
  {
   "cell_type": "markdown",
   "metadata": {},
   "source": [
    "Definir los path al ejecutable de python 3.6 y sus librerías,\n",
    "de acuerdo al virtual env que estén corriendo."
   ]
  },
  {
   "cell_type": "code",
   "execution_count": null,
   "metadata": {},
   "outputs": [],
   "source": [
    "!cd .. && mkdir build\n",
    "!cd ../build/ && rm -rf *\n",
    "!cd ../build && cmake \\\n",
    "  -DPYTHON_EXECUTABLE=\"$(which python)\" \\\n",
    "  -DCMAKE_BUILD_TYPE=Release ..\n",
    "!cd ../build && make install"
   ]
  },
  {
   "cell_type": "code",
   "execution_count": null,
   "metadata": {},
   "outputs": [],
   "source": [
    "# Verifico la correcta instalación. Si no falla el import está OK\n",
    "!pwd\n",
    "!python --version\n",
    "import metnum\n"
   ]
  },
  {
   "cell_type": "markdown",
   "metadata": {},
   "source": [
    "## Explorando los datos"
   ]
  },
  {
   "cell_type": "code",
   "execution_count": null,
   "metadata": {},
   "outputs": [],
   "source": [
    "%load_ext autoreload\n",
    "%autoreload 2\n",
    "import pandas as pd\n",
    "\n",
    "df_train = pd.read_csv(\"../data/train.csv\")"
   ]
  },
  {
   "cell_type": "markdown",
   "metadata": {},
   "source": [
    "Es un csv, con columnas por cada pixel"
   ]
  },
  {
   "cell_type": "code",
   "execution_count": null,
   "metadata": {},
   "outputs": [],
   "source": [
    "df_train[:10]"
   ]
  },
  {
   "cell_type": "markdown",
   "metadata": {},
   "source": [
    "### Reducir el dataset\n",
    "\n",
    "Ya que el dataset es grande, me quedo con una porción de éste\n",
    "\n",
    "**<font color=red>ESTO ES SOLO PARA HACER PRUEBAS. CUANDO REPORTEN LOS RESULTADOS, USAR DATASET COMPLETO</font>**"
   ]
  },
  {
   "cell_type": "code",
   "execution_count": null,
   "metadata": {},
   "outputs": [],
   "source": [
    "df_train = df_train[:5000]"
   ]
  },
  {
   "cell_type": "markdown",
   "metadata": {},
   "source": [
    "En el primer caracter está el dígito a reconocer. Llamamos a esto `y_train`"
   ]
  },
  {
   "cell_type": "code",
   "execution_count": null,
   "metadata": {},
   "outputs": [],
   "source": [
    "# Uso values para mandar todo a arrays de numpy\n",
    "X = df_train[df_train.columns[1:]].values\n",
    "y = df_train[\"label\"].values.reshape(-1, 1)\n",
    "\n",
    "X.shape, y.shape\n",
    "\n",
    "\n"
   ]
  },
  {
   "cell_type": "markdown",
   "metadata": {},
   "source": [
    "Convierto el resto a matrices de 28 x 28"
   ]
  },
  {
   "cell_type": "markdown",
   "metadata": {},
   "source": [
    "A ver cómo se ven..."
   ]
  },
  {
   "cell_type": "code",
   "execution_count": null,
   "metadata": {},
   "outputs": [],
   "source": [
    "import matplotlib.pyplot as plt\n",
    "\n",
    "num = 1917\n",
    "\n",
    "print(f\"Supuestamente es un {int(y[num])}\")\n",
    "\n",
    "img = X[num].reshape(28, 28)\n",
    "plt.imshow(img, cmap=\"Greys\")\n"
   ]
  },
  {
   "cell_type": "markdown",
   "metadata": {},
   "source": [
    "### Balance de clases\n",
    "\n",
    "¿Tenemos la misma cantidad de cada número?"
   ]
  },
  {
   "cell_type": "code",
   "execution_count": null,
   "metadata": {},
   "outputs": [],
   "source": [
    "df_train[\"label\"].value_counts(normalize=True)"
   ]
  },
  {
   "cell_type": "markdown",
   "metadata": {},
   "source": [
    "No: tenemos más 1 que 5, pero tampoco está tan desbalanceado"
   ]
  },
  {
   "cell_type": "markdown",
   "metadata": {},
   "source": [
    "### Conjunto de development"
   ]
  },
  {
   "cell_type": "code",
   "execution_count": null,
   "metadata": {},
   "outputs": [],
   "source": [
    "limit = int(0.8 * X.shape[0]) \n",
    "\n",
    "X_train, y_train = X[:limit], y[:limit]\n",
    "X_val, y_val = X[limit:], y[limit:]\n",
    "\n",
    "assert len(X_train) == len(y_train)\n",
    "assert len(X_val) == len(y_val)\n",
    "\n",
    "print(f\"Ahora tengo {len(X_train)} instancias de entrenamiento y {len(X_val)} de validación\")\n"
   ]
  },
  {
   "cell_type": "code",
   "execution_count": null,
   "metadata": {},
   "outputs": [],
   "source": [
    "from sklearn.neighbors import KNeighborsClassifier\n",
    "\n",
    "# Acá pueden cambiar el clasificador nuestro por el de sklearn!\n",
    "\n",
    "clf = metnum.KNNClassifier(100)\n",
    "#clf = KNeighborsClassifier(100)\n",
    "\n",
    "clf.fit(X_train, y_train)\n"
   ]
  },
  {
   "cell_type": "code",
   "execution_count": null,
   "metadata": {},
   "outputs": [],
   "source": [
    "%%time\n",
    "from sklearn.metrics import accuracy_score, recall_score, precision_score\n",
    "\n",
    "y_pred = clf.predict(X_val)\n",
    "\n",
    "acc = accuracy_score(y_val, y_pred)\n",
    "rec = recall_score(y_val, y_pred, average='macro')\n",
    "prec = precision_score(y_val, y_pred, average='macro')\n",
    "\n",
    "print(\"Accuracy: {}\".format(acc))\n",
    "print(\"Recall: {}\".format(rec))\n",
    "print(\"Precision: {}\".format(prec))\n",
    "k_range = range(1,16)\n",
    "scores = []\n",
    "for k in k_range:\n",
    "    knn = KNeighborsClassifier(n_neighbors = k)\n",
    "    knn.fit(X_train, y_train.ravel())\n",
    "    scores.append(knn.score(X_val, y_val))\n",
    "plt.figure()\n",
    "plt.xlabel('k')\n",
    "plt.ylabel('accuracy')\n",
    "plt.scatter(k_range, scores)\n",
    "plt.xticks([0,1,2,3,4,5,6,7,8,9,10,11,12,13,14,15,16])\n"
   ]
  }
 ],
 "metadata": {
  "kernelspec": {
   "display_name": "Python 3 (ipykernel)",
   "language": "python",
   "name": "python3"
  },
  "language_info": {
   "codemirror_mode": {
    "name": "ipython",
    "version": 3
   },
   "file_extension": ".py",
   "mimetype": "text/x-python",
   "name": "python",
   "nbconvert_exporter": "python",
   "pygments_lexer": "ipython3",
   "version": "3.9.7"
  }
 },
 "nbformat": 4,
 "nbformat_minor": 4
}

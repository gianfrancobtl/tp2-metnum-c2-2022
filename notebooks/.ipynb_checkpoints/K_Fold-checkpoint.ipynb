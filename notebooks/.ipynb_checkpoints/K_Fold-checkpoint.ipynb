{
 "cells": [
  {
   "cell_type": "code",
   "execution_count": 4,
   "metadata": {},
   "outputs": [
    {
     "name": "stdout",
     "output_type": "stream",
     "text": [
      "mkdir: build: File exists\n",
      "-- The C compiler identification is AppleClang 13.0.0.13000029\n",
      "-- The CXX compiler identification is AppleClang 13.0.0.13000029\n",
      "-- Detecting C compiler ABI info\n",
      "-- Detecting C compiler ABI info - done\n",
      "-- Check for working C compiler: /Library/Developer/CommandLineTools/usr/bin/cc - skipped\n",
      "-- Detecting C compile features\n",
      "-- Detecting C compile features - done\n",
      "-- Detecting CXX compiler ABI info\n",
      "-- Detecting CXX compiler ABI info - done\n",
      "-- Check for working CXX compiler: /Library/Developer/CommandLineTools/usr/bin/c++ - skipped\n",
      "-- Detecting CXX compile features\n",
      "-- Detecting CXX compile features - done\n",
      "\u001b[0mRelease mode\u001b[0m\n",
      "-- Found PythonInterp: /Users/fcastagna/opt/miniconda3/envs/metnum-tp2/bin/python3 (found version \"3.9.7\") \n",
      "-- Found PythonLibs: /Users/fcastagna/opt/miniconda3/envs/metnum-tp2/lib/libpython3.9.dylib\n",
      "-- pybind11 v2.2.4\n",
      "-- Performing Test HAS_FLTO\n",
      "-- Performing Test HAS_FLTO - Success\n",
      "-- LTO enabled\n",
      "\u001b[0mCMAKE_INSTALL_PREFIX=/Users/fcastagna/facu/metodos-tp-2/metodos-tp2\u001b[0m\n",
      "-- Configuring done\n",
      "-- Generating done\n",
      "-- Build files have been written to: /Users/fcastagna/facu/metodos-tp-2/metodos-tp2/build\n",
      "[ 10%] \u001b[32mBuilding CXX object CMakeFiles/metnum.dir/src/metnum.cpp.o\u001b[0m\n",
      "In file included from /Users/fcastagna/facu/metodos-tp-2/metodos-tp2/src/metnum.cpp:1:\n",
      "In file included from /Users/fcastagna/facu/metodos-tp-2/metodos-tp2/pybind11/include/pybind11/pybind11.h:43:\n",
      "In file included from /Users/fcastagna/facu/metodos-tp-2/metodos-tp2/pybind11/include/pybind11/attr.h:13:\n",
      "In file included from /Users/fcastagna/facu/metodos-tp-2/metodos-tp2/pybind11/include/pybind11/cast.h:16:\n",
      "\u001b[1m/Users/fcastagna/facu/metodos-tp-2/metodos-tp2/pybind11/include/pybind11/detail/internals.h:194:9: \u001b[0m\u001b[0;1;35mwarning: \u001b[0m\u001b[1m'PyEval_InitThreads' is deprecated [-Wdeprecated-declarations]\u001b[0m\n",
      "        PyEval_InitThreads();\n",
      "\u001b[0;1;32m        ^\n",
      "\u001b[0m\u001b[1m/Users/fcastagna/opt/miniconda3/envs/metnum-tp2/include/python3.9/ceval.h:130:1: \u001b[0m\u001b[0;1;30mnote: \u001b[0m'PyEval_InitThreads' has been explicitly marked deprecated here\u001b[0m\n",
      "Py_DEPRECATED(3.9) PyAPI_FUNC(void) PyEval_InitThreads(void);\n",
      "\u001b[0;1;32m^\n",
      "\u001b[0m\u001b[1m/Users/fcastagna/opt/miniconda3/envs/metnum-tp2/include/python3.9/pyport.h:508:54: \u001b[0m\u001b[0;1;30mnote: \u001b[0mexpanded from macro 'Py_DEPRECATED'\u001b[0m\n",
      "#define Py_DEPRECATED(VERSION_UNUSED) __attribute__((__deprecated__))\n",
      "\u001b[0;1;32m                                                     ^\n",
      "\u001b[0mIn file included from /Users/fcastagna/facu/metodos-tp-2/metodos-tp2/src/metnum.cpp:1:\n",
      "\u001b[1m/Users/fcastagna/facu/metodos-tp-2/metodos-tp2/pybind11/include/pybind11/pybind11.h:1060:9: \u001b[0m\u001b[0;1;35mwarning: \u001b[0m\u001b[1mexpression result unused [-Wunused-value]\u001b[0m\n",
      "        PYBIND11_EXPAND_SIDE_EFFECTS(add_base<options>(record));\n",
      "\u001b[0;1;32m        ^~~~~~~~~~~~~~~~~~~~~~~~~~~~~~~~~~~~~~~~~~~~~~~~~~~~~~~\n",
      "\u001b[0m\u001b[1m/Users/fcastagna/facu/metodos-tp-2/metodos-tp2/pybind11/include/pybind11/detail/common.h:651:47: \u001b[0m\u001b[0;1;30mnote: \u001b[0mexpanded from macro 'PYBIND11_EXPAND_SIDE_EFFECTS'\u001b[0m\n",
      "#define PYBIND11_EXPAND_SIDE_EFFECTS(PATTERN) pybind11::detail::expand_side_effects{ ((PATTERN), void(), false)..., false }\n",
      "\u001b[0;1;32m                                              ^                                    ~~~~~~~~~~~~~~~~~~~~~~~~~~~~~~~~~~~~~~~~\n",
      "\u001b[0m\u001b[1m/Users/fcastagna/facu/metodos-tp-2/metodos-tp2/src/metnum.cpp:11:5: \u001b[0m\u001b[0;1;30mnote: \u001b[0min instantiation of function template specialization 'pybind11::class_<KNNClassifier>::class_<>' requested here\u001b[0m\n",
      "    py::class_<KNNClassifier>(m, \"KNNClassifier\")\n",
      "\u001b[0;1;32m    ^\n",
      "\u001b[0mIn file included from /Users/fcastagna/facu/metodos-tp-2/metodos-tp2/src/metnum.cpp:1:\n",
      "\u001b[1m/Users/fcastagna/facu/metodos-tp-2/metodos-tp2/pybind11/include/pybind11/pybind11.h:1060:9: \u001b[0m\u001b[0;1;35mwarning: \u001b[0m\u001b[1mexpression result unused [-Wunused-value]\u001b[0m\n",
      "        PYBIND11_EXPAND_SIDE_EFFECTS(add_base<options>(record));\n",
      "\u001b[0;1;32m        ^~~~~~~~~~~~~~~~~~~~~~~~~~~~~~~~~~~~~~~~~~~~~~~~~~~~~~~\n",
      "\u001b[0m\u001b[1m/Users/fcastagna/facu/metodos-tp-2/metodos-tp2/pybind11/include/pybind11/detail/common.h:651:47: \u001b[0m\u001b[0;1;30mnote: \u001b[0mexpanded from macro 'PYBIND11_EXPAND_SIDE_EFFECTS'\u001b[0m\n",
      "#define PYBIND11_EXPAND_SIDE_EFFECTS(PATTERN) pybind11::detail::expand_side_effects{ ((PATTERN), void(), false)..., false }\n",
      "\u001b[0;1;32m                                              ^                                    ~~~~~~~~~~~~~~~~~~~~~~~~~~~~~~~~~~~~~~~~\n",
      "\u001b[0m\u001b[1m/Users/fcastagna/facu/metodos-tp-2/metodos-tp2/src/metnum.cpp:16:5: \u001b[0m\u001b[0;1;30mnote: \u001b[0min instantiation of function template specialization 'pybind11::class_<PCA>::class_<>' requested here\u001b[0m\n",
      "    py::class_<PCA>(m, \"PCA\")\n",
      "\u001b[0;1;32m    ^\n",
      "\u001b[0m3 warnings generated.\n",
      "[ 20%] \u001b[32mBuilding CXX object CMakeFiles/metnum.dir/src/knn.cpp.o\u001b[0m\n",
      "[ 30%] \u001b[32mBuilding CXX object CMakeFiles/metnum.dir/src/pca.cpp.o\u001b[0m\n",
      "[ 40%] \u001b[32mBuilding CXX object CMakeFiles/metnum.dir/src/eigen.cpp.o\u001b[0m\n",
      "[ 50%] \u001b[32m\u001b[1mLinking CXX shared module metnum.cpython-39-darwin.so\u001b[0m\n",
      "[ 50%] Built target metnum\n",
      "[ 60%] \u001b[32mBuilding CXX object CMakeFiles/tp2.dir/src/main.cpp.o\u001b[0m\n",
      "[ 70%] \u001b[32mBuilding CXX object CMakeFiles/tp2.dir/src/knn.cpp.o\u001b[0m\n",
      "[ 80%] \u001b[32mBuilding CXX object CMakeFiles/tp2.dir/src/pca.cpp.o\u001b[0m\n",
      "[ 90%] \u001b[32mBuilding CXX object CMakeFiles/tp2.dir/src/eigen.cpp.o\u001b[0m\n",
      "[100%] \u001b[32m\u001b[1mLinking CXX executable tp2\u001b[0m\n",
      "[100%] Built target tp2\n",
      "\u001b[36mInstall the project...\u001b[0m\n",
      "-- Install configuration: \"Release\"\n",
      "-- Installing: /Users/fcastagna/facu/metodos-tp-2/metodos-tp2/notebooks/metnum.cpython-39-darwin.so\n",
      "/Users/fcastagna/facu/metodos-tp-2/metodos-tp2/notebooks\n",
      "Python 3.9.7\n"
     ]
    }
   ],
   "source": [
    "!cd .. && mkdir build\n",
    "!cd ../build/ && rm -rf *\n",
    "!cd ../build && cmake \\\n",
    "  -DPYTHON_EXECUTABLE=\"$(which python3)\" \\\n",
    "  -DCMAKE_BUILD_TYPE=Release ..\n",
    "!cd ../build && make install\n",
    "\n",
    "# Verifico la correcta instalación. Si no falla el import está OK\n",
    "!pwd\n",
    "!python3 --version"
   ]
  },
  {
   "cell_type": "code",
   "execution_count": 8,
   "metadata": {},
   "outputs": [],
   "source": [
    "import matplotlib.pyplot as plt\n",
    "import pandas as pd\n",
    "import numpy as np\n",
    "import metnum as mt\n",
    "import os\n",
    "import seaborn as sns\n",
    "from datetime import datetime\n",
    "from sklearn.neighbors import KNeighborsClassifier\n",
    "from sklearn.metrics import accuracy_score\n",
    "from sklearn.metrics import cohen_kappa_score\n",
    "from sklearn.model_selection import KFold\n",
    "from tqdm import tqdm\n",
    "\n",
    "#percentage over total of train cases\n",
    "PERCENTAGE_OF_TRAIN_CASES = 0.1\n",
    "#neighbors for finding the mode in KNN\n",
    "N_NEIGHBORS = 1\n",
    "#components for PCA\n",
    "N_COMPONENTS=40\n",
    "#number of iterations to find eigenvalues and eigenvectors in power iteration\n",
    "N_ITERATIONS=5000\n",
    "#epsilon for power iteration\n",
    "EPSILON=1e-10"
   ]
  },
  {
   "cell_type": "code",
   "execution_count": 9,
   "metadata": {},
   "outputs": [
    {
     "name": "stdout",
     "output_type": "stream",
     "text": [
      "The autoreload extension is already loaded. To reload it, use:\n",
      "  %reload_ext autoreload\n",
      "Instancias de entrenamiento: 3360\n",
      "Instancias de validación: 840\n"
     ]
    }
   ],
   "source": [
    "#directory for saving matrix files\n",
    "timestamp = datetime.now().strftime(\"%m_%d_%H_%M_%S\")\n",
    "DIRECTORY_NAME=\"{}\".format(timestamp)\n",
    "os.makedirs(DIRECTORY_NAME+\"/\", exist_ok=True)\n",
    "\n",
    "%load_ext autoreload\n",
    "%autoreload 2\n",
    "\n",
    "df_train = pd.read_csv(\"../data/train.csv\")\n",
    "\n",
    "TOTAL_TRAIN_CASES = int(PERCENTAGE_OF_TRAIN_CASES*len(df_train))\n",
    "\n",
    "#shuffle the train cases.\n",
    "df_train = df_train[0: TOTAL_TRAIN_CASES].sample(frac=1)\n",
    "\n",
    "# Uso values para mandar todo a arrays de numpy\n",
    "X = df_train[df_train.columns[1:]].values\n",
    "y = df_train[\"label\"].values.reshape(-1, 1)\n",
    "\n",
    "limit = int(0.8 * X.shape[0]) \n",
    "\n",
    "X_train, y_train = X[:limit], y[:limit]\n",
    "X_val, y_val = X[limit:], y[limit:]\n",
    "\n",
    "assert len(X_train) == len(y_train)\n",
    "assert len(X_val) == len(y_val)\n",
    "print(f\"Instancias de entrenamiento: {len(X_train)}\")\n",
    "print(f\"Instancias de validación: {len(X_val)}\")"
   ]
  },
  {
   "cell_type": "code",
   "execution_count": 10,
   "metadata": {},
   "outputs": [],
   "source": [
    "from sklearn.neighbors import KNeighborsClassifier\n",
    "from sklearn.metrics import accuracy_score\n",
    "\n",
    "# Acá pueden cambiar el clasificador nuestro por el de sklearn!\n",
    "\n",
    "def knn_pca_exp(k,c,X_train,X_val,y_train,y_val):\n",
    "    \n",
    "    if (c >= 0):\n",
    "        pca = mt.PCA(c)\n",
    "\n",
    "        pca.fit(X_train)\n",
    "        X_train = pca.transform(X_train);\n",
    "        X_val = pca.transform(X_val)\n",
    "\n",
    "    clf = mt.KNNClassifier(k)\n",
    "    clf.fit(X_train, y_train)\n",
    "        \n",
    "    # %%time\n",
    "    \n",
    "    y_pred = clf.predict(X_val)\n",
    "    acc = accuracy_score(y_val, y_pred)\n",
    "    \n",
    "    return acc"
   ]
  },
  {
   "cell_type": "code",
   "execution_count": 11,
   "metadata": {},
   "outputs": [
    {
     "name": "stdout",
     "output_type": "stream",
     "text": [
      "PCA::fit 0\n",
      "PCA::fit 1\n",
      "PCA::fit 2\n",
      "PCA::fit 3\n"
     ]
    },
    {
     "data": {
      "text/plain": [
       "0.9261904761904762"
      ]
     },
     "execution_count": 11,
     "metadata": {},
     "output_type": "execute_result"
    }
   ],
   "source": [
    "#Individual Tests\n",
    "\n",
    "knn_pca_exp(N_NEIGHBORS,N_COMPONENTS,X_train,X_val,y_train,y_val)\n",
    "\n",
    "\n"
   ]
  },
  {
   "cell_type": "markdown",
   "metadata": {},
   "source": [
    "## Experimentación 3-Fold cross-validation "
   ]
  },
  {
   "cell_type": "code",
   "execution_count": 12,
   "metadata": {},
   "outputs": [
    {
     "name": "stderr",
     "output_type": "stream",
     "text": [
      "  0%|                                                                                                                                    | 0/3 [00:00<?, ?it/s]"
     ]
    },
    {
     "name": "stdout",
     "output_type": "stream",
     "text": [
      "i  0 Neighbour  1 Component  1\n",
      "PCA::fit 0\n",
      "PCA::fit 1\n",
      "PCA::fit 2\n",
      "PCA::fit 3\n"
     ]
    },
    {
     "name": "stderr",
     "output_type": "stream",
     "text": [
      " 33%|█████████████████████████████████████████▎                                                                                  | 1/3 [00:00<00:01,  1.57it/s]"
     ]
    },
    {
     "name": "stdout",
     "output_type": "stream",
     "text": [
      "i  1 Neighbour  1 Component  1\n",
      "PCA::fit 0\n",
      "PCA::fit 1\n",
      "PCA::fit 2\n",
      "PCA::fit 3\n"
     ]
    },
    {
     "name": "stderr",
     "output_type": "stream",
     "text": [
      " 67%|██████████████████████████████████████████████████████████████████████████████████▋                                         | 2/3 [00:01<00:00,  1.67it/s]"
     ]
    },
    {
     "name": "stdout",
     "output_type": "stream",
     "text": [
      "i  2 Neighbour  1 Component  1\n",
      "PCA::fit 0\n",
      "PCA::fit 1\n",
      "PCA::fit 2\n",
      "PCA::fit 3\n"
     ]
    },
    {
     "name": "stderr",
     "output_type": "stream",
     "text": [
      "100%|████████████████████████████████████████████████████████████████████████████████████████████████████████████████████████████| 3/3 [00:01<00:00,  1.69it/s]\n",
      "  0%|                                                                                                                                    | 0/3 [00:00<?, ?it/s]"
     ]
    },
    {
     "name": "stdout",
     "output_type": "stream",
     "text": [
      "i  0 Neighbour  3 Component  1\n",
      "PCA::fit 0\n",
      "PCA::fit 1\n",
      "PCA::fit 2\n",
      "PCA::fit 3\n"
     ]
    },
    {
     "name": "stderr",
     "output_type": "stream",
     "text": [
      " 33%|█████████████████████████████████████████▎                                                                                  | 1/3 [00:00<00:01,  1.77it/s]"
     ]
    },
    {
     "name": "stdout",
     "output_type": "stream",
     "text": [
      "i  1 Neighbour  3 Component  1\n",
      "PCA::fit 0\n",
      "PCA::fit 1\n",
      "PCA::fit 2\n",
      "PCA::fit 3\n"
     ]
    },
    {
     "name": "stderr",
     "output_type": "stream",
     "text": [
      " 67%|██████████████████████████████████████████████████████████████████████████████████▋                                         | 2/3 [00:01<00:00,  1.67it/s]"
     ]
    },
    {
     "name": "stdout",
     "output_type": "stream",
     "text": [
      "i  2 Neighbour  3 Component  1\n",
      "PCA::fit 0\n",
      "PCA::fit 1\n",
      "PCA::fit 2\n",
      "PCA::fit 3\n"
     ]
    },
    {
     "name": "stderr",
     "output_type": "stream",
     "text": [
      "100%|████████████████████████████████████████████████████████████████████████████████████████████████████████████████████████████| 3/3 [00:01<00:00,  1.71it/s]\n",
      "  0%|                                                                                                                                    | 0/3 [00:00<?, ?it/s]"
     ]
    },
    {
     "name": "stdout",
     "output_type": "stream",
     "text": [
      "i  0 Neighbour  5 Component  1\n",
      "PCA::fit 0\n",
      "PCA::fit 1\n",
      "PCA::fit 2\n",
      "PCA::fit 3\n"
     ]
    },
    {
     "name": "stderr",
     "output_type": "stream",
     "text": [
      " 33%|█████████████████████████████████████████▎                                                                                  | 1/3 [00:00<00:01,  1.73it/s]"
     ]
    },
    {
     "name": "stdout",
     "output_type": "stream",
     "text": [
      "i  1 Neighbour  5 Component  1\n",
      "PCA::fit 0\n",
      "PCA::fit 1\n",
      "PCA::fit 2\n",
      "PCA::fit 3\n"
     ]
    },
    {
     "name": "stderr",
     "output_type": "stream",
     "text": [
      " 67%|██████████████████████████████████████████████████████████████████████████████████▋                                         | 2/3 [00:01<00:00,  1.74it/s]"
     ]
    },
    {
     "name": "stdout",
     "output_type": "stream",
     "text": [
      "i  2 Neighbour  5 Component  1\n",
      "PCA::fit 0\n",
      "PCA::fit 1\n",
      "PCA::fit 2\n",
      "PCA::fit 3\n"
     ]
    },
    {
     "name": "stderr",
     "output_type": "stream",
     "text": [
      "100%|████████████████████████████████████████████████████████████████████████████████████████████████████████████████████████████| 3/3 [00:01<00:00,  1.74it/s]\n",
      "  0%|                                                                                                                                    | 0/3 [00:00<?, ?it/s]"
     ]
    },
    {
     "name": "stdout",
     "output_type": "stream",
     "text": [
      "i  0 Neighbour  7 Component  1\n",
      "PCA::fit 0\n",
      "PCA::fit 1\n",
      "PCA::fit 2\n",
      "PCA::fit 3\n"
     ]
    },
    {
     "name": "stderr",
     "output_type": "stream",
     "text": [
      " 33%|█████████████████████████████████████████▎                                                                                  | 1/3 [00:00<00:01,  1.77it/s]"
     ]
    },
    {
     "name": "stdout",
     "output_type": "stream",
     "text": [
      "i  1 Neighbour  7 Component  1\n",
      "PCA::fit 0\n",
      "PCA::fit 1\n",
      "PCA::fit 2\n",
      "PCA::fit 3\n"
     ]
    },
    {
     "name": "stderr",
     "output_type": "stream",
     "text": [
      " 67%|██████████████████████████████████████████████████████████████████████████████████▋                                         | 2/3 [00:01<00:00,  1.76it/s]"
     ]
    },
    {
     "name": "stdout",
     "output_type": "stream",
     "text": [
      "i  2 Neighbour  7 Component  1\n",
      "PCA::fit 0\n",
      "PCA::fit 1\n",
      "PCA::fit 2\n",
      "PCA::fit 3\n"
     ]
    },
    {
     "name": "stderr",
     "output_type": "stream",
     "text": [
      "100%|████████████████████████████████████████████████████████████████████████████████████████████████████████████████████████████| 3/3 [00:01<00:00,  1.75it/s]\n",
      "  0%|                                                                                                                                    | 0/3 [00:00<?, ?it/s]"
     ]
    },
    {
     "name": "stdout",
     "output_type": "stream",
     "text": [
      "i  0 Neighbour  9 Component  1\n",
      "PCA::fit 0\n",
      "PCA::fit 1\n",
      "PCA::fit 2\n",
      "PCA::fit 3\n"
     ]
    },
    {
     "name": "stderr",
     "output_type": "stream",
     "text": [
      " 33%|█████████████████████████████████████████▎                                                                                  | 1/3 [00:00<00:01,  1.76it/s]"
     ]
    },
    {
     "name": "stdout",
     "output_type": "stream",
     "text": [
      "i  1 Neighbour  9 Component  1\n",
      "PCA::fit 0\n",
      "PCA::fit 1\n",
      "PCA::fit 2\n",
      "PCA::fit 3\n"
     ]
    },
    {
     "name": "stderr",
     "output_type": "stream",
     "text": [
      " 67%|██████████████████████████████████████████████████████████████████████████████████▋                                         | 2/3 [00:01<00:00,  1.73it/s]"
     ]
    },
    {
     "name": "stdout",
     "output_type": "stream",
     "text": [
      "i  2 Neighbour  9 Component  1\n",
      "PCA::fit 0\n",
      "PCA::fit 1\n",
      "PCA::fit 2\n",
      "PCA::fit 3\n"
     ]
    },
    {
     "name": "stderr",
     "output_type": "stream",
     "text": [
      "100%|████████████████████████████████████████████████████████████████████████████████████████████████████████████████████████████| 3/3 [00:01<00:00,  1.73it/s]\n",
      "  0%|                                                                                                                                    | 0/3 [00:00<?, ?it/s]"
     ]
    },
    {
     "name": "stdout",
     "output_type": "stream",
     "text": [
      "i  0 Neighbour  11 Component  1\n",
      "PCA::fit 0\n",
      "PCA::fit 1\n",
      "PCA::fit 2\n",
      "PCA::fit 3\n"
     ]
    },
    {
     "name": "stderr",
     "output_type": "stream",
     "text": [
      " 33%|█████████████████████████████████████████▎                                                                                  | 1/3 [00:00<00:01,  1.74it/s]"
     ]
    },
    {
     "name": "stdout",
     "output_type": "stream",
     "text": [
      "i  1 Neighbour  11 Component  1\n",
      "PCA::fit 0\n",
      "PCA::fit 1\n",
      "PCA::fit 2\n",
      "PCA::fit 3\n"
     ]
    },
    {
     "name": "stderr",
     "output_type": "stream",
     "text": [
      " 67%|██████████████████████████████████████████████████████████████████████████████████▋                                         | 2/3 [00:01<00:00,  1.73it/s]"
     ]
    },
    {
     "name": "stdout",
     "output_type": "stream",
     "text": [
      "i  2 Neighbour  11 Component  1\n",
      "PCA::fit 0\n",
      "PCA::fit 1\n",
      "PCA::fit 2\n",
      "PCA::fit 3\n"
     ]
    },
    {
     "name": "stderr",
     "output_type": "stream",
     "text": [
      "100%|████████████████████████████████████████████████████████████████████████████████████████████████████████████████████████████| 3/3 [00:01<00:00,  1.74it/s]\n",
      "  0%|                                                                                                                                    | 0/3 [00:00<?, ?it/s]"
     ]
    },
    {
     "name": "stdout",
     "output_type": "stream",
     "text": [
      "i  0 Neighbour  13 Component  1\n",
      "PCA::fit 0\n",
      "PCA::fit 1\n",
      "PCA::fit 2\n",
      "PCA::fit 3\n"
     ]
    },
    {
     "name": "stderr",
     "output_type": "stream",
     "text": [
      " 33%|█████████████████████████████████████████▎                                                                                  | 1/3 [00:00<00:01,  1.75it/s]"
     ]
    },
    {
     "name": "stdout",
     "output_type": "stream",
     "text": [
      "i  1 Neighbour  13 Component  1\n",
      "PCA::fit 0\n",
      "PCA::fit 1\n",
      "PCA::fit 2\n",
      "PCA::fit 3\n"
     ]
    },
    {
     "name": "stderr",
     "output_type": "stream",
     "text": [
      " 67%|██████████████████████████████████████████████████████████████████████████████████▋                                         | 2/3 [00:01<00:00,  1.74it/s]"
     ]
    },
    {
     "name": "stdout",
     "output_type": "stream",
     "text": [
      "i  2 Neighbour  13 Component  1\n",
      "PCA::fit 0\n",
      "PCA::fit 1\n",
      "PCA::fit 2\n",
      "PCA::fit 3\n"
     ]
    },
    {
     "name": "stderr",
     "output_type": "stream",
     "text": [
      "100%|████████████████████████████████████████████████████████████████████████████████████████████████████████████████████████████| 3/3 [00:01<00:00,  1.74it/s]\n",
      "  0%|                                                                                                                                    | 0/3 [00:00<?, ?it/s]"
     ]
    },
    {
     "name": "stdout",
     "output_type": "stream",
     "text": [
      "i  0 Neighbour  15 Component  1\n",
      "PCA::fit 0\n",
      "PCA::fit 1\n",
      "PCA::fit 2\n",
      "PCA::fit 3\n"
     ]
    },
    {
     "name": "stderr",
     "output_type": "stream",
     "text": [
      " 33%|█████████████████████████████████████████▎                                                                                  | 1/3 [00:00<00:01,  1.73it/s]"
     ]
    },
    {
     "name": "stdout",
     "output_type": "stream",
     "text": [
      "i  1 Neighbour  15 Component  1\n",
      "PCA::fit 0\n",
      "PCA::fit 1\n",
      "PCA::fit 2\n",
      "PCA::fit 3\n"
     ]
    },
    {
     "name": "stderr",
     "output_type": "stream",
     "text": [
      " 67%|██████████████████████████████████████████████████████████████████████████████████▋                                         | 2/3 [00:01<00:00,  1.76it/s]"
     ]
    },
    {
     "name": "stdout",
     "output_type": "stream",
     "text": [
      "i  2 Neighbour  15 Component  1\n",
      "PCA::fit 0\n",
      "PCA::fit 1\n",
      "PCA::fit 2\n",
      "PCA::fit 3\n"
     ]
    },
    {
     "name": "stderr",
     "output_type": "stream",
     "text": [
      "100%|████████████████████████████████████████████████████████████████████████████████████████████████████████████████████████████| 3/3 [00:01<00:00,  1.75it/s]\n",
      "  0%|                                                                                                                                    | 0/3 [00:00<?, ?it/s]"
     ]
    },
    {
     "name": "stdout",
     "output_type": "stream",
     "text": [
      "i  0 Neighbour  25 Component  1\n",
      "PCA::fit 0\n",
      "PCA::fit 1\n",
      "PCA::fit 2\n",
      "PCA::fit 3\n"
     ]
    },
    {
     "name": "stderr",
     "output_type": "stream",
     "text": [
      " 33%|█████████████████████████████████████████▎                                                                                  | 1/3 [00:00<00:01,  1.79it/s]"
     ]
    },
    {
     "name": "stdout",
     "output_type": "stream",
     "text": [
      "i  1 Neighbour  25 Component  1\n",
      "PCA::fit 0\n",
      "PCA::fit 1\n",
      "PCA::fit 2\n",
      "PCA::fit 3\n"
     ]
    },
    {
     "name": "stderr",
     "output_type": "stream",
     "text": [
      " 67%|██████████████████████████████████████████████████████████████████████████████████▋                                         | 2/3 [00:01<00:00,  1.78it/s]"
     ]
    },
    {
     "name": "stdout",
     "output_type": "stream",
     "text": [
      "i  2 Neighbour  25 Component  1\n",
      "PCA::fit 0\n",
      "PCA::fit 1\n",
      "PCA::fit 2\n",
      "PCA::fit 3\n"
     ]
    },
    {
     "name": "stderr",
     "output_type": "stream",
     "text": [
      "100%|████████████████████████████████████████████████████████████████████████████████████████████████████████████████████████████| 3/3 [00:01<00:00,  1.78it/s]\n",
      "  0%|                                                                                                                                    | 0/3 [00:00<?, ?it/s]"
     ]
    },
    {
     "name": "stdout",
     "output_type": "stream",
     "text": [
      "i  0 Neighbour  35 Component  1\n",
      "PCA::fit 0\n",
      "PCA::fit 1\n",
      "PCA::fit 2\n",
      "PCA::fit 3\n"
     ]
    },
    {
     "name": "stderr",
     "output_type": "stream",
     "text": [
      " 33%|█████████████████████████████████████████▎                                                                                  | 1/3 [00:00<00:01,  1.78it/s]"
     ]
    },
    {
     "name": "stdout",
     "output_type": "stream",
     "text": [
      "i  1 Neighbour  35 Component  1\n",
      "PCA::fit 0\n",
      "PCA::fit 1\n",
      "PCA::fit 2\n",
      "PCA::fit 3\n"
     ]
    },
    {
     "name": "stderr",
     "output_type": "stream",
     "text": [
      " 67%|██████████████████████████████████████████████████████████████████████████████████▋                                         | 2/3 [00:01<00:00,  1.78it/s]"
     ]
    },
    {
     "name": "stdout",
     "output_type": "stream",
     "text": [
      "i  2 Neighbour  35 Component  1\n",
      "PCA::fit 0\n",
      "PCA::fit 1\n",
      "PCA::fit 2\n",
      "PCA::fit 3\n"
     ]
    },
    {
     "name": "stderr",
     "output_type": "stream",
     "text": [
      "100%|████████████████████████████████████████████████████████████████████████████████████████████████████████████████████████████| 3/3 [00:01<00:00,  1.77it/s]\n",
      "  0%|                                                                                                                                    | 0/3 [00:00<?, ?it/s]"
     ]
    },
    {
     "name": "stdout",
     "output_type": "stream",
     "text": [
      "i  0 Neighbour  45 Component  1\n",
      "PCA::fit 0\n",
      "PCA::fit 1\n",
      "PCA::fit 2\n",
      "PCA::fit 3\n"
     ]
    },
    {
     "name": "stderr",
     "output_type": "stream",
     "text": [
      " 33%|█████████████████████████████████████████▎                                                                                  | 1/3 [00:00<00:01,  1.78it/s]"
     ]
    },
    {
     "name": "stdout",
     "output_type": "stream",
     "text": [
      "i  1 Neighbour  45 Component  1\n",
      "PCA::fit 0\n",
      "PCA::fit 1\n",
      "PCA::fit 2\n",
      "PCA::fit 3\n"
     ]
    },
    {
     "name": "stderr",
     "output_type": "stream",
     "text": [
      " 67%|██████████████████████████████████████████████████████████████████████████████████▋                                         | 2/3 [00:01<00:00,  1.79it/s]"
     ]
    },
    {
     "name": "stdout",
     "output_type": "stream",
     "text": [
      "i  2 Neighbour  45 Component  1\n",
      "PCA::fit 0\n",
      "PCA::fit 1\n",
      "PCA::fit 2\n",
      "PCA::fit 3\n"
     ]
    },
    {
     "name": "stderr",
     "output_type": "stream",
     "text": [
      "100%|████████████████████████████████████████████████████████████████████████████████████████████████████████████████████████████| 3/3 [00:01<00:00,  1.79it/s]\n",
      "  0%|                                                                                                                                    | 0/3 [00:00<?, ?it/s]"
     ]
    },
    {
     "name": "stdout",
     "output_type": "stream",
     "text": [
      "i  0 Neighbour  55 Component  1\n",
      "PCA::fit 0\n",
      "PCA::fit 1\n",
      "PCA::fit 2\n",
      "PCA::fit 3\n"
     ]
    },
    {
     "name": "stderr",
     "output_type": "stream",
     "text": [
      " 33%|█████████████████████████████████████████▎                                                                                  | 1/3 [00:00<00:01,  1.77it/s]"
     ]
    },
    {
     "name": "stdout",
     "output_type": "stream",
     "text": [
      "i  1 Neighbour  55 Component  1\n",
      "PCA::fit 0\n",
      "PCA::fit 1\n",
      "PCA::fit 2\n",
      "PCA::fit 3\n"
     ]
    },
    {
     "name": "stderr",
     "output_type": "stream",
     "text": [
      " 67%|██████████████████████████████████████████████████████████████████████████████████▋                                         | 2/3 [00:01<00:00,  1.78it/s]"
     ]
    },
    {
     "name": "stdout",
     "output_type": "stream",
     "text": [
      "i  2 Neighbour  55 Component  1\n",
      "PCA::fit 0\n",
      "PCA::fit 1\n",
      "PCA::fit 2\n",
      "PCA::fit 3\n"
     ]
    },
    {
     "name": "stderr",
     "output_type": "stream",
     "text": [
      "100%|████████████████████████████████████████████████████████████████████████████████████████████████████████████████████████████| 3/3 [00:01<00:00,  1.78it/s]\n",
      "  0%|                                                                                                                                    | 0/3 [00:00<?, ?it/s]"
     ]
    },
    {
     "name": "stdout",
     "output_type": "stream",
     "text": [
      "i  0 Neighbour  65 Component  1\n",
      "PCA::fit 0\n",
      "PCA::fit 1\n",
      "PCA::fit 2\n",
      "PCA::fit 3\n"
     ]
    },
    {
     "name": "stderr",
     "output_type": "stream",
     "text": [
      " 33%|█████████████████████████████████████████▎                                                                                  | 1/3 [00:00<00:01,  1.79it/s]"
     ]
    },
    {
     "name": "stdout",
     "output_type": "stream",
     "text": [
      "i  1 Neighbour  65 Component  1\n",
      "PCA::fit 0\n",
      "PCA::fit 1\n",
      "PCA::fit 2\n",
      "PCA::fit 3\n"
     ]
    },
    {
     "name": "stderr",
     "output_type": "stream",
     "text": [
      " 67%|██████████████████████████████████████████████████████████████████████████████████▋                                         | 2/3 [00:01<00:00,  1.79it/s]"
     ]
    },
    {
     "name": "stdout",
     "output_type": "stream",
     "text": [
      "i  2 Neighbour  65 Component  1\n",
      "PCA::fit 0\n",
      "PCA::fit 1\n",
      "PCA::fit 2\n",
      "PCA::fit 3\n"
     ]
    },
    {
     "name": "stderr",
     "output_type": "stream",
     "text": [
      "100%|████████████████████████████████████████████████████████████████████████████████████████████████████████████████████████████| 3/3 [00:01<00:00,  1.76it/s]\n",
      "  0%|                                                                                                                                    | 0/3 [00:00<?, ?it/s]"
     ]
    },
    {
     "name": "stdout",
     "output_type": "stream",
     "text": [
      "i  0 Neighbour  75 Component  1\n",
      "PCA::fit 0\n",
      "PCA::fit 1\n",
      "PCA::fit 2\n",
      "PCA::fit 3\n"
     ]
    },
    {
     "name": "stderr",
     "output_type": "stream",
     "text": [
      " 33%|█████████████████████████████████████████▎                                                                                  | 1/3 [00:00<00:01,  1.78it/s]"
     ]
    },
    {
     "name": "stdout",
     "output_type": "stream",
     "text": [
      "i  1 Neighbour  75 Component  1\n",
      "PCA::fit 0\n",
      "PCA::fit 1\n",
      "PCA::fit 2\n",
      "PCA::fit 3\n"
     ]
    },
    {
     "name": "stderr",
     "output_type": "stream",
     "text": [
      " 67%|██████████████████████████████████████████████████████████████████████████████████▋                                         | 2/3 [00:01<00:00,  1.78it/s]"
     ]
    },
    {
     "name": "stdout",
     "output_type": "stream",
     "text": [
      "i  2 Neighbour  75 Component  1\n",
      "PCA::fit 0\n",
      "PCA::fit 1\n",
      "PCA::fit 2\n",
      "PCA::fit 3\n"
     ]
    },
    {
     "name": "stderr",
     "output_type": "stream",
     "text": [
      "100%|████████████████████████████████████████████████████████████████████████████████████████████████████████████████████████████| 3/3 [00:01<00:00,  1.78it/s]\n",
      "  0%|                                                                                                                                    | 0/3 [00:00<?, ?it/s]"
     ]
    },
    {
     "name": "stdout",
     "output_type": "stream",
     "text": [
      "i  0 Neighbour  85 Component  1\n",
      "PCA::fit 0\n",
      "PCA::fit 1\n",
      "PCA::fit 2\n",
      "PCA::fit 3\n"
     ]
    },
    {
     "name": "stderr",
     "output_type": "stream",
     "text": [
      " 33%|█████████████████████████████████████████▎                                                                                  | 1/3 [00:00<00:01,  1.76it/s]"
     ]
    },
    {
     "name": "stdout",
     "output_type": "stream",
     "text": [
      "i  1 Neighbour  85 Component  1\n",
      "PCA::fit 0\n",
      "PCA::fit 1\n",
      "PCA::fit 2\n",
      "PCA::fit 3\n"
     ]
    },
    {
     "name": "stderr",
     "output_type": "stream",
     "text": [
      " 67%|██████████████████████████████████████████████████████████████████████████████████▋                                         | 2/3 [00:01<00:00,  1.77it/s]"
     ]
    },
    {
     "name": "stdout",
     "output_type": "stream",
     "text": [
      "i  2 Neighbour  85 Component  1\n",
      "PCA::fit 0\n",
      "PCA::fit 1\n",
      "PCA::fit 2\n",
      "PCA::fit 3\n"
     ]
    },
    {
     "name": "stderr",
     "output_type": "stream",
     "text": [
      "100%|████████████████████████████████████████████████████████████████████████████████████████████████████████████████████████████| 3/3 [00:01<00:00,  1.76it/s]\n",
      "  0%|                                                                                                                                    | 0/3 [00:00<?, ?it/s]"
     ]
    },
    {
     "name": "stdout",
     "output_type": "stream",
     "text": [
      "i  0 Neighbour  95 Component  1\n",
      "PCA::fit 0\n",
      "PCA::fit 1\n",
      "PCA::fit 2\n",
      "PCA::fit 3\n"
     ]
    },
    {
     "name": "stderr",
     "output_type": "stream",
     "text": [
      " 33%|█████████████████████████████████████████▎                                                                                  | 1/3 [00:00<00:01,  1.79it/s]"
     ]
    },
    {
     "name": "stdout",
     "output_type": "stream",
     "text": [
      "i  1 Neighbour  95 Component  1\n",
      "PCA::fit 0\n",
      "PCA::fit 1\n",
      "PCA::fit 2\n",
      "PCA::fit 3\n"
     ]
    },
    {
     "name": "stderr",
     "output_type": "stream",
     "text": [
      " 67%|██████████████████████████████████████████████████████████████████████████████████▋                                         | 2/3 [00:01<00:00,  1.78it/s]"
     ]
    },
    {
     "name": "stdout",
     "output_type": "stream",
     "text": [
      "i  2 Neighbour  95 Component  1\n",
      "PCA::fit 0\n",
      "PCA::fit 1\n",
      "PCA::fit 2\n",
      "PCA::fit 3\n"
     ]
    },
    {
     "name": "stderr",
     "output_type": "stream",
     "text": [
      "100%|████████████████████████████████████████████████████████████████████████████████████████████████████████████████████████████| 3/3 [00:01<00:00,  1.77it/s]\n",
      "  0%|                                                                                                                                    | 0/3 [00:00<?, ?it/s]"
     ]
    },
    {
     "name": "stdout",
     "output_type": "stream",
     "text": [
      "i  0 Neighbour  1 Component  2\n",
      "PCA::fit 0\n",
      "PCA::fit 1\n",
      "PCA::fit 2\n",
      "PCA::fit 3\n"
     ]
    },
    {
     "name": "stderr",
     "output_type": "stream",
     "text": [
      " 33%|█████████████████████████████████████████▎                                                                                  | 1/3 [00:00<00:01,  1.74it/s]"
     ]
    },
    {
     "name": "stdout",
     "output_type": "stream",
     "text": [
      "i  1 Neighbour  1 Component  2\n",
      "PCA::fit 0\n",
      "PCA::fit 1\n",
      "PCA::fit 2\n",
      "PCA::fit 3\n"
     ]
    },
    {
     "name": "stderr",
     "output_type": "stream",
     "text": [
      " 67%|██████████████████████████████████████████████████████████████████████████████████▋                                         | 2/3 [00:01<00:00,  1.73it/s]"
     ]
    },
    {
     "name": "stdout",
     "output_type": "stream",
     "text": [
      "i  2 Neighbour  1 Component  2\n",
      "PCA::fit 0\n",
      "PCA::fit 1\n",
      "PCA::fit 2\n",
      "PCA::fit 3\n"
     ]
    },
    {
     "name": "stderr",
     "output_type": "stream",
     "text": [
      "100%|████████████████████████████████████████████████████████████████████████████████████████████████████████████████████████████| 3/3 [00:01<00:00,  1.73it/s]\n",
      "  0%|                                                                                                                                    | 0/3 [00:00<?, ?it/s]"
     ]
    },
    {
     "name": "stdout",
     "output_type": "stream",
     "text": [
      "i  0 Neighbour  3 Component  2\n",
      "PCA::fit 0\n",
      "PCA::fit 1\n",
      "PCA::fit 2\n",
      "PCA::fit 3\n"
     ]
    },
    {
     "name": "stderr",
     "output_type": "stream",
     "text": [
      " 33%|█████████████████████████████████████████▎                                                                                  | 1/3 [00:00<00:01,  1.72it/s]"
     ]
    },
    {
     "name": "stdout",
     "output_type": "stream",
     "text": [
      "i  1 Neighbour  3 Component  2\n",
      "PCA::fit 0\n",
      "PCA::fit 1\n",
      "PCA::fit 2\n",
      "PCA::fit 3\n"
     ]
    },
    {
     "name": "stderr",
     "output_type": "stream",
     "text": [
      " 67%|██████████████████████████████████████████████████████████████████████████████████▋                                         | 2/3 [00:01<00:00,  1.67it/s]"
     ]
    },
    {
     "name": "stdout",
     "output_type": "stream",
     "text": [
      "i  2 Neighbour  3 Component  2\n"
     ]
    },
    {
     "name": "stderr",
     "output_type": "stream",
     "text": [
      "100%|████████████████████████████████████████████████████████████████████████████████████████████████████████████████████████████| 3/3 [00:01<00:00,  1.57it/s]\n"
     ]
    },
    {
     "name": "stdout",
     "output_type": "stream",
     "text": [
      "PCA::fit 0\n",
      "PCA::fit 1\n",
      "PCA::fit 2\n",
      "PCA::fit 3\n"
     ]
    },
    {
     "name": "stderr",
     "output_type": "stream",
     "text": [
      "  0%|                                                                                                                                    | 0/3 [00:00<?, ?it/s]"
     ]
    },
    {
     "name": "stdout",
     "output_type": "stream",
     "text": [
      "i  0 Neighbour  5 Component  2\n",
      "PCA::fit 0\n",
      "PCA::fit 1\n",
      "PCA::fit 2\n",
      "PCA::fit 3\n"
     ]
    },
    {
     "name": "stderr",
     "output_type": "stream",
     "text": [
      " 33%|█████████████████████████████████████████▎                                                                                  | 1/3 [00:00<00:01,  1.71it/s]"
     ]
    },
    {
     "name": "stdout",
     "output_type": "stream",
     "text": [
      "i  1 Neighbour  5 Component  2\n",
      "PCA::fit 0\n",
      "PCA::fit 1\n",
      "PCA::fit 2\n",
      "PCA::fit 3\n"
     ]
    },
    {
     "name": "stderr",
     "output_type": "stream",
     "text": [
      " 67%|██████████████████████████████████████████████████████████████████████████████████▋                                         | 2/3 [00:01<00:00,  1.71it/s]"
     ]
    },
    {
     "name": "stdout",
     "output_type": "stream",
     "text": [
      "i  2 Neighbour  5 Component  2\n",
      "PCA::fit 0\n",
      "PCA::fit 1\n",
      "PCA::fit 2\n",
      "PCA::fit 3\n"
     ]
    },
    {
     "name": "stderr",
     "output_type": "stream",
     "text": [
      "100%|████████████████████████████████████████████████████████████████████████████████████████████████████████████████████████████| 3/3 [00:01<00:00,  1.68it/s]\n",
      "  0%|                                                                                                                                    | 0/3 [00:00<?, ?it/s]"
     ]
    },
    {
     "name": "stdout",
     "output_type": "stream",
     "text": [
      "i  0 Neighbour  7 Component  2\n",
      "PCA::fit 0\n",
      "PCA::fit 1\n",
      "PCA::fit 2\n",
      "PCA::fit 3\n"
     ]
    },
    {
     "name": "stderr",
     "output_type": "stream",
     "text": [
      " 33%|█████████████████████████████████████████▎                                                                                  | 1/3 [00:00<00:01,  1.77it/s]"
     ]
    },
    {
     "name": "stdout",
     "output_type": "stream",
     "text": [
      "i  1 Neighbour  7 Component  2\n",
      "PCA::fit 0\n",
      "PCA::fit 1\n",
      "PCA::fit 2\n",
      "PCA::fit 3\n"
     ]
    },
    {
     "name": "stderr",
     "output_type": "stream",
     "text": [
      " 67%|██████████████████████████████████████████████████████████████████████████████████▋                                         | 2/3 [00:01<00:00,  1.77it/s]"
     ]
    },
    {
     "name": "stdout",
     "output_type": "stream",
     "text": [
      "i  2 Neighbour  7 Component  2\n",
      "PCA::fit 0\n",
      "PCA::fit 1\n",
      "PCA::fit 2\n",
      "PCA::fit 3\n"
     ]
    },
    {
     "name": "stderr",
     "output_type": "stream",
     "text": [
      "100%|████████████████████████████████████████████████████████████████████████████████████████████████████████████████████████████| 3/3 [00:01<00:00,  1.76it/s]\n",
      "  0%|                                                                                                                                    | 0/3 [00:00<?, ?it/s]"
     ]
    },
    {
     "name": "stdout",
     "output_type": "stream",
     "text": [
      "i  0 Neighbour  9 Component  2\n",
      "PCA::fit 0\n",
      "PCA::fit 1\n",
      "PCA::fit 2\n",
      "PCA::fit 3\n"
     ]
    },
    {
     "name": "stderr",
     "output_type": "stream",
     "text": [
      " 33%|█████████████████████████████████████████▎                                                                                  | 1/3 [00:00<00:01,  1.73it/s]"
     ]
    },
    {
     "name": "stdout",
     "output_type": "stream",
     "text": [
      "i  1 Neighbour  9 Component  2\n",
      "PCA::fit 0\n",
      "PCA::fit 1\n",
      "PCA::fit 2\n",
      "PCA::fit 3\n"
     ]
    },
    {
     "name": "stderr",
     "output_type": "stream",
     "text": [
      " 67%|██████████████████████████████████████████████████████████████████████████████████▋                                         | 2/3 [00:01<00:00,  1.68it/s]"
     ]
    },
    {
     "name": "stdout",
     "output_type": "stream",
     "text": [
      "i  2 Neighbour  9 Component  2\n",
      "PCA::fit 0\n",
      "PCA::fit 1\n",
      "PCA::fit 2\n",
      "PCA::fit 3\n"
     ]
    },
    {
     "name": "stderr",
     "output_type": "stream",
     "text": [
      "100%|████████████████████████████████████████████████████████████████████████████████████████████████████████████████████████████| 3/3 [00:01<00:00,  1.66it/s]\n",
      "  0%|                                                                                                                                    | 0/3 [00:00<?, ?it/s]"
     ]
    },
    {
     "name": "stdout",
     "output_type": "stream",
     "text": [
      "i  0 Neighbour  11 Component  2\n",
      "PCA::fit 0\n",
      "PCA::fit 1\n",
      "PCA::fit 2\n",
      "PCA::fit 3\n"
     ]
    },
    {
     "name": "stderr",
     "output_type": "stream",
     "text": [
      " 33%|█████████████████████████████████████████▎                                                                                  | 1/3 [00:00<00:01,  1.72it/s]"
     ]
    },
    {
     "name": "stdout",
     "output_type": "stream",
     "text": [
      "i  1 Neighbour  11 Component  2\n",
      "PCA::fit 0\n",
      "PCA::fit 1\n",
      "PCA::fit 2\n",
      "PCA::fit 3\n"
     ]
    },
    {
     "name": "stderr",
     "output_type": "stream",
     "text": [
      " 67%|██████████████████████████████████████████████████████████████████████████████████▋                                         | 2/3 [00:01<00:00,  1.72it/s]"
     ]
    },
    {
     "name": "stdout",
     "output_type": "stream",
     "text": [
      "i  2 Neighbour  11 Component  2\n",
      "PCA::fit 0\n",
      "PCA::fit 1\n",
      "PCA::fit 2\n",
      "PCA::fit 3\n"
     ]
    },
    {
     "name": "stderr",
     "output_type": "stream",
     "text": [
      "100%|████████████████████████████████████████████████████████████████████████████████████████████████████████████████████████████| 3/3 [00:01<00:00,  1.70it/s]\n",
      "  0%|                                                                                                                                    | 0/3 [00:00<?, ?it/s]"
     ]
    },
    {
     "name": "stdout",
     "output_type": "stream",
     "text": [
      "i  0 Neighbour  13 Component  2\n",
      "PCA::fit 0\n",
      "PCA::fit 1\n",
      "PCA::fit 2\n",
      "PCA::fit 3\n"
     ]
    },
    {
     "name": "stderr",
     "output_type": "stream",
     "text": [
      " 33%|█████████████████████████████████████████▎                                                                                  | 1/3 [00:00<00:01,  1.76it/s]"
     ]
    },
    {
     "name": "stdout",
     "output_type": "stream",
     "text": [
      "i  1 Neighbour  13 Component  2\n",
      "PCA::fit 0\n",
      "PCA::fit 1\n",
      "PCA::fit 2\n",
      "PCA::fit 3\n"
     ]
    },
    {
     "name": "stderr",
     "output_type": "stream",
     "text": [
      " 67%|██████████████████████████████████████████████████████████████████████████████████▋                                         | 2/3 [00:01<00:00,  1.70it/s]"
     ]
    },
    {
     "name": "stdout",
     "output_type": "stream",
     "text": [
      "i  2 Neighbour  13 Component  2\n",
      "PCA::fit 0\n",
      "PCA::fit 1\n",
      "PCA::fit 2\n",
      "PCA::fit 3\n"
     ]
    },
    {
     "name": "stderr",
     "output_type": "stream",
     "text": [
      "100%|████████████████████████████████████████████████████████████████████████████████████████████████████████████████████████████| 3/3 [00:01<00:00,  1.68it/s]\n",
      "  0%|                                                                                                                                    | 0/3 [00:00<?, ?it/s]"
     ]
    },
    {
     "name": "stdout",
     "output_type": "stream",
     "text": [
      "i  0 Neighbour  15 Component  2\n",
      "PCA::fit 0\n",
      "PCA::fit 1\n",
      "PCA::fit 2\n",
      "PCA::fit 3\n"
     ]
    },
    {
     "name": "stderr",
     "output_type": "stream",
     "text": [
      " 33%|█████████████████████████████████████████▎                                                                                  | 1/3 [00:00<00:01,  1.74it/s]"
     ]
    },
    {
     "name": "stdout",
     "output_type": "stream",
     "text": [
      "i  1 Neighbour  15 Component  2\n",
      "PCA::fit 0\n",
      "PCA::fit 1\n",
      "PCA::fit 2\n",
      "PCA::fit 3\n"
     ]
    },
    {
     "name": "stderr",
     "output_type": "stream",
     "text": [
      " 67%|██████████████████████████████████████████████████████████████████████████████████▋                                         | 2/3 [00:01<00:00,  1.71it/s]"
     ]
    },
    {
     "name": "stdout",
     "output_type": "stream",
     "text": [
      "i  2 Neighbour  15 Component  2\n",
      "PCA::fit 0\n",
      "PCA::fit 1\n",
      "PCA::fit 2\n",
      "PCA::fit 3\n"
     ]
    },
    {
     "name": "stderr",
     "output_type": "stream",
     "text": [
      "100%|████████████████████████████████████████████████████████████████████████████████████████████████████████████████████████████| 3/3 [00:01<00:00,  1.64it/s]\n",
      "  0%|                                                                                                                                    | 0/3 [00:00<?, ?it/s]"
     ]
    },
    {
     "name": "stdout",
     "output_type": "stream",
     "text": [
      "i  0 Neighbour  25 Component  2\n",
      "PCA::fit 0\n",
      "PCA::fit 1\n",
      "PCA::fit 2\n",
      "PCA::fit 3\n"
     ]
    },
    {
     "name": "stderr",
     "output_type": "stream",
     "text": [
      " 33%|█████████████████████████████████████████▎                                                                                  | 1/3 [00:00<00:01,  1.65it/s]"
     ]
    },
    {
     "name": "stdout",
     "output_type": "stream",
     "text": [
      "i  1 Neighbour  25 Component  2\n",
      "PCA::fit 0\n",
      "PCA::fit 1\n",
      "PCA::fit 2\n",
      "PCA::fit 3\n"
     ]
    },
    {
     "name": "stderr",
     "output_type": "stream",
     "text": [
      " 67%|██████████████████████████████████████████████████████████████████████████████████▋                                         | 2/3 [00:01<00:00,  1.55it/s]"
     ]
    },
    {
     "name": "stdout",
     "output_type": "stream",
     "text": [
      "i  2 Neighbour  25 Component  2\n",
      "PCA::fit 0\n",
      "PCA::fit 1\n",
      "PCA::fit 2\n",
      "PCA::fit 3\n"
     ]
    },
    {
     "name": "stderr",
     "output_type": "stream",
     "text": [
      "100%|████████████████████████████████████████████████████████████████████████████████████████████████████████████████████████████| 3/3 [00:01<00:00,  1.59it/s]\n",
      "  0%|                                                                                                                                    | 0/3 [00:00<?, ?it/s]"
     ]
    },
    {
     "name": "stdout",
     "output_type": "stream",
     "text": [
      "i  0 Neighbour  35 Component  2\n",
      "PCA::fit 0\n",
      "PCA::fit 1\n",
      "PCA::fit 2\n",
      "PCA::fit 3\n"
     ]
    },
    {
     "name": "stderr",
     "output_type": "stream",
     "text": [
      " 33%|█████████████████████████████████████████▎                                                                                  | 1/3 [00:00<00:01,  1.61it/s]"
     ]
    },
    {
     "name": "stdout",
     "output_type": "stream",
     "text": [
      "i  1 Neighbour  35 Component  2\n",
      "PCA::fit 0\n",
      "PCA::fit 1\n",
      "PCA::fit 2\n",
      "PCA::fit 3\n"
     ]
    },
    {
     "name": "stderr",
     "output_type": "stream",
     "text": [
      " 67%|██████████████████████████████████████████████████████████████████████████████████▋                                         | 2/3 [00:01<00:00,  1.68it/s]"
     ]
    },
    {
     "name": "stdout",
     "output_type": "stream",
     "text": [
      "i  2 Neighbour  35 Component  2\n",
      "PCA::fit 0\n",
      "PCA::fit 1\n",
      "PCA::fit 2\n",
      "PCA::fit 3\n"
     ]
    },
    {
     "name": "stderr",
     "output_type": "stream",
     "text": [
      "100%|████████████████████████████████████████████████████████████████████████████████████████████████████████████████████████████| 3/3 [00:01<00:00,  1.70it/s]\n",
      "  0%|                                                                                                                                    | 0/3 [00:00<?, ?it/s]"
     ]
    },
    {
     "name": "stdout",
     "output_type": "stream",
     "text": [
      "i  0 Neighbour  45 Component  2\n",
      "PCA::fit 0\n",
      "PCA::fit 1\n",
      "PCA::fit 2\n",
      "PCA::fit 3\n"
     ]
    },
    {
     "name": "stderr",
     "output_type": "stream",
     "text": [
      " 33%|█████████████████████████████████████████▎                                                                                  | 1/3 [00:00<00:01,  1.72it/s]"
     ]
    },
    {
     "name": "stdout",
     "output_type": "stream",
     "text": [
      "i  1 Neighbour  45 Component  2\n",
      "PCA::fit 0\n",
      "PCA::fit 1\n",
      "PCA::fit 2\n",
      "PCA::fit 3\n"
     ]
    },
    {
     "name": "stderr",
     "output_type": "stream",
     "text": [
      " 67%|██████████████████████████████████████████████████████████████████████████████████▋                                         | 2/3 [00:01<00:00,  1.72it/s]"
     ]
    },
    {
     "name": "stdout",
     "output_type": "stream",
     "text": [
      "i  2 Neighbour  45 Component  2\n",
      "PCA::fit 0\n",
      "PCA::fit 1\n",
      "PCA::fit 2\n",
      "PCA::fit 3\n"
     ]
    },
    {
     "name": "stderr",
     "output_type": "stream",
     "text": [
      "100%|████████████████████████████████████████████████████████████████████████████████████████████████████████████████████████████| 3/3 [00:01<00:00,  1.72it/s]\n",
      "  0%|                                                                                                                                    | 0/3 [00:00<?, ?it/s]"
     ]
    },
    {
     "name": "stdout",
     "output_type": "stream",
     "text": [
      "i  0 Neighbour  55 Component  2\n",
      "PCA::fit 0\n",
      "PCA::fit 1\n",
      "PCA::fit 2\n",
      "PCA::fit 3\n"
     ]
    },
    {
     "name": "stderr",
     "output_type": "stream",
     "text": [
      " 33%|█████████████████████████████████████████▎                                                                                  | 1/3 [00:00<00:01,  1.71it/s]"
     ]
    },
    {
     "name": "stdout",
     "output_type": "stream",
     "text": [
      "i  1 Neighbour  55 Component  2\n",
      "PCA::fit 0\n",
      "PCA::fit 1\n",
      "PCA::fit 2\n",
      "PCA::fit 3\n"
     ]
    },
    {
     "name": "stderr",
     "output_type": "stream",
     "text": [
      " 67%|██████████████████████████████████████████████████████████████████████████████████▋                                         | 2/3 [00:01<00:00,  1.74it/s]"
     ]
    },
    {
     "name": "stdout",
     "output_type": "stream",
     "text": [
      "i  2 Neighbour  55 Component  2\n",
      "PCA::fit 0\n",
      "PCA::fit 1\n",
      "PCA::fit 2\n",
      "PCA::fit 3\n"
     ]
    },
    {
     "name": "stderr",
     "output_type": "stream",
     "text": [
      "100%|████████████████████████████████████████████████████████████████████████████████████████████████████████████████████████████| 3/3 [00:01<00:00,  1.71it/s]\n",
      "  0%|                                                                                                                                    | 0/3 [00:00<?, ?it/s]"
     ]
    },
    {
     "name": "stdout",
     "output_type": "stream",
     "text": [
      "i  0 Neighbour  65 Component  2\n",
      "PCA::fit 0\n",
      "PCA::fit 1\n",
      "PCA::fit 2\n",
      "PCA::fit 3\n"
     ]
    },
    {
     "name": "stderr",
     "output_type": "stream",
     "text": [
      " 33%|█████████████████████████████████████████▎                                                                                  | 1/3 [00:00<00:01,  1.75it/s]"
     ]
    },
    {
     "name": "stdout",
     "output_type": "stream",
     "text": [
      "i  1 Neighbour  65 Component  2\n",
      "PCA::fit 0\n",
      "PCA::fit 1\n",
      "PCA::fit 2\n",
      "PCA::fit 3\n"
     ]
    },
    {
     "name": "stderr",
     "output_type": "stream",
     "text": [
      " 67%|██████████████████████████████████████████████████████████████████████████████████▋                                         | 2/3 [00:01<00:00,  1.74it/s]"
     ]
    },
    {
     "name": "stdout",
     "output_type": "stream",
     "text": [
      "i  2 Neighbour  65 Component  2\n",
      "PCA::fit 0\n",
      "PCA::fit 1\n",
      "PCA::fit 2\n",
      "PCA::fit 3\n"
     ]
    },
    {
     "name": "stderr",
     "output_type": "stream",
     "text": [
      "100%|████████████████████████████████████████████████████████████████████████████████████████████████████████████████████████████| 3/3 [00:01<00:00,  1.74it/s]\n",
      "  0%|                                                                                                                                    | 0/3 [00:00<?, ?it/s]"
     ]
    },
    {
     "name": "stdout",
     "output_type": "stream",
     "text": [
      "i  0 Neighbour  75 Component  2\n",
      "PCA::fit 0\n",
      "PCA::fit 1\n",
      "PCA::fit 2\n",
      "PCA::fit 3\n"
     ]
    },
    {
     "name": "stderr",
     "output_type": "stream",
     "text": [
      " 33%|█████████████████████████████████████████▎                                                                                  | 1/3 [00:00<00:01,  1.75it/s]"
     ]
    },
    {
     "name": "stdout",
     "output_type": "stream",
     "text": [
      "i  1 Neighbour  75 Component  2\n",
      "PCA::fit 0\n",
      "PCA::fit 1\n",
      "PCA::fit 2\n",
      "PCA::fit 3\n"
     ]
    },
    {
     "name": "stderr",
     "output_type": "stream",
     "text": [
      " 67%|██████████████████████████████████████████████████████████████████████████████████▋                                         | 2/3 [00:01<00:00,  1.76it/s]"
     ]
    },
    {
     "name": "stdout",
     "output_type": "stream",
     "text": [
      "i  2 Neighbour  75 Component  2\n",
      "PCA::fit 0\n",
      "PCA::fit 1\n",
      "PCA::fit 2\n",
      "PCA::fit 3\n"
     ]
    },
    {
     "name": "stderr",
     "output_type": "stream",
     "text": [
      "100%|████████████████████████████████████████████████████████████████████████████████████████████████████████████████████████████| 3/3 [00:01<00:00,  1.72it/s]\n",
      "  0%|                                                                                                                                    | 0/3 [00:00<?, ?it/s]"
     ]
    },
    {
     "name": "stdout",
     "output_type": "stream",
     "text": [
      "i  0 Neighbour  85 Component  2\n",
      "PCA::fit 0\n",
      "PCA::fit 1\n",
      "PCA::fit 2\n",
      "PCA::fit 3\n"
     ]
    },
    {
     "name": "stderr",
     "output_type": "stream",
     "text": [
      " 33%|█████████████████████████████████████████▎                                                                                  | 1/3 [00:00<00:01,  1.76it/s]"
     ]
    },
    {
     "name": "stdout",
     "output_type": "stream",
     "text": [
      "i  1 Neighbour  85 Component  2\n",
      "PCA::fit 0\n",
      "PCA::fit 1\n",
      "PCA::fit 2\n",
      "PCA::fit 3\n"
     ]
    },
    {
     "name": "stderr",
     "output_type": "stream",
     "text": [
      " 67%|██████████████████████████████████████████████████████████████████████████████████▋                                         | 2/3 [00:01<00:00,  1.73it/s]"
     ]
    },
    {
     "name": "stdout",
     "output_type": "stream",
     "text": [
      "i  2 Neighbour  85 Component  2\n",
      "PCA::fit 0\n",
      "PCA::fit 1\n",
      "PCA::fit 2\n",
      "PCA::fit 3\n"
     ]
    },
    {
     "name": "stderr",
     "output_type": "stream",
     "text": [
      "100%|████████████████████████████████████████████████████████████████████████████████████████████████████████████████████████████| 3/3 [00:01<00:00,  1.73it/s]\n",
      "  0%|                                                                                                                                    | 0/3 [00:00<?, ?it/s]"
     ]
    },
    {
     "name": "stdout",
     "output_type": "stream",
     "text": [
      "i  0 Neighbour  95 Component  2\n",
      "PCA::fit 0\n",
      "PCA::fit 1\n",
      "PCA::fit 2\n",
      "PCA::fit 3\n"
     ]
    },
    {
     "name": "stderr",
     "output_type": "stream",
     "text": [
      " 33%|█████████████████████████████████████████▎                                                                                  | 1/3 [00:00<00:01,  1.70it/s]"
     ]
    },
    {
     "name": "stdout",
     "output_type": "stream",
     "text": [
      "i  1 Neighbour  95 Component  2\n",
      "PCA::fit 0\n",
      "PCA::fit 1\n",
      "PCA::fit 2\n",
      "PCA::fit 3\n"
     ]
    },
    {
     "name": "stderr",
     "output_type": "stream",
     "text": [
      " 67%|██████████████████████████████████████████████████████████████████████████████████▋                                         | 2/3 [00:01<00:00,  1.73it/s]"
     ]
    },
    {
     "name": "stdout",
     "output_type": "stream",
     "text": [
      "i  2 Neighbour  95 Component  2\n",
      "PCA::fit 0\n",
      "PCA::fit 1\n",
      "PCA::fit 2\n",
      "PCA::fit 3\n"
     ]
    },
    {
     "name": "stderr",
     "output_type": "stream",
     "text": [
      "100%|████████████████████████████████████████████████████████████████████████████████████████████████████████████████████████████| 3/3 [00:01<00:00,  1.73it/s]\n",
      "  0%|                                                                                                                                    | 0/3 [00:00<?, ?it/s]"
     ]
    },
    {
     "name": "stdout",
     "output_type": "stream",
     "text": [
      "i  0 Neighbour  1 Component  3\n",
      "PCA::fit 0\n",
      "PCA::fit 1\n",
      "PCA::fit 2\n",
      "PCA::fit 3\n"
     ]
    },
    {
     "name": "stderr",
     "output_type": "stream",
     "text": [
      " 33%|█████████████████████████████████████████▎                                                                                  | 1/3 [00:00<00:01,  1.66it/s]"
     ]
    },
    {
     "name": "stdout",
     "output_type": "stream",
     "text": [
      "i  1 Neighbour  1 Component  3\n",
      "PCA::fit 0\n",
      "PCA::fit 1\n",
      "PCA::fit 2\n",
      "PCA::fit 3\n"
     ]
    },
    {
     "name": "stderr",
     "output_type": "stream",
     "text": [
      " 67%|██████████████████████████████████████████████████████████████████████████████████▋                                         | 2/3 [00:01<00:00,  1.67it/s]"
     ]
    },
    {
     "name": "stdout",
     "output_type": "stream",
     "text": [
      "i  2 Neighbour  1 Component  3\n",
      "PCA::fit 0\n",
      "PCA::fit 1\n",
      "PCA::fit 2\n",
      "PCA::fit 3\n"
     ]
    },
    {
     "name": "stderr",
     "output_type": "stream",
     "text": [
      "100%|████████████████████████████████████████████████████████████████████████████████████████████████████████████████████████████| 3/3 [00:01<00:00,  1.66it/s]\n",
      "  0%|                                                                                                                                    | 0/3 [00:00<?, ?it/s]"
     ]
    },
    {
     "name": "stdout",
     "output_type": "stream",
     "text": [
      "i  0 Neighbour  3 Component  3\n",
      "PCA::fit 0\n",
      "PCA::fit 1\n",
      "PCA::fit 2\n",
      "PCA::fit 3\n"
     ]
    },
    {
     "name": "stderr",
     "output_type": "stream",
     "text": [
      " 33%|█████████████████████████████████████████▎                                                                                  | 1/3 [00:00<00:01,  1.67it/s]"
     ]
    },
    {
     "name": "stdout",
     "output_type": "stream",
     "text": [
      "i  1 Neighbour  3 Component  3\n",
      "PCA::fit 0\n",
      "PCA::fit 1\n",
      "PCA::fit 2\n",
      "PCA::fit 3\n"
     ]
    },
    {
     "name": "stderr",
     "output_type": "stream",
     "text": [
      " 67%|██████████████████████████████████████████████████████████████████████████████████▋                                         | 2/3 [00:01<00:00,  1.64it/s]"
     ]
    },
    {
     "name": "stdout",
     "output_type": "stream",
     "text": [
      "i  2 Neighbour  3 Component  3\n",
      "PCA::fit 0\n",
      "PCA::fit 1\n",
      "PCA::fit 2\n",
      "PCA::fit 3\n"
     ]
    },
    {
     "name": "stderr",
     "output_type": "stream",
     "text": [
      "100%|████████████████████████████████████████████████████████████████████████████████████████████████████████████████████████████| 3/3 [00:01<00:00,  1.64it/s]\n",
      "  0%|                                                                                                                                    | 0/3 [00:00<?, ?it/s]"
     ]
    },
    {
     "name": "stdout",
     "output_type": "stream",
     "text": [
      "i  0 Neighbour  5 Component  3\n",
      "PCA::fit 0\n",
      "PCA::fit 1\n",
      "PCA::fit 2\n",
      "PCA::fit 3\n"
     ]
    },
    {
     "name": "stderr",
     "output_type": "stream",
     "text": [
      " 33%|█████████████████████████████████████████▎                                                                                  | 1/3 [00:00<00:01,  1.63it/s]"
     ]
    },
    {
     "name": "stdout",
     "output_type": "stream",
     "text": [
      "i  1 Neighbour  5 Component  3\n",
      "PCA::fit 0\n",
      "PCA::fit 1\n",
      "PCA::fit 2\n",
      "PCA::fit 3\n"
     ]
    },
    {
     "name": "stderr",
     "output_type": "stream",
     "text": [
      " 67%|██████████████████████████████████████████████████████████████████████████████████▋                                         | 2/3 [00:01<00:00,  1.64it/s]"
     ]
    },
    {
     "name": "stdout",
     "output_type": "stream",
     "text": [
      "i  2 Neighbour  5 Component  3\n",
      "PCA::fit 0\n",
      "PCA::fit 1\n",
      "PCA::fit 2\n",
      "PCA::fit 3\n"
     ]
    },
    {
     "name": "stderr",
     "output_type": "stream",
     "text": [
      "100%|████████████████████████████████████████████████████████████████████████████████████████████████████████████████████████████| 3/3 [00:01<00:00,  1.64it/s]\n",
      "  0%|                                                                                                                                    | 0/3 [00:00<?, ?it/s]"
     ]
    },
    {
     "name": "stdout",
     "output_type": "stream",
     "text": [
      "i  0 Neighbour  7 Component  3\n",
      "PCA::fit 0\n",
      "PCA::fit 1\n",
      "PCA::fit 2\n",
      "PCA::fit 3\n"
     ]
    },
    {
     "name": "stderr",
     "output_type": "stream",
     "text": [
      " 33%|█████████████████████████████████████████▎                                                                                  | 1/3 [00:00<00:01,  1.64it/s]"
     ]
    },
    {
     "name": "stdout",
     "output_type": "stream",
     "text": [
      "i  1 Neighbour  7 Component  3\n",
      "PCA::fit 0\n",
      "PCA::fit 1\n",
      "PCA::fit 2\n",
      "PCA::fit 3\n"
     ]
    },
    {
     "name": "stderr",
     "output_type": "stream",
     "text": [
      " 67%|██████████████████████████████████████████████████████████████████████████████████▋                                         | 2/3 [00:01<00:00,  1.63it/s]"
     ]
    },
    {
     "name": "stdout",
     "output_type": "stream",
     "text": [
      "i  2 Neighbour  7 Component  3\n",
      "PCA::fit 0\n",
      "PCA::fit 1\n",
      "PCA::fit 2\n",
      "PCA::fit 3\n"
     ]
    },
    {
     "name": "stderr",
     "output_type": "stream",
     "text": [
      "100%|████████████████████████████████████████████████████████████████████████████████████████████████████████████████████████████| 3/3 [00:01<00:00,  1.62it/s]\n",
      "  0%|                                                                                                                                    | 0/3 [00:00<?, ?it/s]"
     ]
    },
    {
     "name": "stdout",
     "output_type": "stream",
     "text": [
      "i  0 Neighbour  9 Component  3\n",
      "PCA::fit 0\n",
      "PCA::fit 1\n",
      "PCA::fit 2\n",
      "PCA::fit 3\n"
     ]
    },
    {
     "name": "stderr",
     "output_type": "stream",
     "text": [
      " 33%|█████████████████████████████████████████▎                                                                                  | 1/3 [00:00<00:01,  1.62it/s]"
     ]
    },
    {
     "name": "stdout",
     "output_type": "stream",
     "text": [
      "i  1 Neighbour  9 Component  3\n",
      "PCA::fit 0\n",
      "PCA::fit 1\n",
      "PCA::fit 2\n",
      "PCA::fit 3\n"
     ]
    },
    {
     "name": "stderr",
     "output_type": "stream",
     "text": [
      " 67%|██████████████████████████████████████████████████████████████████████████████████▋                                         | 2/3 [00:01<00:00,  1.63it/s]"
     ]
    },
    {
     "name": "stdout",
     "output_type": "stream",
     "text": [
      "i  2 Neighbour  9 Component  3\n",
      "PCA::fit 0\n",
      "PCA::fit 1\n",
      "PCA::fit 2\n",
      "PCA::fit 3\n"
     ]
    },
    {
     "name": "stderr",
     "output_type": "stream",
     "text": [
      "100%|████████████████████████████████████████████████████████████████████████████████████████████████████████████████████████████| 3/3 [00:01<00:00,  1.62it/s]\n",
      "  0%|                                                                                                                                    | 0/3 [00:00<?, ?it/s]"
     ]
    },
    {
     "name": "stdout",
     "output_type": "stream",
     "text": [
      "i  0 Neighbour  11 Component  3\n",
      "PCA::fit 0\n",
      "PCA::fit 1\n",
      "PCA::fit 2\n",
      "PCA::fit 3\n"
     ]
    },
    {
     "name": "stderr",
     "output_type": "stream",
     "text": [
      " 33%|█████████████████████████████████████████▎                                                                                  | 1/3 [00:00<00:01,  1.65it/s]"
     ]
    },
    {
     "name": "stdout",
     "output_type": "stream",
     "text": [
      "i  1 Neighbour  11 Component  3\n",
      "PCA::fit 0\n",
      "PCA::fit 1\n",
      "PCA::fit 2\n",
      "PCA::fit 3\n"
     ]
    },
    {
     "name": "stderr",
     "output_type": "stream",
     "text": [
      " 67%|██████████████████████████████████████████████████████████████████████████████████▋                                         | 2/3 [00:01<00:00,  1.61it/s]"
     ]
    },
    {
     "name": "stdout",
     "output_type": "stream",
     "text": [
      "i  2 Neighbour  11 Component  3\n",
      "PCA::fit 0\n",
      "PCA::fit 1\n",
      "PCA::fit 2\n",
      "PCA::fit 3\n"
     ]
    },
    {
     "name": "stderr",
     "output_type": "stream",
     "text": [
      "100%|████████████████████████████████████████████████████████████████████████████████████████████████████████████████████████████| 3/3 [00:01<00:00,  1.62it/s]\n",
      "  0%|                                                                                                                                    | 0/3 [00:00<?, ?it/s]"
     ]
    },
    {
     "name": "stdout",
     "output_type": "stream",
     "text": [
      "i  0 Neighbour  13 Component  3\n",
      "PCA::fit 0\n",
      "PCA::fit 1\n",
      "PCA::fit 2\n",
      "PCA::fit 3\n"
     ]
    },
    {
     "name": "stderr",
     "output_type": "stream",
     "text": [
      " 33%|█████████████████████████████████████████▎                                                                                  | 1/3 [00:00<00:01,  1.61it/s]"
     ]
    },
    {
     "name": "stdout",
     "output_type": "stream",
     "text": [
      "i  1 Neighbour  13 Component  3\n",
      "PCA::fit 0\n",
      "PCA::fit 1\n",
      "PCA::fit 2\n",
      "PCA::fit 3\n"
     ]
    },
    {
     "name": "stderr",
     "output_type": "stream",
     "text": [
      " 67%|██████████████████████████████████████████████████████████████████████████████████▋                                         | 2/3 [00:01<00:00,  1.62it/s]"
     ]
    },
    {
     "name": "stdout",
     "output_type": "stream",
     "text": [
      "i  2 Neighbour  13 Component  3\n",
      "PCA::fit 0\n",
      "PCA::fit 1\n",
      "PCA::fit 2\n",
      "PCA::fit 3\n"
     ]
    },
    {
     "name": "stderr",
     "output_type": "stream",
     "text": [
      "100%|████████████████████████████████████████████████████████████████████████████████████████████████████████████████████████████| 3/3 [00:01<00:00,  1.62it/s]\n",
      "  0%|                                                                                                                                    | 0/3 [00:00<?, ?it/s]"
     ]
    },
    {
     "name": "stdout",
     "output_type": "stream",
     "text": [
      "i  0 Neighbour  15 Component  3\n",
      "PCA::fit 0\n",
      "PCA::fit 1\n",
      "PCA::fit 2\n",
      "PCA::fit 3\n"
     ]
    },
    {
     "name": "stderr",
     "output_type": "stream",
     "text": [
      " 33%|█████████████████████████████████████████▎                                                                                  | 1/3 [00:00<00:01,  1.57it/s]"
     ]
    },
    {
     "name": "stdout",
     "output_type": "stream",
     "text": [
      "i  1 Neighbour  15 Component  3\n",
      "PCA::fit 0\n",
      "PCA::fit 1\n",
      "PCA::fit 2\n",
      "PCA::fit 3\n"
     ]
    },
    {
     "name": "stderr",
     "output_type": "stream",
     "text": [
      " 67%|██████████████████████████████████████████████████████████████████████████████████▋                                         | 2/3 [00:01<00:00,  1.53it/s]"
     ]
    },
    {
     "name": "stdout",
     "output_type": "stream",
     "text": [
      "i  2 Neighbour  15 Component  3\n",
      "PCA::fit 0\n",
      "PCA::fit 1\n",
      "PCA::fit 2\n",
      "PCA::fit 3\n"
     ]
    },
    {
     "name": "stderr",
     "output_type": "stream",
     "text": [
      "100%|████████████████████████████████████████████████████████████████████████████████████████████████████████████████████████████| 3/3 [00:01<00:00,  1.54it/s]\n",
      "  0%|                                                                                                                                    | 0/3 [00:00<?, ?it/s]"
     ]
    },
    {
     "name": "stdout",
     "output_type": "stream",
     "text": [
      "i  0 Neighbour  25 Component  3\n",
      "PCA::fit 0\n",
      "PCA::fit 1\n",
      "PCA::fit 2\n",
      "PCA::fit 3\n"
     ]
    },
    {
     "name": "stderr",
     "output_type": "stream",
     "text": [
      " 33%|█████████████████████████████████████████▎                                                                                  | 1/3 [00:00<00:01,  1.60it/s]"
     ]
    },
    {
     "name": "stdout",
     "output_type": "stream",
     "text": [
      "i  1 Neighbour  25 Component  3\n",
      "PCA::fit 0\n",
      "PCA::fit 1\n",
      "PCA::fit 2\n",
      "PCA::fit 3\n"
     ]
    },
    {
     "name": "stderr",
     "output_type": "stream",
     "text": [
      " 67%|██████████████████████████████████████████████████████████████████████████████████▋                                         | 2/3 [00:01<00:00,  1.57it/s]"
     ]
    },
    {
     "name": "stdout",
     "output_type": "stream",
     "text": [
      "i  2 Neighbour  25 Component  3\n",
      "PCA::fit 0\n",
      "PCA::fit 1\n",
      "PCA::fit 2\n",
      "PCA::fit 3\n"
     ]
    },
    {
     "name": "stderr",
     "output_type": "stream",
     "text": [
      "100%|████████████████████████████████████████████████████████████████████████████████████████████████████████████████████████████| 3/3 [00:01<00:00,  1.57it/s]\n",
      "  0%|                                                                                                                                    | 0/3 [00:00<?, ?it/s]"
     ]
    },
    {
     "name": "stdout",
     "output_type": "stream",
     "text": [
      "i  0 Neighbour  35 Component  3\n",
      "PCA::fit 0\n",
      "PCA::fit 1\n",
      "PCA::fit 2\n",
      "PCA::fit 3\n"
     ]
    },
    {
     "name": "stderr",
     "output_type": "stream",
     "text": [
      " 33%|█████████████████████████████████████████▎                                                                                  | 1/3 [00:00<00:01,  1.55it/s]"
     ]
    },
    {
     "name": "stdout",
     "output_type": "stream",
     "text": [
      "i  1 Neighbour  35 Component  3\n",
      "PCA::fit 0\n",
      "PCA::fit 1\n",
      "PCA::fit 2\n",
      "PCA::fit 3\n"
     ]
    },
    {
     "name": "stderr",
     "output_type": "stream",
     "text": [
      " 67%|██████████████████████████████████████████████████████████████████████████████████▋                                         | 2/3 [00:01<00:00,  1.56it/s]"
     ]
    },
    {
     "name": "stdout",
     "output_type": "stream",
     "text": [
      "i  2 Neighbour  35 Component  3\n",
      "PCA::fit 0\n",
      "PCA::fit 1\n",
      "PCA::fit 2\n",
      "PCA::fit 3\n"
     ]
    },
    {
     "name": "stderr",
     "output_type": "stream",
     "text": [
      "100%|████████████████████████████████████████████████████████████████████████████████████████████████████████████████████████████| 3/3 [00:01<00:00,  1.58it/s]\n",
      "  0%|                                                                                                                                    | 0/3 [00:00<?, ?it/s]"
     ]
    },
    {
     "name": "stdout",
     "output_type": "stream",
     "text": [
      "i  0 Neighbour  45 Component  3\n",
      "PCA::fit 0\n",
      "PCA::fit 1\n",
      "PCA::fit 2\n",
      "PCA::fit 3\n"
     ]
    },
    {
     "name": "stderr",
     "output_type": "stream",
     "text": [
      " 33%|█████████████████████████████████████████▎                                                                                  | 1/3 [00:00<00:01,  1.59it/s]"
     ]
    },
    {
     "name": "stdout",
     "output_type": "stream",
     "text": [
      "i  1 Neighbour  45 Component  3\n",
      "PCA::fit 0\n",
      "PCA::fit 1\n",
      "PCA::fit 2\n",
      "PCA::fit 3\n"
     ]
    },
    {
     "name": "stderr",
     "output_type": "stream",
     "text": [
      " 67%|██████████████████████████████████████████████████████████████████████████████████▋                                         | 2/3 [00:01<00:00,  1.61it/s]"
     ]
    },
    {
     "name": "stdout",
     "output_type": "stream",
     "text": [
      "i  2 Neighbour  45 Component  3\n",
      "PCA::fit 0\n",
      "PCA::fit 1\n",
      "PCA::fit 2\n",
      "PCA::fit 3\n"
     ]
    },
    {
     "name": "stderr",
     "output_type": "stream",
     "text": [
      "100%|████████████████████████████████████████████████████████████████████████████████████████████████████████████████████████████| 3/3 [00:01<00:00,  1.61it/s]\n",
      "  0%|                                                                                                                                    | 0/3 [00:00<?, ?it/s]"
     ]
    },
    {
     "name": "stdout",
     "output_type": "stream",
     "text": [
      "i  0 Neighbour  55 Component  3\n",
      "PCA::fit 0\n",
      "PCA::fit 1\n",
      "PCA::fit 2\n",
      "PCA::fit 3\n"
     ]
    },
    {
     "name": "stderr",
     "output_type": "stream",
     "text": [
      " 33%|█████████████████████████████████████████▎                                                                                  | 1/3 [00:00<00:01,  1.62it/s]"
     ]
    },
    {
     "name": "stdout",
     "output_type": "stream",
     "text": [
      "i  1 Neighbour  55 Component  3\n",
      "PCA::fit 0\n",
      "PCA::fit 1\n",
      "PCA::fit 2\n",
      "PCA::fit 3\n"
     ]
    },
    {
     "name": "stderr",
     "output_type": "stream",
     "text": [
      " 67%|██████████████████████████████████████████████████████████████████████████████████▋                                         | 2/3 [00:01<00:00,  1.61it/s]"
     ]
    },
    {
     "name": "stdout",
     "output_type": "stream",
     "text": [
      "i  2 Neighbour  55 Component  3\n",
      "PCA::fit 0\n",
      "PCA::fit 1\n",
      "PCA::fit 2\n",
      "PCA::fit 3\n"
     ]
    },
    {
     "name": "stderr",
     "output_type": "stream",
     "text": [
      "100%|████████████████████████████████████████████████████████████████████████████████████████████████████████████████████████████| 3/3 [00:01<00:00,  1.62it/s]\n",
      "  0%|                                                                                                                                    | 0/3 [00:00<?, ?it/s]"
     ]
    },
    {
     "name": "stdout",
     "output_type": "stream",
     "text": [
      "i  0 Neighbour  65 Component  3\n",
      "PCA::fit 0\n",
      "PCA::fit 1\n",
      "PCA::fit 2\n",
      "PCA::fit 3\n"
     ]
    },
    {
     "name": "stderr",
     "output_type": "stream",
     "text": [
      " 33%|█████████████████████████████████████████▎                                                                                  | 1/3 [00:00<00:01,  1.63it/s]"
     ]
    },
    {
     "name": "stdout",
     "output_type": "stream",
     "text": [
      "i  1 Neighbour  65 Component  3\n",
      "PCA::fit 0\n",
      "PCA::fit 1\n",
      "PCA::fit 2\n",
      "PCA::fit 3\n"
     ]
    },
    {
     "name": "stderr",
     "output_type": "stream",
     "text": [
      " 67%|██████████████████████████████████████████████████████████████████████████████████▋                                         | 2/3 [00:01<00:00,  1.62it/s]"
     ]
    },
    {
     "name": "stdout",
     "output_type": "stream",
     "text": [
      "i  2 Neighbour  65 Component  3\n",
      "PCA::fit 0\n",
      "PCA::fit 1\n",
      "PCA::fit 2\n",
      "PCA::fit 3\n"
     ]
    },
    {
     "name": "stderr",
     "output_type": "stream",
     "text": [
      "100%|████████████████████████████████████████████████████████████████████████████████████████████████████████████████████████████| 3/3 [00:01<00:00,  1.56it/s]\n",
      "  0%|                                                                                                                                    | 0/3 [00:00<?, ?it/s]"
     ]
    },
    {
     "name": "stdout",
     "output_type": "stream",
     "text": [
      "i  0 Neighbour  75 Component  3\n",
      "PCA::fit 0\n",
      "PCA::fit 1\n",
      "PCA::fit 2\n",
      "PCA::fit 3\n"
     ]
    },
    {
     "name": "stderr",
     "output_type": "stream",
     "text": [
      " 33%|█████████████████████████████████████████▎                                                                                  | 1/3 [00:00<00:01,  1.63it/s]"
     ]
    },
    {
     "name": "stdout",
     "output_type": "stream",
     "text": [
      "i  1 Neighbour  75 Component  3\n",
      "PCA::fit 0\n",
      "PCA::fit 1\n",
      "PCA::fit 2\n",
      "PCA::fit 3\n"
     ]
    },
    {
     "name": "stderr",
     "output_type": "stream",
     "text": [
      " 67%|██████████████████████████████████████████████████████████████████████████████████▋                                         | 2/3 [00:01<00:00,  1.64it/s]"
     ]
    },
    {
     "name": "stdout",
     "output_type": "stream",
     "text": [
      "i  2 Neighbour  75 Component  3\n",
      "PCA::fit 0\n",
      "PCA::fit 1\n",
      "PCA::fit 2\n",
      "PCA::fit 3\n"
     ]
    },
    {
     "name": "stderr",
     "output_type": "stream",
     "text": [
      "100%|████████████████████████████████████████████████████████████████████████████████████████████████████████████████████████████| 3/3 [00:01<00:00,  1.64it/s]\n",
      "  0%|                                                                                                                                    | 0/3 [00:00<?, ?it/s]"
     ]
    },
    {
     "name": "stdout",
     "output_type": "stream",
     "text": [
      "i  0 Neighbour  85 Component  3\n",
      "PCA::fit 0\n",
      "PCA::fit 1\n",
      "PCA::fit 2\n",
      "PCA::fit 3\n"
     ]
    },
    {
     "name": "stderr",
     "output_type": "stream",
     "text": [
      " 33%|█████████████████████████████████████████▎                                                                                  | 1/3 [00:00<00:01,  1.61it/s]"
     ]
    },
    {
     "name": "stdout",
     "output_type": "stream",
     "text": [
      "i  1 Neighbour  85 Component  3\n",
      "PCA::fit 0\n",
      "PCA::fit 1\n",
      "PCA::fit 2\n",
      "PCA::fit 3\n"
     ]
    },
    {
     "name": "stderr",
     "output_type": "stream",
     "text": [
      " 67%|██████████████████████████████████████████████████████████████████████████████████▋                                         | 2/3 [00:01<00:00,  1.63it/s]"
     ]
    },
    {
     "name": "stdout",
     "output_type": "stream",
     "text": [
      "i  2 Neighbour  85 Component  3\n",
      "PCA::fit 0\n",
      "PCA::fit 1\n",
      "PCA::fit 2\n",
      "PCA::fit 3\n"
     ]
    },
    {
     "name": "stderr",
     "output_type": "stream",
     "text": [
      "100%|████████████████████████████████████████████████████████████████████████████████████████████████████████████████████████████| 3/3 [00:01<00:00,  1.64it/s]\n",
      "  0%|                                                                                                                                    | 0/3 [00:00<?, ?it/s]"
     ]
    },
    {
     "name": "stdout",
     "output_type": "stream",
     "text": [
      "i  0 Neighbour  95 Component  3\n",
      "PCA::fit 0\n",
      "PCA::fit 1\n",
      "PCA::fit 2\n",
      "PCA::fit 3\n"
     ]
    },
    {
     "name": "stderr",
     "output_type": "stream",
     "text": [
      " 33%|█████████████████████████████████████████▎                                                                                  | 1/3 [00:00<00:01,  1.66it/s]"
     ]
    },
    {
     "name": "stdout",
     "output_type": "stream",
     "text": [
      "i  1 Neighbour  95 Component  3\n",
      "PCA::fit 0\n",
      "PCA::fit 1\n",
      "PCA::fit 2\n",
      "PCA::fit 3\n"
     ]
    },
    {
     "name": "stderr",
     "output_type": "stream",
     "text": [
      " 67%|██████████████████████████████████████████████████████████████████████████████████▋                                         | 2/3 [00:01<00:00,  1.65it/s]"
     ]
    },
    {
     "name": "stdout",
     "output_type": "stream",
     "text": [
      "i  2 Neighbour  95 Component  3\n",
      "PCA::fit 0\n",
      "PCA::fit 1\n",
      "PCA::fit 2\n",
      "PCA::fit 3\n"
     ]
    },
    {
     "name": "stderr",
     "output_type": "stream",
     "text": [
      "100%|████████████████████████████████████████████████████████████████████████████████████████████████████████████████████████████| 3/3 [00:01<00:00,  1.64it/s]\n",
      "  0%|                                                                                                                                    | 0/3 [00:00<?, ?it/s]"
     ]
    },
    {
     "name": "stdout",
     "output_type": "stream",
     "text": [
      "i  0 Neighbour  1 Component  4\n",
      "PCA::fit 0\n",
      "PCA::fit 1\n",
      "PCA::fit 2\n",
      "PCA::fit 3\n"
     ]
    },
    {
     "name": "stderr",
     "output_type": "stream",
     "text": [
      " 33%|█████████████████████████████████████████▎                                                                                  | 1/3 [00:00<00:01,  1.60it/s]"
     ]
    },
    {
     "name": "stdout",
     "output_type": "stream",
     "text": [
      "i  1 Neighbour  1 Component  4\n",
      "PCA::fit 0\n",
      "PCA::fit 1\n",
      "PCA::fit 2\n",
      "PCA::fit 3\n"
     ]
    },
    {
     "name": "stderr",
     "output_type": "stream",
     "text": [
      " 67%|██████████████████████████████████████████████████████████████████████████████████▋                                         | 2/3 [00:01<00:00,  1.59it/s]"
     ]
    },
    {
     "name": "stdout",
     "output_type": "stream",
     "text": [
      "i  2 Neighbour  1 Component  4\n",
      "PCA::fit 0\n",
      "PCA::fit 1\n",
      "PCA::fit 2\n",
      "PCA::fit 3\n"
     ]
    },
    {
     "name": "stderr",
     "output_type": "stream",
     "text": [
      "100%|████████████████████████████████████████████████████████████████████████████████████████████████████████████████████████████| 3/3 [00:01<00:00,  1.59it/s]\n",
      "  0%|                                                                                                                                    | 0/3 [00:00<?, ?it/s]"
     ]
    },
    {
     "name": "stdout",
     "output_type": "stream",
     "text": [
      "i  0 Neighbour  3 Component  4\n",
      "PCA::fit 0\n",
      "PCA::fit 1\n",
      "PCA::fit 2\n",
      "PCA::fit 3\n"
     ]
    },
    {
     "name": "stderr",
     "output_type": "stream",
     "text": [
      " 33%|█████████████████████████████████████████▎                                                                                  | 1/3 [00:00<00:01,  1.58it/s]"
     ]
    },
    {
     "name": "stdout",
     "output_type": "stream",
     "text": [
      "i  1 Neighbour  3 Component  4\n",
      "PCA::fit 0\n",
      "PCA::fit 1\n",
      "PCA::fit 2\n",
      "PCA::fit 3\n"
     ]
    },
    {
     "name": "stderr",
     "output_type": "stream",
     "text": [
      " 67%|██████████████████████████████████████████████████████████████████████████████████▋                                         | 2/3 [00:01<00:00,  1.57it/s]"
     ]
    },
    {
     "name": "stdout",
     "output_type": "stream",
     "text": [
      "i  2 Neighbour  3 Component  4\n",
      "PCA::fit 0\n",
      "PCA::fit 1\n",
      "PCA::fit 2\n",
      "PCA::fit 3\n"
     ]
    },
    {
     "name": "stderr",
     "output_type": "stream",
     "text": [
      "100%|████████████████████████████████████████████████████████████████████████████████████████████████████████████████████████████| 3/3 [00:01<00:00,  1.59it/s]\n",
      "  0%|                                                                                                                                    | 0/3 [00:00<?, ?it/s]"
     ]
    },
    {
     "name": "stdout",
     "output_type": "stream",
     "text": [
      "i  0 Neighbour  5 Component  4\n",
      "PCA::fit 0\n",
      "PCA::fit 1\n",
      "PCA::fit 2\n",
      "PCA::fit 3\n"
     ]
    },
    {
     "name": "stderr",
     "output_type": "stream",
     "text": [
      " 33%|█████████████████████████████████████████▎                                                                                  | 1/3 [00:00<00:01,  1.63it/s]"
     ]
    },
    {
     "name": "stdout",
     "output_type": "stream",
     "text": [
      "i  1 Neighbour  5 Component  4\n",
      "PCA::fit 0\n",
      "PCA::fit 1\n",
      "PCA::fit 2\n",
      "PCA::fit 3\n"
     ]
    },
    {
     "name": "stderr",
     "output_type": "stream",
     "text": [
      " 67%|██████████████████████████████████████████████████████████████████████████████████▋                                         | 2/3 [00:01<00:00,  1.61it/s]"
     ]
    },
    {
     "name": "stdout",
     "output_type": "stream",
     "text": [
      "i  2 Neighbour  5 Component  4\n",
      "PCA::fit 0\n",
      "PCA::fit 1\n",
      "PCA::fit 2\n",
      "PCA::fit 3\n"
     ]
    },
    {
     "name": "stderr",
     "output_type": "stream",
     "text": [
      "100%|████████████████████████████████████████████████████████████████████████████████████████████████████████████████████████████| 3/3 [00:01<00:00,  1.62it/s]\n",
      "  0%|                                                                                                                                    | 0/3 [00:00<?, ?it/s]"
     ]
    },
    {
     "name": "stdout",
     "output_type": "stream",
     "text": [
      "i  0 Neighbour  7 Component  4\n",
      "PCA::fit 0\n",
      "PCA::fit 1\n",
      "PCA::fit 2\n",
      "PCA::fit 3\n"
     ]
    },
    {
     "name": "stderr",
     "output_type": "stream",
     "text": [
      " 33%|█████████████████████████████████████████▎                                                                                  | 1/3 [00:00<00:01,  1.63it/s]"
     ]
    },
    {
     "name": "stdout",
     "output_type": "stream",
     "text": [
      "i  1 Neighbour  7 Component  4\n",
      "PCA::fit 0\n",
      "PCA::fit 1\n",
      "PCA::fit 2\n",
      "PCA::fit 3\n"
     ]
    },
    {
     "name": "stderr",
     "output_type": "stream",
     "text": [
      " 67%|██████████████████████████████████████████████████████████████████████████████████▋                                         | 2/3 [00:01<00:00,  1.57it/s]"
     ]
    },
    {
     "name": "stdout",
     "output_type": "stream",
     "text": [
      "i  2 Neighbour  7 Component  4\n",
      "PCA::fit 0\n",
      "PCA::fit 1\n",
      "PCA::fit 2\n",
      "PCA::fit 3\n"
     ]
    },
    {
     "name": "stderr",
     "output_type": "stream",
     "text": [
      "100%|████████████████████████████████████████████████████████████████████████████████████████████████████████████████████████████| 3/3 [00:01<00:00,  1.56it/s]\n",
      "  0%|                                                                                                                                    | 0/3 [00:00<?, ?it/s]"
     ]
    },
    {
     "name": "stdout",
     "output_type": "stream",
     "text": [
      "i  0 Neighbour  9 Component  4\n",
      "PCA::fit 0\n",
      "PCA::fit 1\n",
      "PCA::fit 2\n",
      "PCA::fit 3\n"
     ]
    },
    {
     "name": "stderr",
     "output_type": "stream",
     "text": [
      " 33%|█████████████████████████████████████████▎                                                                                  | 1/3 [00:00<00:01,  1.56it/s]"
     ]
    },
    {
     "name": "stdout",
     "output_type": "stream",
     "text": [
      "i  1 Neighbour  9 Component  4\n",
      "PCA::fit 0\n",
      "PCA::fit 1\n",
      "PCA::fit 2\n",
      "PCA::fit 3\n"
     ]
    },
    {
     "name": "stderr",
     "output_type": "stream",
     "text": [
      " 67%|██████████████████████████████████████████████████████████████████████████████████▋                                         | 2/3 [00:01<00:00,  1.56it/s]"
     ]
    },
    {
     "name": "stdout",
     "output_type": "stream",
     "text": [
      "i  2 Neighbour  9 Component  4\n",
      "PCA::fit 0\n",
      "PCA::fit 1\n",
      "PCA::fit 2\n",
      "PCA::fit 3\n"
     ]
    },
    {
     "name": "stderr",
     "output_type": "stream",
     "text": [
      "100%|████████████████████████████████████████████████████████████████████████████████████████████████████████████████████████████| 3/3 [00:01<00:00,  1.57it/s]\n",
      "  0%|                                                                                                                                    | 0/3 [00:00<?, ?it/s]"
     ]
    },
    {
     "name": "stdout",
     "output_type": "stream",
     "text": [
      "i  0 Neighbour  11 Component  4\n",
      "PCA::fit 0\n",
      "PCA::fit 1\n",
      "PCA::fit 2\n",
      "PCA::fit 3\n"
     ]
    },
    {
     "name": "stderr",
     "output_type": "stream",
     "text": [
      " 33%|█████████████████████████████████████████▎                                                                                  | 1/3 [00:00<00:01,  1.57it/s]"
     ]
    },
    {
     "name": "stdout",
     "output_type": "stream",
     "text": [
      "i  1 Neighbour  11 Component  4\n",
      "PCA::fit 0\n",
      "PCA::fit 1\n",
      "PCA::fit 2\n",
      "PCA::fit 3\n"
     ]
    },
    {
     "name": "stderr",
     "output_type": "stream",
     "text": [
      " 67%|██████████████████████████████████████████████████████████████████████████████████▋                                         | 2/3 [00:01<00:00,  1.59it/s]"
     ]
    },
    {
     "name": "stdout",
     "output_type": "stream",
     "text": [
      "i  2 Neighbour  11 Component  4\n",
      "PCA::fit 0\n",
      "PCA::fit 1\n",
      "PCA::fit 2\n",
      "PCA::fit 3\n"
     ]
    },
    {
     "name": "stderr",
     "output_type": "stream",
     "text": [
      "100%|████████████████████████████████████████████████████████████████████████████████████████████████████████████████████████████| 3/3 [00:01<00:00,  1.58it/s]\n",
      "  0%|                                                                                                                                    | 0/3 [00:00<?, ?it/s]"
     ]
    },
    {
     "name": "stdout",
     "output_type": "stream",
     "text": [
      "i  0 Neighbour  13 Component  4\n",
      "PCA::fit 0\n",
      "PCA::fit 1\n",
      "PCA::fit 2\n",
      "PCA::fit 3\n"
     ]
    },
    {
     "name": "stderr",
     "output_type": "stream",
     "text": [
      " 33%|█████████████████████████████████████████▎                                                                                  | 1/3 [00:00<00:01,  1.58it/s]"
     ]
    },
    {
     "name": "stdout",
     "output_type": "stream",
     "text": [
      "i  1 Neighbour  13 Component  4\n",
      "PCA::fit 0\n",
      "PCA::fit 1\n",
      "PCA::fit 2\n",
      "PCA::fit 3\n"
     ]
    },
    {
     "name": "stderr",
     "output_type": "stream",
     "text": [
      " 67%|██████████████████████████████████████████████████████████████████████████████████▋                                         | 2/3 [00:01<00:00,  1.60it/s]"
     ]
    },
    {
     "name": "stdout",
     "output_type": "stream",
     "text": [
      "i  2 Neighbour  13 Component  4\n",
      "PCA::fit 0\n",
      "PCA::fit 1\n",
      "PCA::fit 2\n",
      "PCA::fit 3\n"
     ]
    },
    {
     "name": "stderr",
     "output_type": "stream",
     "text": [
      "100%|████████████████████████████████████████████████████████████████████████████████████████████████████████████████████████████| 3/3 [00:01<00:00,  1.61it/s]\n",
      "  0%|                                                                                                                                    | 0/3 [00:00<?, ?it/s]"
     ]
    },
    {
     "name": "stdout",
     "output_type": "stream",
     "text": [
      "i  0 Neighbour  15 Component  4\n",
      "PCA::fit 0\n",
      "PCA::fit 1\n",
      "PCA::fit 2\n",
      "PCA::fit 3\n"
     ]
    },
    {
     "name": "stderr",
     "output_type": "stream",
     "text": [
      " 33%|█████████████████████████████████████████▎                                                                                  | 1/3 [00:00<00:01,  1.62it/s]"
     ]
    },
    {
     "name": "stdout",
     "output_type": "stream",
     "text": [
      "i  1 Neighbour  15 Component  4\n",
      "PCA::fit 0\n",
      "PCA::fit 1\n",
      "PCA::fit 2\n",
      "PCA::fit 3\n"
     ]
    },
    {
     "name": "stderr",
     "output_type": "stream",
     "text": [
      " 67%|██████████████████████████████████████████████████████████████████████████████████▋                                         | 2/3 [00:01<00:00,  1.63it/s]"
     ]
    },
    {
     "name": "stdout",
     "output_type": "stream",
     "text": [
      "i  2 Neighbour  15 Component  4\n",
      "PCA::fit 0\n",
      "PCA::fit 1\n",
      "PCA::fit 2\n",
      "PCA::fit 3\n"
     ]
    },
    {
     "name": "stderr",
     "output_type": "stream",
     "text": [
      "100%|████████████████████████████████████████████████████████████████████████████████████████████████████████████████████████████| 3/3 [00:01<00:00,  1.63it/s]\n",
      "  0%|                                                                                                                                    | 0/3 [00:00<?, ?it/s]"
     ]
    },
    {
     "name": "stdout",
     "output_type": "stream",
     "text": [
      "i  0 Neighbour  25 Component  4\n",
      "PCA::fit 0\n",
      "PCA::fit 1\n",
      "PCA::fit 2\n",
      "PCA::fit 3\n"
     ]
    },
    {
     "name": "stderr",
     "output_type": "stream",
     "text": [
      " 33%|█████████████████████████████████████████▎                                                                                  | 1/3 [00:00<00:01,  1.58it/s]"
     ]
    },
    {
     "name": "stdout",
     "output_type": "stream",
     "text": [
      "i  1 Neighbour  25 Component  4\n",
      "PCA::fit 0\n",
      "PCA::fit 1\n",
      "PCA::fit 2\n",
      "PCA::fit 3\n"
     ]
    },
    {
     "name": "stderr",
     "output_type": "stream",
     "text": [
      " 67%|██████████████████████████████████████████████████████████████████████████████████▋                                         | 2/3 [00:01<00:00,  1.59it/s]"
     ]
    },
    {
     "name": "stdout",
     "output_type": "stream",
     "text": [
      "i  2 Neighbour  25 Component  4\n",
      "PCA::fit 0\n",
      "PCA::fit 1\n",
      "PCA::fit 2\n",
      "PCA::fit 3\n"
     ]
    },
    {
     "name": "stderr",
     "output_type": "stream",
     "text": [
      "100%|████████████████████████████████████████████████████████████████████████████████████████████████████████████████████████████| 3/3 [00:01<00:00,  1.59it/s]\n",
      "  0%|                                                                                                                                    | 0/3 [00:00<?, ?it/s]"
     ]
    },
    {
     "name": "stdout",
     "output_type": "stream",
     "text": [
      "i  0 Neighbour  35 Component  4\n",
      "PCA::fit 0\n",
      "PCA::fit 1\n",
      "PCA::fit 2\n",
      "PCA::fit 3\n"
     ]
    },
    {
     "name": "stderr",
     "output_type": "stream",
     "text": [
      " 33%|█████████████████████████████████████████▎                                                                                  | 1/3 [00:00<00:01,  1.62it/s]"
     ]
    },
    {
     "name": "stdout",
     "output_type": "stream",
     "text": [
      "i  1 Neighbour  35 Component  4\n",
      "PCA::fit 0\n",
      "PCA::fit 1\n",
      "PCA::fit 2\n",
      "PCA::fit 3\n"
     ]
    },
    {
     "name": "stderr",
     "output_type": "stream",
     "text": [
      " 67%|██████████████████████████████████████████████████████████████████████████████████▋                                         | 2/3 [00:01<00:00,  1.59it/s]"
     ]
    },
    {
     "name": "stdout",
     "output_type": "stream",
     "text": [
      "i  2 Neighbour  35 Component  4\n",
      "PCA::fit 0\n",
      "PCA::fit 1\n",
      "PCA::fit 2\n",
      "PCA::fit 3\n"
     ]
    },
    {
     "name": "stderr",
     "output_type": "stream",
     "text": [
      "100%|████████████████████████████████████████████████████████████████████████████████████████████████████████████████████████████| 3/3 [00:01<00:00,  1.60it/s]\n",
      "  0%|                                                                                                                                    | 0/3 [00:00<?, ?it/s]"
     ]
    },
    {
     "name": "stdout",
     "output_type": "stream",
     "text": [
      "i  0 Neighbour  45 Component  4\n",
      "PCA::fit 0\n",
      "PCA::fit 1\n",
      "PCA::fit 2\n",
      "PCA::fit 3\n"
     ]
    },
    {
     "name": "stderr",
     "output_type": "stream",
     "text": [
      " 33%|█████████████████████████████████████████▎                                                                                  | 1/3 [00:00<00:01,  1.61it/s]"
     ]
    },
    {
     "name": "stdout",
     "output_type": "stream",
     "text": [
      "i  1 Neighbour  45 Component  4\n",
      "PCA::fit 0\n",
      "PCA::fit 1\n",
      "PCA::fit 2\n",
      "PCA::fit 3\n"
     ]
    },
    {
     "name": "stderr",
     "output_type": "stream",
     "text": [
      " 67%|██████████████████████████████████████████████████████████████████████████████████▋                                         | 2/3 [00:01<00:00,  1.59it/s]"
     ]
    },
    {
     "name": "stdout",
     "output_type": "stream",
     "text": [
      "i  2 Neighbour  45 Component  4\n",
      "PCA::fit 0\n",
      "PCA::fit 1\n",
      "PCA::fit 2\n",
      "PCA::fit 3\n"
     ]
    },
    {
     "name": "stderr",
     "output_type": "stream",
     "text": [
      "100%|████████████████████████████████████████████████████████████████████████████████████████████████████████████████████████████| 3/3 [00:01<00:00,  1.59it/s]\n",
      "  0%|                                                                                                                                    | 0/3 [00:00<?, ?it/s]"
     ]
    },
    {
     "name": "stdout",
     "output_type": "stream",
     "text": [
      "i  0 Neighbour  55 Component  4\n",
      "PCA::fit 0\n",
      "PCA::fit 1\n",
      "PCA::fit 2\n",
      "PCA::fit 3\n"
     ]
    },
    {
     "name": "stderr",
     "output_type": "stream",
     "text": [
      " 33%|█████████████████████████████████████████▎                                                                                  | 1/3 [00:00<00:01,  1.58it/s]"
     ]
    },
    {
     "name": "stdout",
     "output_type": "stream",
     "text": [
      "i  1 Neighbour  55 Component  4\n",
      "PCA::fit 0\n",
      "PCA::fit 1\n",
      "PCA::fit 2\n",
      "PCA::fit 3\n"
     ]
    },
    {
     "name": "stderr",
     "output_type": "stream",
     "text": [
      " 67%|██████████████████████████████████████████████████████████████████████████████████▋                                         | 2/3 [00:01<00:00,  1.56it/s]"
     ]
    },
    {
     "name": "stdout",
     "output_type": "stream",
     "text": [
      "i  2 Neighbour  55 Component  4\n",
      "PCA::fit 0\n",
      "PCA::fit 1\n",
      "PCA::fit 2\n",
      "PCA::fit 3\n"
     ]
    },
    {
     "name": "stderr",
     "output_type": "stream",
     "text": [
      "100%|████████████████████████████████████████████████████████████████████████████████████████████████████████████████████████████| 3/3 [00:01<00:00,  1.57it/s]\n",
      "  0%|                                                                                                                                    | 0/3 [00:00<?, ?it/s]"
     ]
    },
    {
     "name": "stdout",
     "output_type": "stream",
     "text": [
      "i  0 Neighbour  65 Component  4\n",
      "PCA::fit 0\n",
      "PCA::fit 1\n",
      "PCA::fit 2\n",
      "PCA::fit 3\n"
     ]
    },
    {
     "name": "stderr",
     "output_type": "stream",
     "text": [
      " 33%|█████████████████████████████████████████▎                                                                                  | 1/3 [00:00<00:01,  1.61it/s]"
     ]
    },
    {
     "name": "stdout",
     "output_type": "stream",
     "text": [
      "i  1 Neighbour  65 Component  4\n",
      "PCA::fit 0\n",
      "PCA::fit 1\n",
      "PCA::fit 2\n",
      "PCA::fit 3\n"
     ]
    },
    {
     "name": "stderr",
     "output_type": "stream",
     "text": [
      " 67%|██████████████████████████████████████████████████████████████████████████████████▋                                         | 2/3 [00:01<00:00,  1.60it/s]"
     ]
    },
    {
     "name": "stdout",
     "output_type": "stream",
     "text": [
      "i  2 Neighbour  65 Component  4\n",
      "PCA::fit 0\n",
      "PCA::fit 1\n",
      "PCA::fit 2\n",
      "PCA::fit 3\n"
     ]
    },
    {
     "name": "stderr",
     "output_type": "stream",
     "text": [
      "100%|████████████████████████████████████████████████████████████████████████████████████████████████████████████████████████████| 3/3 [00:01<00:00,  1.60it/s]\n",
      "  0%|                                                                                                                                    | 0/3 [00:00<?, ?it/s]"
     ]
    },
    {
     "name": "stdout",
     "output_type": "stream",
     "text": [
      "i  0 Neighbour  75 Component  4\n",
      "PCA::fit 0\n",
      "PCA::fit 1\n",
      "PCA::fit 2\n",
      "PCA::fit 3\n"
     ]
    },
    {
     "name": "stderr",
     "output_type": "stream",
     "text": [
      " 33%|█████████████████████████████████████████▎                                                                                  | 1/3 [00:00<00:01,  1.60it/s]"
     ]
    },
    {
     "name": "stdout",
     "output_type": "stream",
     "text": [
      "i  1 Neighbour  75 Component  4\n",
      "PCA::fit 0\n",
      "PCA::fit 1\n",
      "PCA::fit 2\n",
      "PCA::fit 3\n"
     ]
    },
    {
     "name": "stderr",
     "output_type": "stream",
     "text": [
      " 67%|██████████████████████████████████████████████████████████████████████████████████▋                                         | 2/3 [00:01<00:00,  1.60it/s]"
     ]
    },
    {
     "name": "stdout",
     "output_type": "stream",
     "text": [
      "i  2 Neighbour  75 Component  4\n",
      "PCA::fit 0\n",
      "PCA::fit 1\n",
      "PCA::fit 2\n",
      "PCA::fit 3\n"
     ]
    },
    {
     "name": "stderr",
     "output_type": "stream",
     "text": [
      "100%|████████████████████████████████████████████████████████████████████████████████████████████████████████████████████████████| 3/3 [00:01<00:00,  1.60it/s]\n",
      "  0%|                                                                                                                                    | 0/3 [00:00<?, ?it/s]"
     ]
    },
    {
     "name": "stdout",
     "output_type": "stream",
     "text": [
      "i  0 Neighbour  85 Component  4\n",
      "PCA::fit 0\n",
      "PCA::fit 1\n",
      "PCA::fit 2\n",
      "PCA::fit 3\n"
     ]
    },
    {
     "name": "stderr",
     "output_type": "stream",
     "text": [
      " 33%|█████████████████████████████████████████▎                                                                                  | 1/3 [00:00<00:01,  1.62it/s]"
     ]
    },
    {
     "name": "stdout",
     "output_type": "stream",
     "text": [
      "i  1 Neighbour  85 Component  4\n",
      "PCA::fit 0\n",
      "PCA::fit 1\n",
      "PCA::fit 2\n",
      "PCA::fit 3\n"
     ]
    },
    {
     "name": "stderr",
     "output_type": "stream",
     "text": [
      " 67%|██████████████████████████████████████████████████████████████████████████████████▋                                         | 2/3 [00:01<00:00,  1.61it/s]"
     ]
    },
    {
     "name": "stdout",
     "output_type": "stream",
     "text": [
      "i  2 Neighbour  85 Component  4\n",
      "PCA::fit 0\n",
      "PCA::fit 1\n",
      "PCA::fit 2\n",
      "PCA::fit 3\n"
     ]
    },
    {
     "name": "stderr",
     "output_type": "stream",
     "text": [
      "100%|████████████████████████████████████████████████████████████████████████████████████████████████████████████████████████████| 3/3 [00:01<00:00,  1.61it/s]\n",
      "  0%|                                                                                                                                    | 0/3 [00:00<?, ?it/s]"
     ]
    },
    {
     "name": "stdout",
     "output_type": "stream",
     "text": [
      "i  0 Neighbour  95 Component  4\n",
      "PCA::fit 0\n",
      "PCA::fit 1\n",
      "PCA::fit 2\n",
      "PCA::fit 3\n"
     ]
    },
    {
     "name": "stderr",
     "output_type": "stream",
     "text": [
      " 33%|█████████████████████████████████████████▎                                                                                  | 1/3 [00:00<00:01,  1.62it/s]"
     ]
    },
    {
     "name": "stdout",
     "output_type": "stream",
     "text": [
      "i  1 Neighbour  95 Component  4\n",
      "PCA::fit 0\n",
      "PCA::fit 1\n",
      "PCA::fit 2\n",
      "PCA::fit 3\n"
     ]
    },
    {
     "name": "stderr",
     "output_type": "stream",
     "text": [
      " 67%|██████████████████████████████████████████████████████████████████████████████████▋                                         | 2/3 [00:01<00:00,  1.63it/s]"
     ]
    },
    {
     "name": "stdout",
     "output_type": "stream",
     "text": [
      "i  2 Neighbour  95 Component  4\n",
      "PCA::fit 0\n",
      "PCA::fit 1\n",
      "PCA::fit 2\n",
      "PCA::fit 3\n"
     ]
    },
    {
     "name": "stderr",
     "output_type": "stream",
     "text": [
      "100%|████████████████████████████████████████████████████████████████████████████████████████████████████████████████████████████| 3/3 [00:01<00:00,  1.63it/s]\n",
      "  0%|                                                                                                                                    | 0/3 [00:00<?, ?it/s]"
     ]
    },
    {
     "name": "stdout",
     "output_type": "stream",
     "text": [
      "i  0 Neighbour  1 Component  5\n",
      "PCA::fit 0\n",
      "PCA::fit 1\n",
      "PCA::fit 2\n",
      "PCA::fit 3\n"
     ]
    },
    {
     "name": "stderr",
     "output_type": "stream",
     "text": [
      " 33%|█████████████████████████████████████████▎                                                                                  | 1/3 [00:00<00:01,  1.56it/s]"
     ]
    },
    {
     "name": "stdout",
     "output_type": "stream",
     "text": [
      "i  1 Neighbour  1 Component  5\n",
      "PCA::fit 0\n",
      "PCA::fit 1\n",
      "PCA::fit 2\n",
      "PCA::fit 3\n"
     ]
    },
    {
     "name": "stderr",
     "output_type": "stream",
     "text": [
      " 67%|██████████████████████████████████████████████████████████████████████████████████▋                                         | 2/3 [00:01<00:00,  1.55it/s]"
     ]
    },
    {
     "name": "stdout",
     "output_type": "stream",
     "text": [
      "i  2 Neighbour  1 Component  5\n",
      "PCA::fit 0\n",
      "PCA::fit 1\n",
      "PCA::fit 2\n",
      "PCA::fit 3\n"
     ]
    },
    {
     "name": "stderr",
     "output_type": "stream",
     "text": [
      "100%|████████████████████████████████████████████████████████████████████████████████████████████████████████████████████████████| 3/3 [00:01<00:00,  1.54it/s]\n",
      "  0%|                                                                                                                                    | 0/3 [00:00<?, ?it/s]"
     ]
    },
    {
     "name": "stdout",
     "output_type": "stream",
     "text": [
      "i  0 Neighbour  3 Component  5\n",
      "PCA::fit 0\n",
      "PCA::fit 1\n",
      "PCA::fit 2\n",
      "PCA::fit 3\n"
     ]
    },
    {
     "name": "stderr",
     "output_type": "stream",
     "text": [
      " 33%|█████████████████████████████████████████▎                                                                                  | 1/3 [00:00<00:01,  1.54it/s]"
     ]
    },
    {
     "name": "stdout",
     "output_type": "stream",
     "text": [
      "i  1 Neighbour  3 Component  5\n",
      "PCA::fit 0\n",
      "PCA::fit 1\n",
      "PCA::fit 2\n",
      "PCA::fit 3\n"
     ]
    },
    {
     "name": "stderr",
     "output_type": "stream",
     "text": [
      " 67%|██████████████████████████████████████████████████████████████████████████████████▋                                         | 2/3 [00:01<00:00,  1.55it/s]"
     ]
    },
    {
     "name": "stdout",
     "output_type": "stream",
     "text": [
      "i  2 Neighbour  3 Component  5\n",
      "PCA::fit 0\n",
      "PCA::fit 1\n",
      "PCA::fit 2\n",
      "PCA::fit 3\n"
     ]
    },
    {
     "name": "stderr",
     "output_type": "stream",
     "text": [
      "100%|████████████████████████████████████████████████████████████████████████████████████████████████████████████████████████████| 3/3 [00:01<00:00,  1.56it/s]\n",
      "  0%|                                                                                                                                    | 0/3 [00:00<?, ?it/s]"
     ]
    },
    {
     "name": "stdout",
     "output_type": "stream",
     "text": [
      "i  0 Neighbour  5 Component  5\n",
      "PCA::fit 0\n",
      "PCA::fit 1\n",
      "PCA::fit 2\n",
      "PCA::fit 3\n"
     ]
    },
    {
     "name": "stderr",
     "output_type": "stream",
     "text": [
      " 33%|█████████████████████████████████████████▎                                                                                  | 1/3 [00:00<00:01,  1.57it/s]"
     ]
    },
    {
     "name": "stdout",
     "output_type": "stream",
     "text": [
      "i  1 Neighbour  5 Component  5\n",
      "PCA::fit 0\n",
      "PCA::fit 1\n",
      "PCA::fit 2\n",
      "PCA::fit 3\n"
     ]
    },
    {
     "name": "stderr",
     "output_type": "stream",
     "text": [
      " 67%|██████████████████████████████████████████████████████████████████████████████████▋                                         | 2/3 [00:01<00:00,  1.55it/s]"
     ]
    },
    {
     "name": "stdout",
     "output_type": "stream",
     "text": [
      "i  2 Neighbour  5 Component  5\n",
      "PCA::fit 0\n",
      "PCA::fit 1\n",
      "PCA::fit 2\n",
      "PCA::fit 3\n"
     ]
    },
    {
     "name": "stderr",
     "output_type": "stream",
     "text": [
      "100%|████████████████████████████████████████████████████████████████████████████████████████████████████████████████████████████| 3/3 [00:01<00:00,  1.55it/s]\n",
      "  0%|                                                                                                                                    | 0/3 [00:00<?, ?it/s]"
     ]
    },
    {
     "name": "stdout",
     "output_type": "stream",
     "text": [
      "i  0 Neighbour  7 Component  5\n",
      "PCA::fit 0\n",
      "PCA::fit 1\n",
      "PCA::fit 2\n",
      "PCA::fit 3\n"
     ]
    },
    {
     "name": "stderr",
     "output_type": "stream",
     "text": [
      " 33%|█████████████████████████████████████████▎                                                                                  | 1/3 [00:00<00:01,  1.55it/s]"
     ]
    },
    {
     "name": "stdout",
     "output_type": "stream",
     "text": [
      "i  1 Neighbour  7 Component  5\n",
      "PCA::fit 0\n",
      "PCA::fit 1\n",
      "PCA::fit 2\n",
      "PCA::fit 3\n"
     ]
    },
    {
     "name": "stderr",
     "output_type": "stream",
     "text": [
      " 67%|██████████████████████████████████████████████████████████████████████████████████▋                                         | 2/3 [00:01<00:00,  1.51it/s]"
     ]
    },
    {
     "name": "stdout",
     "output_type": "stream",
     "text": [
      "i  2 Neighbour  7 Component  5\n",
      "PCA::fit 0\n",
      "PCA::fit 1\n",
      "PCA::fit 2\n",
      "PCA::fit 3\n"
     ]
    },
    {
     "name": "stderr",
     "output_type": "stream",
     "text": [
      "100%|████████████████████████████████████████████████████████████████████████████████████████████████████████████████████████████| 3/3 [00:01<00:00,  1.52it/s]\n",
      "  0%|                                                                                                                                    | 0/3 [00:00<?, ?it/s]"
     ]
    },
    {
     "name": "stdout",
     "output_type": "stream",
     "text": [
      "i  0 Neighbour  9 Component  5\n"
     ]
    },
    {
     "name": "stderr",
     "output_type": "stream",
     "text": [
      " 33%|█████████████████████████████████████████▎                                                                                  | 1/3 [00:00<00:01,  1.57it/s]"
     ]
    },
    {
     "name": "stdout",
     "output_type": "stream",
     "text": [
      "PCA::fit 0\n",
      "PCA::fit 1\n",
      "PCA::fit 2\n",
      "PCA::fit 3\n",
      "i  1 Neighbour  9 Component  5\n",
      "PCA::fit 0\n",
      "PCA::fit 1\n",
      "PCA::fit 2\n",
      "PCA::fit 3\n"
     ]
    },
    {
     "name": "stderr",
     "output_type": "stream",
     "text": [
      " 67%|██████████████████████████████████████████████████████████████████████████████████▋                                         | 2/3 [00:01<00:00,  1.54it/s]"
     ]
    },
    {
     "name": "stdout",
     "output_type": "stream",
     "text": [
      "i  2 Neighbour  9 Component  5\n",
      "PCA::fit 0\n",
      "PCA::fit 1\n",
      "PCA::fit 2\n",
      "PCA::fit 3\n"
     ]
    },
    {
     "name": "stderr",
     "output_type": "stream",
     "text": [
      "100%|████████████████████████████████████████████████████████████████████████████████████████████████████████████████████████████| 3/3 [00:01<00:00,  1.54it/s]\n",
      "  0%|                                                                                                                                    | 0/3 [00:00<?, ?it/s]"
     ]
    },
    {
     "name": "stdout",
     "output_type": "stream",
     "text": [
      "i  0 Neighbour  11 Component  5\n",
      "PCA::fit 0\n",
      "PCA::fit 1\n",
      "PCA::fit 2\n",
      "PCA::fit 3\n"
     ]
    },
    {
     "name": "stderr",
     "output_type": "stream",
     "text": [
      " 33%|█████████████████████████████████████████▎                                                                                  | 1/3 [00:00<00:01,  1.54it/s]"
     ]
    },
    {
     "name": "stdout",
     "output_type": "stream",
     "text": [
      "i  1 Neighbour  11 Component  5\n"
     ]
    },
    {
     "name": "stderr",
     "output_type": "stream",
     "text": [
      " 67%|██████████████████████████████████████████████████████████████████████████████████▋                                         | 2/3 [00:01<00:00,  1.38it/s]"
     ]
    },
    {
     "name": "stdout",
     "output_type": "stream",
     "text": [
      "PCA::fit 0\n",
      "PCA::fit 1\n",
      "PCA::fit 2\n",
      "PCA::fit 3\n",
      "i  2 Neighbour  11 Component  5\n",
      "PCA::fit 0\n",
      "PCA::fit 1\n",
      "PCA::fit 2\n",
      "PCA::fit 3\n"
     ]
    },
    {
     "name": "stderr",
     "output_type": "stream",
     "text": [
      "100%|████████████████████████████████████████████████████████████████████████████████████████████████████████████████████████████| 3/3 [00:02<00:00,  1.44it/s]\n",
      "  0%|                                                                                                                                    | 0/3 [00:00<?, ?it/s]"
     ]
    },
    {
     "name": "stdout",
     "output_type": "stream",
     "text": [
      "i  0 Neighbour  13 Component  5\n",
      "PCA::fit 0\n",
      "PCA::fit 1\n",
      "PCA::fit 2\n",
      "PCA::fit 3\n"
     ]
    },
    {
     "name": "stderr",
     "output_type": "stream",
     "text": [
      " 33%|█████████████████████████████████████████▎                                                                                  | 1/3 [00:00<00:01,  1.55it/s]"
     ]
    },
    {
     "name": "stdout",
     "output_type": "stream",
     "text": [
      "i  1 Neighbour  13 Component  5\n",
      "PCA::fit 0\n",
      "PCA::fit 1\n",
      "PCA::fit 2\n",
      "PCA::fit 3\n"
     ]
    },
    {
     "name": "stderr",
     "output_type": "stream",
     "text": [
      " 67%|██████████████████████████████████████████████████████████████████████████████████▋                                         | 2/3 [00:01<00:00,  1.54it/s]"
     ]
    },
    {
     "name": "stdout",
     "output_type": "stream",
     "text": [
      "i  2 Neighbour  13 Component  5\n",
      "PCA::fit 0\n",
      "PCA::fit 1\n",
      "PCA::fit 2\n",
      "PCA::fit 3\n"
     ]
    },
    {
     "name": "stderr",
     "output_type": "stream",
     "text": [
      "100%|████████████████████████████████████████████████████████████████████████████████████████████████████████████████████████████| 3/3 [00:01<00:00,  1.55it/s]\n",
      "  0%|                                                                                                                                    | 0/3 [00:00<?, ?it/s]"
     ]
    },
    {
     "name": "stdout",
     "output_type": "stream",
     "text": [
      "i  0 Neighbour  15 Component  5\n",
      "PCA::fit 0\n",
      "PCA::fit 1\n",
      "PCA::fit 2\n",
      "PCA::fit 3\n"
     ]
    },
    {
     "name": "stderr",
     "output_type": "stream",
     "text": [
      " 33%|█████████████████████████████████████████▎                                                                                  | 1/3 [00:00<00:01,  1.56it/s]"
     ]
    },
    {
     "name": "stdout",
     "output_type": "stream",
     "text": [
      "i  1 Neighbour  15 Component  5\n",
      "PCA::fit 0\n",
      "PCA::fit 1\n",
      "PCA::fit 2\n",
      "PCA::fit 3\n"
     ]
    },
    {
     "name": "stderr",
     "output_type": "stream",
     "text": [
      " 67%|██████████████████████████████████████████████████████████████████████████████████▋                                         | 2/3 [00:01<00:00,  1.56it/s]"
     ]
    },
    {
     "name": "stdout",
     "output_type": "stream",
     "text": [
      "i  2 Neighbour  15 Component  5\n",
      "PCA::fit 0\n",
      "PCA::fit 1\n",
      "PCA::fit 2\n",
      "PCA::fit 3\n"
     ]
    },
    {
     "name": "stderr",
     "output_type": "stream",
     "text": [
      "100%|████████████████████████████████████████████████████████████████████████████████████████████████████████████████████████████| 3/3 [00:01<00:00,  1.50it/s]\n",
      "  0%|                                                                                                                                    | 0/3 [00:00<?, ?it/s]"
     ]
    },
    {
     "name": "stdout",
     "output_type": "stream",
     "text": [
      "i  0 Neighbour  25 Component  5\n",
      "PCA::fit 0\n",
      "PCA::fit 1\n",
      "PCA::fit 2\n",
      "PCA::fit 3\n"
     ]
    },
    {
     "name": "stderr",
     "output_type": "stream",
     "text": [
      " 33%|█████████████████████████████████████████▎                                                                                  | 1/3 [00:00<00:01,  1.52it/s]"
     ]
    },
    {
     "name": "stdout",
     "output_type": "stream",
     "text": [
      "i  1 Neighbour  25 Component  5\n",
      "PCA::fit 0\n",
      "PCA::fit 1\n",
      "PCA::fit 2\n",
      "PCA::fit 3\n"
     ]
    },
    {
     "name": "stderr",
     "output_type": "stream",
     "text": [
      " 67%|██████████████████████████████████████████████████████████████████████████████████▋                                         | 2/3 [00:01<00:00,  1.53it/s]"
     ]
    },
    {
     "name": "stdout",
     "output_type": "stream",
     "text": [
      "i  2 Neighbour  25 Component  5\n",
      "PCA::fit 0\n",
      "PCA::fit 1\n",
      "PCA::fit 2\n",
      "PCA::fit 3\n"
     ]
    },
    {
     "name": "stderr",
     "output_type": "stream",
     "text": [
      "100%|████████████████████████████████████████████████████████████████████████████████████████████████████████████████████████████| 3/3 [00:01<00:00,  1.52it/s]\n",
      "  0%|                                                                                                                                    | 0/3 [00:00<?, ?it/s]"
     ]
    },
    {
     "name": "stdout",
     "output_type": "stream",
     "text": [
      "i  0 Neighbour  35 Component  5\n",
      "PCA::fit 0\n",
      "PCA::fit 1\n",
      "PCA::fit 2\n",
      "PCA::fit 3\n"
     ]
    },
    {
     "name": "stderr",
     "output_type": "stream",
     "text": [
      " 33%|█████████████████████████████████████████▎                                                                                  | 1/3 [00:00<00:01,  1.53it/s]"
     ]
    },
    {
     "name": "stdout",
     "output_type": "stream",
     "text": [
      "i  1 Neighbour  35 Component  5\n",
      "PCA::fit 0\n",
      "PCA::fit 1\n",
      "PCA::fit 2\n",
      "PCA::fit 3\n"
     ]
    },
    {
     "name": "stderr",
     "output_type": "stream",
     "text": [
      " 67%|██████████████████████████████████████████████████████████████████████████████████▋                                         | 2/3 [00:01<00:00,  1.42it/s]"
     ]
    },
    {
     "name": "stdout",
     "output_type": "stream",
     "text": [
      "i  2 Neighbour  35 Component  5\n",
      "PCA::fit 0\n",
      "PCA::fit 1\n",
      "PCA::fit 2\n",
      "PCA::fit 3\n"
     ]
    },
    {
     "name": "stderr",
     "output_type": "stream",
     "text": [
      "100%|████████████████████████████████████████████████████████████████████████████████████████████████████████████████████████████| 3/3 [00:02<00:00,  1.46it/s]\n",
      "  0%|                                                                                                                                    | 0/3 [00:00<?, ?it/s]"
     ]
    },
    {
     "name": "stdout",
     "output_type": "stream",
     "text": [
      "i  0 Neighbour  45 Component  5\n",
      "PCA::fit 0\n",
      "PCA::fit 1\n",
      "PCA::fit 2\n",
      "PCA::fit 3\n"
     ]
    },
    {
     "name": "stderr",
     "output_type": "stream",
     "text": [
      " 33%|█████████████████████████████████████████▎                                                                                  | 1/3 [00:00<00:01,  1.56it/s]"
     ]
    },
    {
     "name": "stdout",
     "output_type": "stream",
     "text": [
      "i  1 Neighbour  45 Component  5\n"
     ]
    },
    {
     "name": "stderr",
     "output_type": "stream",
     "text": [
      " 67%|██████████████████████████████████████████████████████████████████████████████████▋                                         | 2/3 [00:01<00:00,  1.54it/s]"
     ]
    },
    {
     "name": "stdout",
     "output_type": "stream",
     "text": [
      "PCA::fit 0\n",
      "PCA::fit 1\n",
      "PCA::fit 2\n",
      "PCA::fit 3\n",
      "i  2 Neighbour  45 Component  5\n",
      "PCA::fit 0\n",
      "PCA::fit 1\n",
      "PCA::fit 2\n",
      "PCA::fit 3\n"
     ]
    },
    {
     "name": "stderr",
     "output_type": "stream",
     "text": [
      "100%|████████████████████████████████████████████████████████████████████████████████████████████████████████████████████████████| 3/3 [00:01<00:00,  1.54it/s]\n",
      "  0%|                                                                                                                                    | 0/3 [00:00<?, ?it/s]"
     ]
    },
    {
     "name": "stdout",
     "output_type": "stream",
     "text": [
      "i  0 Neighbour  55 Component  5\n",
      "PCA::fit 0\n",
      "PCA::fit 1\n",
      "PCA::fit 2\n",
      "PCA::fit 3\n"
     ]
    },
    {
     "name": "stderr",
     "output_type": "stream",
     "text": [
      " 33%|█████████████████████████████████████████▎                                                                                  | 1/3 [00:00<00:01,  1.55it/s]"
     ]
    },
    {
     "name": "stdout",
     "output_type": "stream",
     "text": [
      "i  1 Neighbour  55 Component  5\n",
      "PCA::fit 0\n",
      "PCA::fit 1\n",
      "PCA::fit 2\n",
      "PCA::fit 3\n"
     ]
    },
    {
     "name": "stderr",
     "output_type": "stream",
     "text": [
      " 67%|██████████████████████████████████████████████████████████████████████████████████▋                                         | 2/3 [00:01<00:00,  1.55it/s]"
     ]
    },
    {
     "name": "stdout",
     "output_type": "stream",
     "text": [
      "i  2 Neighbour  55 Component  5\n",
      "PCA::fit 0\n",
      "PCA::fit 1\n",
      "PCA::fit 2\n",
      "PCA::fit 3\n"
     ]
    },
    {
     "name": "stderr",
     "output_type": "stream",
     "text": [
      "100%|████████████████████████████████████████████████████████████████████████████████████████████████████████████████████████████| 3/3 [00:01<00:00,  1.55it/s]\n",
      "  0%|                                                                                                                                    | 0/3 [00:00<?, ?it/s]"
     ]
    },
    {
     "name": "stdout",
     "output_type": "stream",
     "text": [
      "i  0 Neighbour  65 Component  5\n",
      "PCA::fit 0\n",
      "PCA::fit 1\n",
      "PCA::fit 2\n",
      "PCA::fit 3\n"
     ]
    },
    {
     "name": "stderr",
     "output_type": "stream",
     "text": [
      " 33%|█████████████████████████████████████████▎                                                                                  | 1/3 [00:00<00:01,  1.57it/s]"
     ]
    },
    {
     "name": "stdout",
     "output_type": "stream",
     "text": [
      "i  1 Neighbour  65 Component  5\n",
      "PCA::fit 0\n",
      "PCA::fit 1\n",
      "PCA::fit 2\n",
      "PCA::fit 3\n"
     ]
    },
    {
     "name": "stderr",
     "output_type": "stream",
     "text": [
      " 67%|██████████████████████████████████████████████████████████████████████████████████▋                                         | 2/3 [00:01<00:00,  1.56it/s]"
     ]
    },
    {
     "name": "stdout",
     "output_type": "stream",
     "text": [
      "i  2 Neighbour  65 Component  5\n",
      "PCA::fit 0\n",
      "PCA::fit 1\n",
      "PCA::fit 2\n",
      "PCA::fit 3\n"
     ]
    },
    {
     "name": "stderr",
     "output_type": "stream",
     "text": [
      "100%|████████████████████████████████████████████████████████████████████████████████████████████████████████████████████████████| 3/3 [00:01<00:00,  1.56it/s]\n",
      "  0%|                                                                                                                                    | 0/3 [00:00<?, ?it/s]"
     ]
    },
    {
     "name": "stdout",
     "output_type": "stream",
     "text": [
      "i  0 Neighbour  75 Component  5\n",
      "PCA::fit 0\n",
      "PCA::fit 1\n",
      "PCA::fit 2\n",
      "PCA::fit 3\n"
     ]
    },
    {
     "name": "stderr",
     "output_type": "stream",
     "text": [
      " 33%|█████████████████████████████████████████▎                                                                                  | 1/3 [00:00<00:01,  1.57it/s]"
     ]
    },
    {
     "name": "stdout",
     "output_type": "stream",
     "text": [
      "i  1 Neighbour  75 Component  5\n",
      "PCA::fit 0\n",
      "PCA::fit 1\n",
      "PCA::fit 2\n",
      "PCA::fit 3\n"
     ]
    },
    {
     "name": "stderr",
     "output_type": "stream",
     "text": [
      " 67%|██████████████████████████████████████████████████████████████████████████████████▋                                         | 2/3 [00:01<00:00,  1.57it/s]"
     ]
    },
    {
     "name": "stdout",
     "output_type": "stream",
     "text": [
      "i  2 Neighbour  75 Component  5\n",
      "PCA::fit 0\n",
      "PCA::fit 1\n",
      "PCA::fit 2\n",
      "PCA::fit 3\n"
     ]
    },
    {
     "name": "stderr",
     "output_type": "stream",
     "text": [
      "100%|████████████████████████████████████████████████████████████████████████████████████████████████████████████████████████████| 3/3 [00:01<00:00,  1.57it/s]\n",
      "  0%|                                                                                                                                    | 0/3 [00:00<?, ?it/s]"
     ]
    },
    {
     "name": "stdout",
     "output_type": "stream",
     "text": [
      "i  0 Neighbour  85 Component  5\n",
      "PCA::fit 0\n",
      "PCA::fit 1\n",
      "PCA::fit 2\n",
      "PCA::fit 3\n"
     ]
    },
    {
     "name": "stderr",
     "output_type": "stream",
     "text": [
      " 33%|█████████████████████████████████████████▎                                                                                  | 1/3 [00:00<00:01,  1.56it/s]"
     ]
    },
    {
     "name": "stdout",
     "output_type": "stream",
     "text": [
      "i  1 Neighbour  85 Component  5\n",
      "PCA::fit 0\n",
      "PCA::fit 1\n",
      "PCA::fit 2\n",
      "PCA::fit 3\n"
     ]
    },
    {
     "name": "stderr",
     "output_type": "stream",
     "text": [
      " 67%|██████████████████████████████████████████████████████████████████████████████████▋                                         | 2/3 [00:01<00:00,  1.53it/s]"
     ]
    },
    {
     "name": "stdout",
     "output_type": "stream",
     "text": [
      "i  2 Neighbour  85 Component  5\n",
      "PCA::fit 0\n",
      "PCA::fit 1\n",
      "PCA::fit 2\n",
      "PCA::fit 3\n"
     ]
    },
    {
     "name": "stderr",
     "output_type": "stream",
     "text": [
      "100%|████████████████████████████████████████████████████████████████████████████████████████████████████████████████████████████| 3/3 [00:01<00:00,  1.50it/s]\n",
      "  0%|                                                                                                                                    | 0/3 [00:00<?, ?it/s]"
     ]
    },
    {
     "name": "stdout",
     "output_type": "stream",
     "text": [
      "i  0 Neighbour  95 Component  5\n",
      "PCA::fit 0\n",
      "PCA::fit 1\n",
      "PCA::fit 2\n",
      "PCA::fit 3\n"
     ]
    },
    {
     "name": "stderr",
     "output_type": "stream",
     "text": [
      " 33%|█████████████████████████████████████████▎                                                                                  | 1/3 [00:00<00:01,  1.51it/s]"
     ]
    },
    {
     "name": "stdout",
     "output_type": "stream",
     "text": [
      "i  1 Neighbour  95 Component  5\n",
      "PCA::fit 0\n",
      "PCA::fit 1\n",
      "PCA::fit 2\n",
      "PCA::fit 3\n"
     ]
    },
    {
     "name": "stderr",
     "output_type": "stream",
     "text": [
      " 67%|██████████████████████████████████████████████████████████████████████████████████▋                                         | 2/3 [00:01<00:00,  1.51it/s]"
     ]
    },
    {
     "name": "stdout",
     "output_type": "stream",
     "text": [
      "i  2 Neighbour  95 Component  5\n",
      "PCA::fit 0\n",
      "PCA::fit 1\n",
      "PCA::fit 2\n",
      "PCA::fit 3\n"
     ]
    },
    {
     "name": "stderr",
     "output_type": "stream",
     "text": [
      "100%|████████████████████████████████████████████████████████████████████████████████████████████████████████████████████████████| 3/3 [00:01<00:00,  1.51it/s]\n",
      "  0%|                                                                                                                                    | 0/3 [00:00<?, ?it/s]"
     ]
    },
    {
     "name": "stdout",
     "output_type": "stream",
     "text": [
      "i  0 Neighbour  1 Component  10\n",
      "PCA::fit 0\n",
      "PCA::fit 1\n",
      "PCA::fit 2\n",
      "PCA::fit 3\n"
     ]
    },
    {
     "name": "stderr",
     "output_type": "stream",
     "text": [
      " 33%|█████████████████████████████████████████▎                                                                                  | 1/3 [00:00<00:01,  1.22it/s]"
     ]
    },
    {
     "name": "stdout",
     "output_type": "stream",
     "text": [
      "i  1 Neighbour  1 Component  10\n",
      "PCA::fit 0\n",
      "PCA::fit 1\n",
      "PCA::fit 2\n",
      "PCA::fit 3\n"
     ]
    },
    {
     "name": "stderr",
     "output_type": "stream",
     "text": [
      " 67%|██████████████████████████████████████████████████████████████████████████████████▋                                         | 2/3 [00:01<00:00,  1.28it/s]"
     ]
    },
    {
     "name": "stdout",
     "output_type": "stream",
     "text": [
      "i  2 Neighbour  1 Component  10\n",
      "PCA::fit 0\n",
      "PCA::fit 1\n",
      "PCA::fit 2\n",
      "PCA::fit 3\n"
     ]
    },
    {
     "name": "stderr",
     "output_type": "stream",
     "text": [
      "100%|████████████████████████████████████████████████████████████████████████████████████████████████████████████████████████████| 3/3 [00:02<00:00,  1.30it/s]\n",
      "  0%|                                                                                                                                    | 0/3 [00:00<?, ?it/s]"
     ]
    },
    {
     "name": "stdout",
     "output_type": "stream",
     "text": [
      "i  0 Neighbour  3 Component  10\n",
      "PCA::fit 0\n",
      "PCA::fit 1\n",
      "PCA::fit 2\n",
      "PCA::fit 3\n"
     ]
    },
    {
     "name": "stderr",
     "output_type": "stream",
     "text": [
      " 33%|█████████████████████████████████████████▎                                                                                  | 1/3 [00:00<00:01,  1.36it/s]"
     ]
    },
    {
     "name": "stdout",
     "output_type": "stream",
     "text": [
      "i  1 Neighbour  3 Component  10\n",
      "PCA::fit 0\n",
      "PCA::fit 1\n",
      "PCA::fit 2\n",
      "PCA::fit 3\n"
     ]
    },
    {
     "name": "stderr",
     "output_type": "stream",
     "text": [
      " 67%|██████████████████████████████████████████████████████████████████████████████████▋                                         | 2/3 [00:01<00:00,  1.34it/s]"
     ]
    },
    {
     "name": "stdout",
     "output_type": "stream",
     "text": [
      "i  2 Neighbour  3 Component  10\n",
      "PCA::fit 0\n",
      "PCA::fit 1\n",
      "PCA::fit 2\n",
      "PCA::fit 3\n"
     ]
    },
    {
     "name": "stderr",
     "output_type": "stream",
     "text": [
      "100%|████████████████████████████████████████████████████████████████████████████████████████████████████████████████████████████| 3/3 [00:02<00:00,  1.34it/s]\n",
      "  0%|                                                                                                                                    | 0/3 [00:00<?, ?it/s]"
     ]
    },
    {
     "name": "stdout",
     "output_type": "stream",
     "text": [
      "i  0 Neighbour  5 Component  10\n",
      "PCA::fit 0\n",
      "PCA::fit 1\n",
      "PCA::fit 2\n",
      "PCA::fit 3\n"
     ]
    },
    {
     "name": "stderr",
     "output_type": "stream",
     "text": [
      " 33%|█████████████████████████████████████████▎                                                                                  | 1/3 [00:00<00:01,  1.32it/s]"
     ]
    },
    {
     "name": "stdout",
     "output_type": "stream",
     "text": [
      "i  1 Neighbour  5 Component  10\n",
      "PCA::fit 0\n",
      "PCA::fit 1\n",
      "PCA::fit 2\n",
      "PCA::fit 3\n"
     ]
    },
    {
     "name": "stderr",
     "output_type": "stream",
     "text": [
      " 67%|██████████████████████████████████████████████████████████████████████████████████▋                                         | 2/3 [00:01<00:00,  1.31it/s]"
     ]
    },
    {
     "name": "stdout",
     "output_type": "stream",
     "text": [
      "i  2 Neighbour  5 Component  10\n",
      "PCA::fit 0\n",
      "PCA::fit 1\n",
      "PCA::fit 2\n",
      "PCA::fit 3\n"
     ]
    },
    {
     "name": "stderr",
     "output_type": "stream",
     "text": [
      "100%|████████████████████████████████████████████████████████████████████████████████████████████████████████████████████████████| 3/3 [00:02<00:00,  1.31it/s]\n",
      "  0%|                                                                                                                                    | 0/3 [00:00<?, ?it/s]"
     ]
    },
    {
     "name": "stdout",
     "output_type": "stream",
     "text": [
      "i  0 Neighbour  7 Component  10\n",
      "PCA::fit 0\n",
      "PCA::fit 1\n",
      "PCA::fit 2\n",
      "PCA::fit 3\n"
     ]
    },
    {
     "name": "stderr",
     "output_type": "stream",
     "text": [
      " 33%|█████████████████████████████████████████▎                                                                                  | 1/3 [00:00<00:01,  1.38it/s]"
     ]
    },
    {
     "name": "stdout",
     "output_type": "stream",
     "text": [
      "i  1 Neighbour  7 Component  10\n",
      "PCA::fit 0\n",
      "PCA::fit 1\n",
      "PCA::fit 2\n",
      "PCA::fit 3\n"
     ]
    },
    {
     "name": "stderr",
     "output_type": "stream",
     "text": [
      " 67%|██████████████████████████████████████████████████████████████████████████████████▋                                         | 2/3 [00:01<00:00,  1.34it/s]"
     ]
    },
    {
     "name": "stdout",
     "output_type": "stream",
     "text": [
      "i  2 Neighbour  7 Component  10\n",
      "PCA::fit 0\n",
      "PCA::fit 1\n",
      "PCA::fit 2\n",
      "PCA::fit 3\n"
     ]
    },
    {
     "name": "stderr",
     "output_type": "stream",
     "text": [
      "100%|████████████████████████████████████████████████████████████████████████████████████████████████████████████████████████████| 3/3 [00:02<00:00,  1.33it/s]\n",
      "  0%|                                                                                                                                    | 0/3 [00:00<?, ?it/s]"
     ]
    },
    {
     "name": "stdout",
     "output_type": "stream",
     "text": [
      "i  0 Neighbour  9 Component  10\n",
      "PCA::fit 0\n",
      "PCA::fit 1\n",
      "PCA::fit 2\n",
      "PCA::fit 3\n"
     ]
    },
    {
     "name": "stderr",
     "output_type": "stream",
     "text": [
      " 33%|█████████████████████████████████████████▎                                                                                  | 1/3 [00:00<00:01,  1.40it/s]"
     ]
    },
    {
     "name": "stdout",
     "output_type": "stream",
     "text": [
      "i  1 Neighbour  9 Component  10\n",
      "PCA::fit 0\n",
      "PCA::fit 1\n",
      "PCA::fit 2\n",
      "PCA::fit 3\n"
     ]
    },
    {
     "name": "stderr",
     "output_type": "stream",
     "text": [
      " 67%|██████████████████████████████████████████████████████████████████████████████████▋                                         | 2/3 [00:01<00:00,  1.36it/s]"
     ]
    },
    {
     "name": "stdout",
     "output_type": "stream",
     "text": [
      "i  2 Neighbour  9 Component  10\n",
      "PCA::fit 0\n",
      "PCA::fit 1\n",
      "PCA::fit 2\n",
      "PCA::fit 3\n"
     ]
    },
    {
     "name": "stderr",
     "output_type": "stream",
     "text": [
      "100%|████████████████████████████████████████████████████████████████████████████████████████████████████████████████████████████| 3/3 [00:02<00:00,  1.36it/s]\n",
      "  0%|                                                                                                                                    | 0/3 [00:00<?, ?it/s]"
     ]
    },
    {
     "name": "stdout",
     "output_type": "stream",
     "text": [
      "i  0 Neighbour  11 Component  10\n",
      "PCA::fit 0\n",
      "PCA::fit 1\n",
      "PCA::fit 2\n",
      "PCA::fit 3\n"
     ]
    },
    {
     "name": "stderr",
     "output_type": "stream",
     "text": [
      " 33%|█████████████████████████████████████████▎                                                                                  | 1/3 [00:00<00:01,  1.36it/s]"
     ]
    },
    {
     "name": "stdout",
     "output_type": "stream",
     "text": [
      "i  1 Neighbour  11 Component  10\n",
      "PCA::fit 0\n",
      "PCA::fit 1\n",
      "PCA::fit 2\n",
      "PCA::fit 3\n"
     ]
    },
    {
     "name": "stderr",
     "output_type": "stream",
     "text": [
      " 67%|██████████████████████████████████████████████████████████████████████████████████▋                                         | 2/3 [00:01<00:00,  1.34it/s]"
     ]
    },
    {
     "name": "stdout",
     "output_type": "stream",
     "text": [
      "i  2 Neighbour  11 Component  10\n",
      "PCA::fit 0\n",
      "PCA::fit 1\n",
      "PCA::fit 2\n",
      "PCA::fit 3\n"
     ]
    },
    {
     "name": "stderr",
     "output_type": "stream",
     "text": [
      "100%|████████████████████████████████████████████████████████████████████████████████████████████████████████████████████████████| 3/3 [00:02<00:00,  1.36it/s]\n",
      "  0%|                                                                                                                                    | 0/3 [00:00<?, ?it/s]"
     ]
    },
    {
     "name": "stdout",
     "output_type": "stream",
     "text": [
      "i  0 Neighbour  13 Component  10\n",
      "PCA::fit 0\n",
      "PCA::fit 1\n",
      "PCA::fit 2\n",
      "PCA::fit 3\n"
     ]
    },
    {
     "name": "stderr",
     "output_type": "stream",
     "text": [
      " 33%|█████████████████████████████████████████▎                                                                                  | 1/3 [00:00<00:01,  1.35it/s]"
     ]
    },
    {
     "name": "stdout",
     "output_type": "stream",
     "text": [
      "i  1 Neighbour  13 Component  10\n",
      "PCA::fit 0\n",
      "PCA::fit 1\n",
      "PCA::fit 2\n",
      "PCA::fit 3\n"
     ]
    },
    {
     "name": "stderr",
     "output_type": "stream",
     "text": [
      " 67%|██████████████████████████████████████████████████████████████████████████████████▋                                         | 2/3 [00:01<00:00,  1.29it/s]"
     ]
    },
    {
     "name": "stdout",
     "output_type": "stream",
     "text": [
      "i  2 Neighbour  13 Component  10\n",
      "PCA::fit 0\n",
      "PCA::fit 1\n",
      "PCA::fit 2\n",
      "PCA::fit 3\n"
     ]
    },
    {
     "name": "stderr",
     "output_type": "stream",
     "text": [
      "100%|████████████████████████████████████████████████████████████████████████████████████████████████████████████████████████████| 3/3 [00:02<00:00,  1.30it/s]\n",
      "  0%|                                                                                                                                    | 0/3 [00:00<?, ?it/s]"
     ]
    },
    {
     "name": "stdout",
     "output_type": "stream",
     "text": [
      "i  0 Neighbour  15 Component  10\n",
      "PCA::fit 0\n",
      "PCA::fit 1\n",
      "PCA::fit 2\n",
      "PCA::fit 3\n"
     ]
    },
    {
     "name": "stderr",
     "output_type": "stream",
     "text": [
      " 33%|█████████████████████████████████████████▎                                                                                  | 1/3 [00:00<00:01,  1.38it/s]"
     ]
    },
    {
     "name": "stdout",
     "output_type": "stream",
     "text": [
      "i  1 Neighbour  15 Component  10\n",
      "PCA::fit 0\n",
      "PCA::fit 1\n",
      "PCA::fit 2\n",
      "PCA::fit 3\n"
     ]
    },
    {
     "name": "stderr",
     "output_type": "stream",
     "text": [
      " 67%|██████████████████████████████████████████████████████████████████████████████████▋                                         | 2/3 [00:01<00:00,  1.32it/s]"
     ]
    },
    {
     "name": "stdout",
     "output_type": "stream",
     "text": [
      "i  2 Neighbour  15 Component  10\n",
      "PCA::fit 0\n",
      "PCA::fit 1\n",
      "PCA::fit 2\n",
      "PCA::fit 3\n"
     ]
    },
    {
     "name": "stderr",
     "output_type": "stream",
     "text": [
      "100%|████████████████████████████████████████████████████████████████████████████████████████████████████████████████████████████| 3/3 [00:02<00:00,  1.34it/s]\n",
      "  0%|                                                                                                                                    | 0/3 [00:00<?, ?it/s]"
     ]
    },
    {
     "name": "stdout",
     "output_type": "stream",
     "text": [
      "i  0 Neighbour  25 Component  10\n",
      "PCA::fit 0\n",
      "PCA::fit 1\n",
      "PCA::fit 2\n",
      "PCA::fit 3\n"
     ]
    },
    {
     "name": "stderr",
     "output_type": "stream",
     "text": [
      " 33%|█████████████████████████████████████████▎                                                                                  | 1/3 [00:00<00:01,  1.34it/s]"
     ]
    },
    {
     "name": "stdout",
     "output_type": "stream",
     "text": [
      "i  1 Neighbour  25 Component  10\n",
      "PCA::fit 0\n",
      "PCA::fit 1\n",
      "PCA::fit 2\n",
      "PCA::fit 3\n"
     ]
    },
    {
     "name": "stderr",
     "output_type": "stream",
     "text": [
      " 67%|██████████████████████████████████████████████████████████████████████████████████▋                                         | 2/3 [00:01<00:00,  1.32it/s]"
     ]
    },
    {
     "name": "stdout",
     "output_type": "stream",
     "text": [
      "i  2 Neighbour  25 Component  10\n",
      "PCA::fit 0\n",
      "PCA::fit 1\n",
      "PCA::fit 2\n",
      "PCA::fit 3\n"
     ]
    },
    {
     "name": "stderr",
     "output_type": "stream",
     "text": [
      "100%|████████████████████████████████████████████████████████████████████████████████████████████████████████████████████████████| 3/3 [00:02<00:00,  1.31it/s]\n",
      "  0%|                                                                                                                                    | 0/3 [00:00<?, ?it/s]"
     ]
    },
    {
     "name": "stdout",
     "output_type": "stream",
     "text": [
      "i  0 Neighbour  35 Component  10\n",
      "PCA::fit 0\n",
      "PCA::fit 1\n",
      "PCA::fit 2\n",
      "PCA::fit 3\n"
     ]
    },
    {
     "name": "stderr",
     "output_type": "stream",
     "text": [
      " 33%|█████████████████████████████████████████▎                                                                                  | 1/3 [00:00<00:01,  1.37it/s]"
     ]
    },
    {
     "name": "stdout",
     "output_type": "stream",
     "text": [
      "i  1 Neighbour  35 Component  10\n",
      "PCA::fit 0\n",
      "PCA::fit 1\n",
      "PCA::fit 2\n",
      "PCA::fit 3\n"
     ]
    },
    {
     "name": "stderr",
     "output_type": "stream",
     "text": [
      " 67%|██████████████████████████████████████████████████████████████████████████████████▋                                         | 2/3 [00:01<00:00,  1.33it/s]"
     ]
    },
    {
     "name": "stdout",
     "output_type": "stream",
     "text": [
      "i  2 Neighbour  35 Component  10\n",
      "PCA::fit 0\n",
      "PCA::fit 1\n",
      "PCA::fit 2\n",
      "PCA::fit 3\n"
     ]
    },
    {
     "name": "stderr",
     "output_type": "stream",
     "text": [
      "100%|████████████████████████████████████████████████████████████████████████████████████████████████████████████████████████████| 3/3 [00:02<00:00,  1.32it/s]\n",
      "  0%|                                                                                                                                    | 0/3 [00:00<?, ?it/s]"
     ]
    },
    {
     "name": "stdout",
     "output_type": "stream",
     "text": [
      "i  0 Neighbour  45 Component  10\n",
      "PCA::fit 0\n",
      "PCA::fit 1\n",
      "PCA::fit 2\n",
      "PCA::fit 3\n"
     ]
    },
    {
     "name": "stderr",
     "output_type": "stream",
     "text": [
      " 33%|█████████████████████████████████████████▎                                                                                  | 1/3 [00:00<00:01,  1.31it/s]"
     ]
    },
    {
     "name": "stdout",
     "output_type": "stream",
     "text": [
      "i  1 Neighbour  45 Component  10\n",
      "PCA::fit 0\n",
      "PCA::fit 1\n",
      "PCA::fit 2\n",
      "PCA::fit 3\n"
     ]
    },
    {
     "name": "stderr",
     "output_type": "stream",
     "text": [
      " 67%|██████████████████████████████████████████████████████████████████████████████████▋                                         | 2/3 [00:01<00:00,  1.29it/s]"
     ]
    },
    {
     "name": "stdout",
     "output_type": "stream",
     "text": [
      "i  2 Neighbour  45 Component  10\n",
      "PCA::fit 0\n",
      "PCA::fit 1\n",
      "PCA::fit 2\n",
      "PCA::fit 3\n"
     ]
    },
    {
     "name": "stderr",
     "output_type": "stream",
     "text": [
      "100%|████████████████████████████████████████████████████████████████████████████████████████████████████████████████████████████| 3/3 [00:02<00:00,  1.30it/s]\n",
      "  0%|                                                                                                                                    | 0/3 [00:00<?, ?it/s]"
     ]
    },
    {
     "name": "stdout",
     "output_type": "stream",
     "text": [
      "i  0 Neighbour  55 Component  10\n",
      "PCA::fit 0\n",
      "PCA::fit 1\n",
      "PCA::fit 2\n",
      "PCA::fit 3\n"
     ]
    },
    {
     "name": "stderr",
     "output_type": "stream",
     "text": [
      " 33%|█████████████████████████████████████████▎                                                                                  | 1/3 [00:00<00:01,  1.35it/s]"
     ]
    },
    {
     "name": "stdout",
     "output_type": "stream",
     "text": [
      "i  1 Neighbour  55 Component  10\n",
      "PCA::fit 0\n",
      "PCA::fit 1\n",
      "PCA::fit 2\n",
      "PCA::fit 3\n"
     ]
    },
    {
     "name": "stderr",
     "output_type": "stream",
     "text": [
      " 67%|██████████████████████████████████████████████████████████████████████████████████▋                                         | 2/3 [00:01<00:00,  1.35it/s]"
     ]
    },
    {
     "name": "stdout",
     "output_type": "stream",
     "text": [
      "i  2 Neighbour  55 Component  10\n",
      "PCA::fit 0\n",
      "PCA::fit 1\n",
      "PCA::fit 2\n",
      "PCA::fit 3\n"
     ]
    },
    {
     "name": "stderr",
     "output_type": "stream",
     "text": [
      "100%|████████████████████████████████████████████████████████████████████████████████████████████████████████████████████████████| 3/3 [00:02<00:00,  1.35it/s]\n",
      "  0%|                                                                                                                                    | 0/3 [00:00<?, ?it/s]"
     ]
    },
    {
     "name": "stdout",
     "output_type": "stream",
     "text": [
      "i  0 Neighbour  65 Component  10\n",
      "PCA::fit 0\n",
      "PCA::fit 1\n",
      "PCA::fit 2\n",
      "PCA::fit 3\n"
     ]
    },
    {
     "name": "stderr",
     "output_type": "stream",
     "text": [
      " 33%|█████████████████████████████████████████▎                                                                                  | 1/3 [00:00<00:01,  1.36it/s]"
     ]
    },
    {
     "name": "stdout",
     "output_type": "stream",
     "text": [
      "i  1 Neighbour  65 Component  10\n",
      "PCA::fit 0\n",
      "PCA::fit 1\n",
      "PCA::fit 2\n",
      "PCA::fit 3\n"
     ]
    },
    {
     "name": "stderr",
     "output_type": "stream",
     "text": [
      " 67%|██████████████████████████████████████████████████████████████████████████████████▋                                         | 2/3 [00:01<00:00,  1.34it/s]"
     ]
    },
    {
     "name": "stdout",
     "output_type": "stream",
     "text": [
      "i  2 Neighbour  65 Component  10\n",
      "PCA::fit 0\n",
      "PCA::fit 1\n",
      "PCA::fit 2\n",
      "PCA::fit 3\n"
     ]
    },
    {
     "name": "stderr",
     "output_type": "stream",
     "text": [
      "100%|████████████████████████████████████████████████████████████████████████████████████████████████████████████████████████████| 3/3 [00:02<00:00,  1.34it/s]\n",
      "  0%|                                                                                                                                    | 0/3 [00:00<?, ?it/s]"
     ]
    },
    {
     "name": "stdout",
     "output_type": "stream",
     "text": [
      "i  0 Neighbour  75 Component  10\n",
      "PCA::fit 0\n",
      "PCA::fit 1\n",
      "PCA::fit 2\n",
      "PCA::fit 3\n"
     ]
    },
    {
     "name": "stderr",
     "output_type": "stream",
     "text": [
      " 33%|█████████████████████████████████████████▎                                                                                  | 1/3 [00:00<00:01,  1.38it/s]"
     ]
    },
    {
     "name": "stdout",
     "output_type": "stream",
     "text": [
      "i  1 Neighbour  75 Component  10\n",
      "PCA::fit 0\n",
      "PCA::fit 1\n",
      "PCA::fit 2\n",
      "PCA::fit 3\n"
     ]
    },
    {
     "name": "stderr",
     "output_type": "stream",
     "text": [
      " 67%|██████████████████████████████████████████████████████████████████████████████████▋                                         | 2/3 [00:01<00:00,  1.37it/s]"
     ]
    },
    {
     "name": "stdout",
     "output_type": "stream",
     "text": [
      "i  2 Neighbour  75 Component  10\n",
      "PCA::fit 0\n",
      "PCA::fit 1\n",
      "PCA::fit 2\n",
      "PCA::fit 3\n"
     ]
    },
    {
     "name": "stderr",
     "output_type": "stream",
     "text": [
      "100%|████████████████████████████████████████████████████████████████████████████████████████████████████████████████████████████| 3/3 [00:02<00:00,  1.37it/s]\n",
      "  0%|                                                                                                                                    | 0/3 [00:00<?, ?it/s]"
     ]
    },
    {
     "name": "stdout",
     "output_type": "stream",
     "text": [
      "i  0 Neighbour  85 Component  10\n",
      "PCA::fit 0\n",
      "PCA::fit 1\n",
      "PCA::fit 2\n",
      "PCA::fit 3\n"
     ]
    },
    {
     "name": "stderr",
     "output_type": "stream",
     "text": [
      " 33%|█████████████████████████████████████████▎                                                                                  | 1/3 [00:00<00:01,  1.37it/s]"
     ]
    },
    {
     "name": "stdout",
     "output_type": "stream",
     "text": [
      "i  1 Neighbour  85 Component  10\n",
      "PCA::fit 0\n",
      "PCA::fit 1\n",
      "PCA::fit 2\n",
      "PCA::fit 3\n"
     ]
    },
    {
     "name": "stderr",
     "output_type": "stream",
     "text": [
      " 67%|██████████████████████████████████████████████████████████████████████████████████▋                                         | 2/3 [00:01<00:00,  1.35it/s]"
     ]
    },
    {
     "name": "stdout",
     "output_type": "stream",
     "text": [
      "i  2 Neighbour  85 Component  10\n",
      "PCA::fit 0\n",
      "PCA::fit 1\n",
      "PCA::fit 2\n",
      "PCA::fit 3\n"
     ]
    },
    {
     "name": "stderr",
     "output_type": "stream",
     "text": [
      "100%|████████████████████████████████████████████████████████████████████████████████████████████████████████████████████████████| 3/3 [00:02<00:00,  1.37it/s]\n",
      "  0%|                                                                                                                                    | 0/3 [00:00<?, ?it/s]"
     ]
    },
    {
     "name": "stdout",
     "output_type": "stream",
     "text": [
      "i  0 Neighbour  95 Component  10\n",
      "PCA::fit 0\n",
      "PCA::fit 1\n",
      "PCA::fit 2\n",
      "PCA::fit 3\n"
     ]
    },
    {
     "name": "stderr",
     "output_type": "stream",
     "text": [
      " 33%|█████████████████████████████████████████▎                                                                                  | 1/3 [00:00<00:01,  1.36it/s]"
     ]
    },
    {
     "name": "stdout",
     "output_type": "stream",
     "text": [
      "i  1 Neighbour  95 Component  10\n",
      "PCA::fit 0\n",
      "PCA::fit 1\n",
      "PCA::fit 2\n",
      "PCA::fit 3\n"
     ]
    },
    {
     "name": "stderr",
     "output_type": "stream",
     "text": [
      " 67%|██████████████████████████████████████████████████████████████████████████████████▋                                         | 2/3 [00:01<00:00,  1.33it/s]"
     ]
    },
    {
     "name": "stdout",
     "output_type": "stream",
     "text": [
      "i  2 Neighbour  95 Component  10\n",
      "PCA::fit 0\n",
      "PCA::fit 1\n",
      "PCA::fit 2\n",
      "PCA::fit 3\n"
     ]
    },
    {
     "name": "stderr",
     "output_type": "stream",
     "text": [
      "100%|████████████████████████████████████████████████████████████████████████████████████████████████████████████████████████████| 3/3 [00:02<00:00,  1.33it/s]\n",
      "  0%|                                                                                                                                    | 0/3 [00:00<?, ?it/s]"
     ]
    },
    {
     "name": "stdout",
     "output_type": "stream",
     "text": [
      "i  0 Neighbour  1 Component  20\n",
      "PCA::fit 0\n",
      "PCA::fit 1\n",
      "PCA::fit 2\n",
      "PCA::fit 3\n"
     ]
    },
    {
     "name": "stderr",
     "output_type": "stream",
     "text": [
      " 33%|█████████████████████████████████████████▎                                                                                  | 1/3 [00:00<00:01,  1.02it/s]"
     ]
    },
    {
     "name": "stdout",
     "output_type": "stream",
     "text": [
      "i  1 Neighbour  1 Component  20\n",
      "PCA::fit 0\n",
      "PCA::fit 1\n",
      "PCA::fit 2\n",
      "PCA::fit 3\n"
     ]
    },
    {
     "name": "stderr",
     "output_type": "stream",
     "text": [
      " 67%|██████████████████████████████████████████████████████████████████████████████████▋                                         | 2/3 [00:01<00:00,  1.01it/s]"
     ]
    },
    {
     "name": "stdout",
     "output_type": "stream",
     "text": [
      "i  2 Neighbour  1 Component  20\n",
      "PCA::fit 0\n",
      "PCA::fit 1\n",
      "PCA::fit 2\n",
      "PCA::fit 3\n"
     ]
    },
    {
     "name": "stderr",
     "output_type": "stream",
     "text": [
      "100%|████████████████████████████████████████████████████████████████████████████████████████████████████████████████████████████| 3/3 [00:03<00:00,  1.02s/it]\n",
      "  0%|                                                                                                                                    | 0/3 [00:00<?, ?it/s]"
     ]
    },
    {
     "name": "stdout",
     "output_type": "stream",
     "text": [
      "i  0 Neighbour  3 Component  20\n",
      "PCA::fit 0\n",
      "PCA::fit 1\n",
      "PCA::fit 2\n",
      "PCA::fit 3\n"
     ]
    },
    {
     "name": "stderr",
     "output_type": "stream",
     "text": [
      " 33%|█████████████████████████████████████████▎                                                                                  | 1/3 [00:00<00:01,  1.02it/s]"
     ]
    },
    {
     "name": "stdout",
     "output_type": "stream",
     "text": [
      "i  1 Neighbour  3 Component  20\n",
      "PCA::fit 0\n",
      "PCA::fit 1\n",
      "PCA::fit 2\n",
      "PCA::fit 3\n"
     ]
    },
    {
     "name": "stderr",
     "output_type": "stream",
     "text": [
      " 67%|██████████████████████████████████████████████████████████████████████████████████▋                                         | 2/3 [00:02<00:01,  1.03s/it]"
     ]
    },
    {
     "name": "stdout",
     "output_type": "stream",
     "text": [
      "i  2 Neighbour  3 Component  20\n",
      "PCA::fit 0\n",
      "PCA::fit 1\n",
      "PCA::fit 2\n",
      "PCA::fit 3\n"
     ]
    },
    {
     "name": "stderr",
     "output_type": "stream",
     "text": [
      "100%|████████████████████████████████████████████████████████████████████████████████████████████████████████████████████████████| 3/3 [00:03<00:00,  1.01s/it]\n",
      "  0%|                                                                                                                                    | 0/3 [00:00<?, ?it/s]"
     ]
    },
    {
     "name": "stdout",
     "output_type": "stream",
     "text": [
      "i  0 Neighbour  5 Component  20\n",
      "PCA::fit 0\n",
      "PCA::fit 1\n",
      "PCA::fit 2\n",
      "PCA::fit 3\n"
     ]
    },
    {
     "name": "stderr",
     "output_type": "stream",
     "text": [
      " 33%|█████████████████████████████████████████▎                                                                                  | 1/3 [00:00<00:01,  1.01it/s]"
     ]
    },
    {
     "name": "stdout",
     "output_type": "stream",
     "text": [
      "i  1 Neighbour  5 Component  20\n",
      "PCA::fit 0\n",
      "PCA::fit 1\n",
      "PCA::fit 2\n",
      "PCA::fit 3\n"
     ]
    },
    {
     "name": "stderr",
     "output_type": "stream",
     "text": [
      " 67%|██████████████████████████████████████████████████████████████████████████████████▋                                         | 2/3 [00:02<00:01,  1.01s/it]"
     ]
    },
    {
     "name": "stdout",
     "output_type": "stream",
     "text": [
      "i  2 Neighbour  5 Component  20\n",
      "PCA::fit 0\n",
      "PCA::fit 1\n",
      "PCA::fit 2\n",
      "PCA::fit 3\n"
     ]
    },
    {
     "name": "stderr",
     "output_type": "stream",
     "text": [
      "100%|████████████████████████████████████████████████████████████████████████████████████████████████████████████████████████████| 3/3 [00:03<00:00,  1.03s/it]\n",
      "  0%|                                                                                                                                    | 0/3 [00:00<?, ?it/s]"
     ]
    },
    {
     "name": "stdout",
     "output_type": "stream",
     "text": [
      "i  0 Neighbour  7 Component  20\n",
      "PCA::fit 0\n",
      "PCA::fit 1\n",
      "PCA::fit 2\n",
      "PCA::fit 3\n"
     ]
    },
    {
     "name": "stderr",
     "output_type": "stream",
     "text": [
      " 33%|█████████████████████████████████████████▎                                                                                  | 1/3 [00:00<00:01,  1.02it/s]"
     ]
    },
    {
     "name": "stdout",
     "output_type": "stream",
     "text": [
      "i  1 Neighbour  7 Component  20\n",
      "PCA::fit 0\n",
      "PCA::fit 1\n",
      "PCA::fit 2\n",
      "PCA::fit 3\n"
     ]
    },
    {
     "name": "stderr",
     "output_type": "stream",
     "text": [
      " 67%|██████████████████████████████████████████████████████████████████████████████████▋                                         | 2/3 [00:02<00:01,  1.01s/it]"
     ]
    },
    {
     "name": "stdout",
     "output_type": "stream",
     "text": [
      "i  2 Neighbour  7 Component  20\n",
      "PCA::fit 0\n",
      "PCA::fit 1\n",
      "PCA::fit 2\n",
      "PCA::fit 3\n"
     ]
    },
    {
     "name": "stderr",
     "output_type": "stream",
     "text": [
      "100%|████████████████████████████████████████████████████████████████████████████████████████████████████████████████████████████| 3/3 [00:03<00:00,  1.04s/it]\n",
      "  0%|                                                                                                                                    | 0/3 [00:00<?, ?it/s]"
     ]
    },
    {
     "name": "stdout",
     "output_type": "stream",
     "text": [
      "i  0 Neighbour  9 Component  20\n",
      "PCA::fit 0\n",
      "PCA::fit 1\n",
      "PCA::fit 2\n",
      "PCA::fit 3\n"
     ]
    },
    {
     "name": "stderr",
     "output_type": "stream",
     "text": [
      " 33%|█████████████████████████████████████████▎                                                                                  | 1/3 [00:01<00:02,  1.16s/it]"
     ]
    },
    {
     "name": "stdout",
     "output_type": "stream",
     "text": [
      "i  1 Neighbour  9 Component  20\n",
      "PCA::fit 0\n",
      "PCA::fit 1\n",
      "PCA::fit 2\n",
      "PCA::fit 3\n"
     ]
    },
    {
     "name": "stderr",
     "output_type": "stream",
     "text": [
      " 67%|██████████████████████████████████████████████████████████████████████████████████▋                                         | 2/3 [00:02<00:01,  1.11s/it]"
     ]
    },
    {
     "name": "stdout",
     "output_type": "stream",
     "text": [
      "i  2 Neighbour  9 Component  20\n",
      "PCA::fit 0\n",
      "PCA::fit 1\n",
      "PCA::fit 2\n",
      "PCA::fit 3\n"
     ]
    },
    {
     "name": "stderr",
     "output_type": "stream",
     "text": [
      "100%|████████████████████████████████████████████████████████████████████████████████████████████████████████████████████████████| 3/3 [00:03<00:00,  1.11s/it]\n",
      "  0%|                                                                                                                                    | 0/3 [00:00<?, ?it/s]"
     ]
    },
    {
     "name": "stdout",
     "output_type": "stream",
     "text": [
      "i  0 Neighbour  11 Component  20\n",
      "PCA::fit 0\n",
      "PCA::fit 1\n",
      "PCA::fit 2\n",
      "PCA::fit 3\n"
     ]
    },
    {
     "name": "stderr",
     "output_type": "stream",
     "text": [
      " 33%|█████████████████████████████████████████▎                                                                                  | 1/3 [00:01<00:02,  1.07s/it]"
     ]
    },
    {
     "name": "stdout",
     "output_type": "stream",
     "text": [
      "i  1 Neighbour  11 Component  20\n",
      "PCA::fit 0\n",
      "PCA::fit 1\n",
      "PCA::fit 2\n",
      "PCA::fit 3\n"
     ]
    },
    {
     "name": "stderr",
     "output_type": "stream",
     "text": [
      " 67%|██████████████████████████████████████████████████████████████████████████████████▋                                         | 2/3 [00:02<00:01,  1.09s/it]"
     ]
    },
    {
     "name": "stdout",
     "output_type": "stream",
     "text": [
      "i  2 Neighbour  11 Component  20\n",
      "PCA::fit 0\n",
      "PCA::fit 1\n",
      "PCA::fit 2\n",
      "PCA::fit 3\n"
     ]
    },
    {
     "name": "stderr",
     "output_type": "stream",
     "text": [
      "100%|████████████████████████████████████████████████████████████████████████████████████████████████████████████████████████████| 3/3 [00:03<00:00,  1.14s/it]\n",
      "  0%|                                                                                                                                    | 0/3 [00:00<?, ?it/s]"
     ]
    },
    {
     "name": "stdout",
     "output_type": "stream",
     "text": [
      "i  0 Neighbour  13 Component  20\n",
      "PCA::fit 0\n",
      "PCA::fit 1\n",
      "PCA::fit 2\n",
      "PCA::fit 3\n"
     ]
    },
    {
     "name": "stderr",
     "output_type": "stream",
     "text": [
      " 33%|█████████████████████████████████████████▎                                                                                  | 1/3 [00:01<00:02,  1.10s/it]"
     ]
    },
    {
     "name": "stdout",
     "output_type": "stream",
     "text": [
      "i  1 Neighbour  13 Component  20\n",
      "PCA::fit 0\n",
      "PCA::fit 1\n",
      "PCA::fit 2\n",
      "PCA::fit 3\n"
     ]
    },
    {
     "name": "stderr",
     "output_type": "stream",
     "text": [
      " 67%|██████████████████████████████████████████████████████████████████████████████████▋                                         | 2/3 [00:02<00:01,  1.11s/it]"
     ]
    },
    {
     "name": "stdout",
     "output_type": "stream",
     "text": [
      "i  2 Neighbour  13 Component  20\n",
      "PCA::fit 0\n",
      "PCA::fit 1\n",
      "PCA::fit 2\n",
      "PCA::fit 3\n"
     ]
    },
    {
     "name": "stderr",
     "output_type": "stream",
     "text": [
      "100%|████████████████████████████████████████████████████████████████████████████████████████████████████████████████████████████| 3/3 [00:03<00:00,  1.11s/it]\n",
      "  0%|                                                                                                                                    | 0/3 [00:00<?, ?it/s]"
     ]
    },
    {
     "name": "stdout",
     "output_type": "stream",
     "text": [
      "i  0 Neighbour  15 Component  20\n",
      "PCA::fit 0\n",
      "PCA::fit 1\n",
      "PCA::fit 2\n",
      "PCA::fit 3\n"
     ]
    },
    {
     "name": "stderr",
     "output_type": "stream",
     "text": [
      " 33%|█████████████████████████████████████████▎                                                                                  | 1/3 [00:01<00:02,  1.02s/it]"
     ]
    },
    {
     "name": "stdout",
     "output_type": "stream",
     "text": [
      "i  1 Neighbour  15 Component  20\n",
      "PCA::fit 0\n",
      "PCA::fit 1\n",
      "PCA::fit 2\n",
      "PCA::fit 3\n"
     ]
    },
    {
     "name": "stderr",
     "output_type": "stream",
     "text": [
      " 67%|██████████████████████████████████████████████████████████████████████████████████▋                                         | 2/3 [00:02<00:01,  1.06s/it]"
     ]
    },
    {
     "name": "stdout",
     "output_type": "stream",
     "text": [
      "i  2 Neighbour  15 Component  20\n",
      "PCA::fit 0\n",
      "PCA::fit 1\n",
      "PCA::fit 2\n",
      "PCA::fit 3\n"
     ]
    },
    {
     "name": "stderr",
     "output_type": "stream",
     "text": [
      "100%|████████████████████████████████████████████████████████████████████████████████████████████████████████████████████████████| 3/3 [00:03<00:00,  1.07s/it]\n",
      "  0%|                                                                                                                                    | 0/3 [00:00<?, ?it/s]"
     ]
    },
    {
     "name": "stdout",
     "output_type": "stream",
     "text": [
      "i  0 Neighbour  25 Component  20\n",
      "PCA::fit 0\n",
      "PCA::fit 1\n",
      "PCA::fit 2\n",
      "PCA::fit 3\n"
     ]
    },
    {
     "name": "stderr",
     "output_type": "stream",
     "text": [
      " 33%|█████████████████████████████████████████▎                                                                                  | 1/3 [00:01<00:02,  1.03s/it]"
     ]
    },
    {
     "name": "stdout",
     "output_type": "stream",
     "text": [
      "i  1 Neighbour  25 Component  20\n",
      "PCA::fit 0\n",
      "PCA::fit 1\n",
      "PCA::fit 2\n",
      "PCA::fit 3\n"
     ]
    },
    {
     "name": "stderr",
     "output_type": "stream",
     "text": [
      " 67%|██████████████████████████████████████████████████████████████████████████████████▋                                         | 2/3 [00:02<00:01,  1.02s/it]"
     ]
    },
    {
     "name": "stdout",
     "output_type": "stream",
     "text": [
      "i  2 Neighbour  25 Component  20\n",
      "PCA::fit 0\n",
      "PCA::fit 1\n",
      "PCA::fit 2\n",
      "PCA::fit 3\n"
     ]
    },
    {
     "name": "stderr",
     "output_type": "stream",
     "text": [
      "100%|████████████████████████████████████████████████████████████████████████████████████████████████████████████████████████████| 3/3 [00:03<00:00,  1.06s/it]\n",
      "  0%|                                                                                                                                    | 0/3 [00:00<?, ?it/s]"
     ]
    },
    {
     "name": "stdout",
     "output_type": "stream",
     "text": [
      "i  0 Neighbour  35 Component  20\n",
      "PCA::fit 0\n",
      "PCA::fit 1\n",
      "PCA::fit 2\n",
      "PCA::fit 3\n"
     ]
    },
    {
     "name": "stderr",
     "output_type": "stream",
     "text": [
      " 33%|█████████████████████████████████████████▎                                                                                  | 1/3 [00:01<00:02,  1.04s/it]"
     ]
    },
    {
     "name": "stdout",
     "output_type": "stream",
     "text": [
      "i  1 Neighbour  35 Component  20\n",
      "PCA::fit 0\n",
      "PCA::fit 1\n",
      "PCA::fit 2\n",
      "PCA::fit 3\n"
     ]
    },
    {
     "name": "stderr",
     "output_type": "stream",
     "text": [
      " 67%|██████████████████████████████████████████████████████████████████████████████████▋                                         | 2/3 [00:02<00:01,  1.01s/it]"
     ]
    },
    {
     "name": "stdout",
     "output_type": "stream",
     "text": [
      "i  2 Neighbour  35 Component  20\n",
      "PCA::fit 0\n",
      "PCA::fit 1\n",
      "PCA::fit 2\n",
      "PCA::fit 3\n"
     ]
    },
    {
     "name": "stderr",
     "output_type": "stream",
     "text": [
      "100%|████████████████████████████████████████████████████████████████████████████████████████████████████████████████████████████| 3/3 [00:03<00:00,  1.07s/it]\n",
      "  0%|                                                                                                                                    | 0/3 [00:00<?, ?it/s]"
     ]
    },
    {
     "name": "stdout",
     "output_type": "stream",
     "text": [
      "i  0 Neighbour  45 Component  20\n",
      "PCA::fit 0\n",
      "PCA::fit 1\n",
      "PCA::fit 2\n",
      "PCA::fit 3\n"
     ]
    },
    {
     "name": "stderr",
     "output_type": "stream",
     "text": [
      " 33%|█████████████████████████████████████████▎                                                                                  | 1/3 [00:00<00:01,  1.02it/s]"
     ]
    },
    {
     "name": "stdout",
     "output_type": "stream",
     "text": [
      "i  1 Neighbour  45 Component  20\n",
      "PCA::fit 0\n",
      "PCA::fit 1\n",
      "PCA::fit 2\n",
      "PCA::fit 3\n"
     ]
    },
    {
     "name": "stderr",
     "output_type": "stream",
     "text": [
      " 67%|██████████████████████████████████████████████████████████████████████████████████▋                                         | 2/3 [00:02<00:01,  1.03s/it]"
     ]
    },
    {
     "name": "stdout",
     "output_type": "stream",
     "text": [
      "i  2 Neighbour  45 Component  20\n",
      "PCA::fit 0\n",
      "PCA::fit 1\n",
      "PCA::fit 2\n",
      "PCA::fit 3\n"
     ]
    },
    {
     "name": "stderr",
     "output_type": "stream",
     "text": [
      "100%|████████████████████████████████████████████████████████████████████████████████████████████████████████████████████████████| 3/3 [00:03<00:00,  1.04s/it]\n",
      "  0%|                                                                                                                                    | 0/3 [00:00<?, ?it/s]"
     ]
    },
    {
     "name": "stdout",
     "output_type": "stream",
     "text": [
      "i  0 Neighbour  55 Component  20\n",
      "PCA::fit 0\n",
      "PCA::fit 1\n",
      "PCA::fit 2\n",
      "PCA::fit 3\n"
     ]
    },
    {
     "name": "stderr",
     "output_type": "stream",
     "text": [
      " 33%|█████████████████████████████████████████▎                                                                                  | 1/3 [00:01<00:02,  1.00s/it]"
     ]
    },
    {
     "name": "stdout",
     "output_type": "stream",
     "text": [
      "i  1 Neighbour  55 Component  20\n",
      "PCA::fit 0\n",
      "PCA::fit 1\n",
      "PCA::fit 2\n",
      "PCA::fit 3\n"
     ]
    },
    {
     "name": "stderr",
     "output_type": "stream",
     "text": [
      " 67%|██████████████████████████████████████████████████████████████████████████████████▋                                         | 2/3 [00:02<00:01,  1.01s/it]"
     ]
    },
    {
     "name": "stdout",
     "output_type": "stream",
     "text": [
      "i  2 Neighbour  55 Component  20\n",
      "PCA::fit 0\n",
      "PCA::fit 1\n",
      "PCA::fit 2\n",
      "PCA::fit 3\n"
     ]
    },
    {
     "name": "stderr",
     "output_type": "stream",
     "text": [
      "100%|████████████████████████████████████████████████████████████████████████████████████████████████████████████████████████████| 3/3 [00:03<00:00,  1.09s/it]\n",
      "  0%|                                                                                                                                    | 0/3 [00:00<?, ?it/s]"
     ]
    },
    {
     "name": "stdout",
     "output_type": "stream",
     "text": [
      "i  0 Neighbour  65 Component  20\n",
      "PCA::fit 0\n",
      "PCA::fit 1\n",
      "PCA::fit 2\n",
      "PCA::fit 3\n"
     ]
    },
    {
     "name": "stderr",
     "output_type": "stream",
     "text": [
      " 33%|█████████████████████████████████████████▎                                                                                  | 1/3 [00:01<00:02,  1.08s/it]"
     ]
    },
    {
     "name": "stdout",
     "output_type": "stream",
     "text": [
      "i  1 Neighbour  65 Component  20\n",
      "PCA::fit 0\n",
      "PCA::fit 1\n",
      "PCA::fit 2\n",
      "PCA::fit 3\n"
     ]
    },
    {
     "name": "stderr",
     "output_type": "stream",
     "text": [
      " 67%|██████████████████████████████████████████████████████████████████████████████████▋                                         | 2/3 [00:02<00:01,  1.13s/it]"
     ]
    },
    {
     "name": "stdout",
     "output_type": "stream",
     "text": [
      "i  2 Neighbour  65 Component  20\n",
      "PCA::fit 0\n",
      "PCA::fit 1\n",
      "PCA::fit 2\n",
      "PCA::fit 3\n"
     ]
    },
    {
     "name": "stderr",
     "output_type": "stream",
     "text": [
      "100%|████████████████████████████████████████████████████████████████████████████████████████████████████████████████████████████| 3/3 [00:03<00:00,  1.18s/it]\n",
      "  0%|                                                                                                                                    | 0/3 [00:00<?, ?it/s]"
     ]
    },
    {
     "name": "stdout",
     "output_type": "stream",
     "text": [
      "i  0 Neighbour  75 Component  20\n",
      "PCA::fit 0\n",
      "PCA::fit 1\n",
      "PCA::fit 2\n",
      "PCA::fit 3\n"
     ]
    },
    {
     "name": "stderr",
     "output_type": "stream",
     "text": [
      " 33%|█████████████████████████████████████████▎                                                                                  | 1/3 [00:01<00:02,  1.08s/it]"
     ]
    },
    {
     "name": "stdout",
     "output_type": "stream",
     "text": [
      "i  1 Neighbour  75 Component  20\n",
      "PCA::fit 0\n",
      "PCA::fit 1\n",
      "PCA::fit 2\n",
      "PCA::fit 3\n"
     ]
    },
    {
     "name": "stderr",
     "output_type": "stream",
     "text": [
      " 67%|██████████████████████████████████████████████████████████████████████████████████▋                                         | 2/3 [00:02<00:01,  1.07s/it]"
     ]
    },
    {
     "name": "stdout",
     "output_type": "stream",
     "text": [
      "i  2 Neighbour  75 Component  20\n",
      "PCA::fit 0\n",
      "PCA::fit 1\n",
      "PCA::fit 2\n",
      "PCA::fit 3\n"
     ]
    },
    {
     "name": "stderr",
     "output_type": "stream",
     "text": [
      "100%|████████████████████████████████████████████████████████████████████████████████████████████████████████████████████████████| 3/3 [00:03<00:00,  1.07s/it]\n",
      "  0%|                                                                                                                                    | 0/3 [00:00<?, ?it/s]"
     ]
    },
    {
     "name": "stdout",
     "output_type": "stream",
     "text": [
      "i  0 Neighbour  85 Component  20\n",
      "PCA::fit 0\n",
      "PCA::fit 1\n",
      "PCA::fit 2\n",
      "PCA::fit 3\n"
     ]
    },
    {
     "name": "stderr",
     "output_type": "stream",
     "text": [
      " 33%|█████████████████████████████████████████▎                                                                                  | 1/3 [00:01<00:02,  1.01s/it]"
     ]
    },
    {
     "name": "stdout",
     "output_type": "stream",
     "text": [
      "i  1 Neighbour  85 Component  20\n",
      "PCA::fit 0\n",
      "PCA::fit 1\n",
      "PCA::fit 2\n",
      "PCA::fit 3\n"
     ]
    },
    {
     "name": "stderr",
     "output_type": "stream",
     "text": [
      " 67%|██████████████████████████████████████████████████████████████████████████████████▋                                         | 2/3 [00:02<00:01,  1.03s/it]"
     ]
    },
    {
     "name": "stdout",
     "output_type": "stream",
     "text": [
      "i  2 Neighbour  85 Component  20\n",
      "PCA::fit 0\n",
      "PCA::fit 1\n",
      "PCA::fit 2\n",
      "PCA::fit 3\n"
     ]
    },
    {
     "name": "stderr",
     "output_type": "stream",
     "text": [
      "100%|████████████████████████████████████████████████████████████████████████████████████████████████████████████████████████████| 3/3 [00:03<00:00,  1.06s/it]\n",
      "  0%|                                                                                                                                    | 0/3 [00:00<?, ?it/s]"
     ]
    },
    {
     "name": "stdout",
     "output_type": "stream",
     "text": [
      "i  0 Neighbour  95 Component  20\n",
      "PCA::fit 0\n",
      "PCA::fit 1\n",
      "PCA::fit 2\n",
      "PCA::fit 3\n"
     ]
    },
    {
     "name": "stderr",
     "output_type": "stream",
     "text": [
      " 33%|█████████████████████████████████████████▎                                                                                  | 1/3 [00:01<00:02,  1.06s/it]"
     ]
    },
    {
     "name": "stdout",
     "output_type": "stream",
     "text": [
      "i  1 Neighbour  95 Component  20\n",
      "PCA::fit 0\n",
      "PCA::fit 1\n",
      "PCA::fit 2\n",
      "PCA::fit 3\n"
     ]
    },
    {
     "name": "stderr",
     "output_type": "stream",
     "text": [
      " 67%|██████████████████████████████████████████████████████████████████████████████████▋                                         | 2/3 [00:02<00:01,  1.05s/it]"
     ]
    },
    {
     "name": "stdout",
     "output_type": "stream",
     "text": [
      "i  2 Neighbour  95 Component  20\n",
      "PCA::fit 0\n",
      "PCA::fit 1\n",
      "PCA::fit 2\n",
      "PCA::fit 3\n"
     ]
    },
    {
     "name": "stderr",
     "output_type": "stream",
     "text": [
      "100%|████████████████████████████████████████████████████████████████████████████████████████████████████████████████████████████| 3/3 [00:03<00:00,  1.07s/it]\n",
      "  0%|                                                                                                                                    | 0/3 [00:00<?, ?it/s]"
     ]
    },
    {
     "name": "stdout",
     "output_type": "stream",
     "text": [
      "i  0 Neighbour  1 Component  30\n",
      "PCA::fit 0\n",
      "PCA::fit 1\n",
      "PCA::fit 2\n",
      "PCA::fit 3\n"
     ]
    },
    {
     "name": "stderr",
     "output_type": "stream",
     "text": [
      " 33%|█████████████████████████████████████████▎                                                                                  | 1/3 [00:01<00:02,  1.39s/it]"
     ]
    },
    {
     "name": "stdout",
     "output_type": "stream",
     "text": [
      "i  1 Neighbour  1 Component  30\n",
      "PCA::fit 0\n",
      "PCA::fit 1\n",
      "PCA::fit 2\n",
      "PCA::fit 3\n"
     ]
    },
    {
     "name": "stderr",
     "output_type": "stream",
     "text": [
      " 67%|██████████████████████████████████████████████████████████████████████████████████▋                                         | 2/3 [00:02<00:01,  1.43s/it]"
     ]
    },
    {
     "name": "stdout",
     "output_type": "stream",
     "text": [
      "i  2 Neighbour  1 Component  30\n",
      "PCA::fit 0\n",
      "PCA::fit 1\n",
      "PCA::fit 2\n",
      "PCA::fit 3\n"
     ]
    },
    {
     "name": "stderr",
     "output_type": "stream",
     "text": [
      "100%|████████████████████████████████████████████████████████████████████████████████████████████████████████████████████████████| 3/3 [00:04<00:00,  1.45s/it]\n",
      "  0%|                                                                                                                                    | 0/3 [00:00<?, ?it/s]"
     ]
    },
    {
     "name": "stdout",
     "output_type": "stream",
     "text": [
      "i  0 Neighbour  3 Component  30\n",
      "PCA::fit 0\n",
      "PCA::fit 1\n",
      "PCA::fit 2\n",
      "PCA::fit 3\n"
     ]
    },
    {
     "name": "stderr",
     "output_type": "stream",
     "text": [
      " 33%|█████████████████████████████████████████▎                                                                                  | 1/3 [00:01<00:02,  1.28s/it]"
     ]
    },
    {
     "name": "stdout",
     "output_type": "stream",
     "text": [
      "i  1 Neighbour  3 Component  30\n"
     ]
    },
    {
     "name": "stderr",
     "output_type": "stream",
     "text": [
      " 33%|█████████████████████████████████████████▎                                                                                  | 1/3 [00:02<00:04,  2.23s/it]"
     ]
    },
    {
     "name": "stdout",
     "output_type": "stream",
     "text": [
      "PCA::fit 0\n",
      "PCA::fit 1\n",
      "PCA::fit 2\n",
      "PCA::fit 3\n"
     ]
    },
    {
     "name": "stderr",
     "output_type": "stream",
     "text": [
      "\n"
     ]
    },
    {
     "ename": "KeyboardInterrupt",
     "evalue": "",
     "output_type": "error",
     "traceback": [
      "\u001b[0;31m---------------------------------------------------------------------------\u001b[0m",
      "\u001b[0;31mKeyboardInterrupt\u001b[0m                         Traceback (most recent call last)",
      "\u001b[0;32m<timed exec>\u001b[0m in \u001b[0;36m<module>\u001b[0;34m\u001b[0m\n",
      "\u001b[0;32m/var/folders/1f/_kjpszdd1vl0ff1jywmy0q3m5s__6v/T/ipykernel_79022/3012958472.py\u001b[0m in \u001b[0;36mknn_pca_exp\u001b[0;34m(k, c, X_train, X_val, y_train, y_val)\u001b[0m\n\u001b[1;32m      9\u001b[0m         \u001b[0mpca\u001b[0m \u001b[0;34m=\u001b[0m \u001b[0mmt\u001b[0m\u001b[0;34m.\u001b[0m\u001b[0mPCA\u001b[0m\u001b[0;34m(\u001b[0m\u001b[0mc\u001b[0m\u001b[0;34m)\u001b[0m\u001b[0;34m\u001b[0m\u001b[0;34m\u001b[0m\u001b[0m\n\u001b[1;32m     10\u001b[0m \u001b[0;34m\u001b[0m\u001b[0m\n\u001b[0;32m---> 11\u001b[0;31m         \u001b[0mpca\u001b[0m\u001b[0;34m.\u001b[0m\u001b[0mfit\u001b[0m\u001b[0;34m(\u001b[0m\u001b[0mX_train\u001b[0m\u001b[0;34m)\u001b[0m\u001b[0;34m\u001b[0m\u001b[0;34m\u001b[0m\u001b[0m\n\u001b[0m\u001b[1;32m     12\u001b[0m         \u001b[0mX_train\u001b[0m \u001b[0;34m=\u001b[0m \u001b[0mpca\u001b[0m\u001b[0;34m.\u001b[0m\u001b[0mtransform\u001b[0m\u001b[0;34m(\u001b[0m\u001b[0mX_train\u001b[0m\u001b[0;34m)\u001b[0m\u001b[0;34m;\u001b[0m\u001b[0;34m\u001b[0m\u001b[0;34m\u001b[0m\u001b[0m\n\u001b[1;32m     13\u001b[0m         \u001b[0mX_val\u001b[0m \u001b[0;34m=\u001b[0m \u001b[0mpca\u001b[0m\u001b[0;34m.\u001b[0m\u001b[0mtransform\u001b[0m\u001b[0;34m(\u001b[0m\u001b[0mX_val\u001b[0m\u001b[0;34m)\u001b[0m\u001b[0;34m\u001b[0m\u001b[0;34m\u001b[0m\u001b[0m\n",
      "\u001b[0;31mKeyboardInterrupt\u001b[0m: "
     ]
    }
   ],
   "source": [
    "%%time\n",
    "\n",
    "import csv\n",
    "\n",
    "#3-Fold Cross validation\n",
    "k = 3\n",
    "\n",
    "amount = X.shape[0] // k\n",
    "\n",
    "list_acc = []\n",
    "neighbour_values = [1,3,5,7,9,11,13,15,25,35,45,55,65,75,85,95]\n",
    "three_fold_df = {\n",
    "    'Number of neighbours': neighbour_values\n",
    "}\n",
    "\n",
    "accuracy_1 = []\n",
    "accuracy_2 = []\n",
    "accuracy_3 = []\n",
    "\n",
    "pca_components = [1,2,3,4,5,10,20,30,40,50,70,90,100]\n",
    "dict_data = []\n",
    "\n",
    "for component in pca_components:\n",
    "    for neighbours in neighbour_values:\n",
    "        for i in tqdm(range(k)): \n",
    "            print(\"i \", i, \"Neighbour \", neighbours, \"Component \", component)\n",
    "            X_train = np.concatenate((X[0:amount*i], X[amount * (i+1):]))\n",
    "            y_train = np.concatenate((y[0:amount*i], y[amount * (i+1):]))\n",
    "            X_val = X[amount*i:amount*(i+1)]\n",
    "            y_val = y[amount*i:amount*(i+1)]\n",
    "\n",
    "            acc = knn_pca_exp(neighbours,component,X_train,X_val,y_train,y_val)\n",
    "            \n",
    "            dict_data.append({'K-Iteration': i, 'Neighbours': neighbours, 'Components': component, 'Accuracy': acc})\n",
    "                \n",
    "\n",
    "csv_columns = ['K-Iteration','Neighbours','Components','Accuracy']\n",
    "\n",
    "csv_file = \"k_fold_cross_validation.csv\"\n",
    "try:\n",
    "    with open(csv_file, 'w') as csvfile:\n",
    "        writer = csv.DictWriter(csvfile, fieldnames=csv_columns)\n",
    "        writer.writeheader()\n",
    "        for data in dict_data:\n",
    "            writer.writerow(data)\n",
    "except IOError:\n",
    "    print(\"I/O error\")\n",
    "    \n",
    "\n",
    "\n",
    "\n",
    "\n",
    "\n",
    "#three_fold_df.setdefault('Iteration 1',accuracy_1)\n",
    "#three_fold_df.setdefault('Iteration 2',accuracy_2)\n",
    "#three_fold_df.setdefault('Iteration 3',accuracy_3)\n",
    "\n",
    "\n",
    "\n",
    "#dfff = pd.DataFrame(three_fold_df)\n",
    "#print (dfff)\n",
    "#dfff.to_csv(\"3_fold\")\n",
    "\n",
    "#sns.lineplot(data = dfff, x = 'Number of neighbours', y = \"Iteration 1\")\n",
    "#sns.lineplot(data = dfff, x = 'Number of neighbours', y = \"Iteration 2\")\n",
    "#sns.lineplot(data = dfff, x = 'Number of neighbours', y = \"Iteration 3\")"
   ]
  },
  {
   "cell_type": "code",
   "execution_count": 28,
   "metadata": {},
   "outputs": [
    {
     "name": "stdout",
     "output_type": "stream",
     "text": [
      "0.22857142857142856\n",
      "0.22857142857142856\n",
      "0.22857142857142856\n"
     ]
    },
    {
     "ename": "ValueError",
     "evalue": "dict contains fields not in fieldnames: 'K-Iteration', 'Accuracy'",
     "output_type": "error",
     "traceback": [
      "\u001b[0;31m---------------------------------------------------------------------------\u001b[0m",
      "\u001b[0;31mValueError\u001b[0m                                Traceback (most recent call last)",
      "\u001b[0;32m/var/folders/1f/_kjpszdd1vl0ff1jywmy0q3m5s__6v/T/ipykernel_79022/1731683397.py\u001b[0m in \u001b[0;36m<module>\u001b[0;34m\u001b[0m\n\u001b[1;32m     26\u001b[0m                         \u001b[0mavg_accuracy\u001b[0m \u001b[0;34m=\u001b[0m \u001b[0mavg_accuracy\u001b[0m \u001b[0;34m/\u001b[0m \u001b[0;36m3\u001b[0m\u001b[0;34m\u001b[0m\u001b[0;34m\u001b[0m\u001b[0m\n\u001b[1;32m     27\u001b[0m                         \u001b[0mavg_data\u001b[0m \u001b[0;34m=\u001b[0m \u001b[0;34m{\u001b[0m\u001b[0;34m'Neighbours'\u001b[0m\u001b[0;34m:\u001b[0m \u001b[0mdata\u001b[0m\u001b[0;34m[\u001b[0m\u001b[0;34m'Neighbours'\u001b[0m\u001b[0;34m]\u001b[0m\u001b[0;34m,\u001b[0m \u001b[0;34m'Components'\u001b[0m\u001b[0;34m:\u001b[0m \u001b[0mdata\u001b[0m\u001b[0;34m[\u001b[0m\u001b[0;34m'Components'\u001b[0m\u001b[0;34m]\u001b[0m\u001b[0;34m,\u001b[0m \u001b[0;34m'Average Accuracy'\u001b[0m\u001b[0;34m:\u001b[0m \u001b[0mavg_accuracy\u001b[0m\u001b[0;34m}\u001b[0m\u001b[0;34m\u001b[0m\u001b[0;34m\u001b[0m\u001b[0m\n\u001b[0;32m---> 28\u001b[0;31m                         \u001b[0mwriter\u001b[0m\u001b[0;34m.\u001b[0m\u001b[0mwriterow\u001b[0m\u001b[0;34m(\u001b[0m\u001b[0mdata\u001b[0m\u001b[0;34m)\u001b[0m\u001b[0;34m\u001b[0m\u001b[0;34m\u001b[0m\u001b[0m\n\u001b[0m\u001b[1;32m     29\u001b[0m                 \u001b[0ma\u001b[0m\u001b[0;34m+=\u001b[0m\u001b[0;36m1\u001b[0m\u001b[0;34m\u001b[0m\u001b[0;34m\u001b[0m\u001b[0m\n\u001b[1;32m     30\u001b[0m \u001b[0;32mexcept\u001b[0m \u001b[0mIOError\u001b[0m\u001b[0;34m:\u001b[0m\u001b[0;34m\u001b[0m\u001b[0;34m\u001b[0m\u001b[0m\n",
      "\u001b[0;32m~/opt/miniconda3/envs/metnum-tp2/lib/python3.9/csv.py\u001b[0m in \u001b[0;36mwriterow\u001b[0;34m(self, rowdict)\u001b[0m\n\u001b[1;32m    152\u001b[0m \u001b[0;34m\u001b[0m\u001b[0m\n\u001b[1;32m    153\u001b[0m     \u001b[0;32mdef\u001b[0m \u001b[0mwriterow\u001b[0m\u001b[0;34m(\u001b[0m\u001b[0mself\u001b[0m\u001b[0;34m,\u001b[0m \u001b[0mrowdict\u001b[0m\u001b[0;34m)\u001b[0m\u001b[0;34m:\u001b[0m\u001b[0;34m\u001b[0m\u001b[0;34m\u001b[0m\u001b[0m\n\u001b[0;32m--> 154\u001b[0;31m         \u001b[0;32mreturn\u001b[0m \u001b[0mself\u001b[0m\u001b[0;34m.\u001b[0m\u001b[0mwriter\u001b[0m\u001b[0;34m.\u001b[0m\u001b[0mwriterow\u001b[0m\u001b[0;34m(\u001b[0m\u001b[0mself\u001b[0m\u001b[0;34m.\u001b[0m\u001b[0m_dict_to_list\u001b[0m\u001b[0;34m(\u001b[0m\u001b[0mrowdict\u001b[0m\u001b[0;34m)\u001b[0m\u001b[0;34m)\u001b[0m\u001b[0;34m\u001b[0m\u001b[0;34m\u001b[0m\u001b[0m\n\u001b[0m\u001b[1;32m    155\u001b[0m \u001b[0;34m\u001b[0m\u001b[0m\n\u001b[1;32m    156\u001b[0m     \u001b[0;32mdef\u001b[0m \u001b[0mwriterows\u001b[0m\u001b[0;34m(\u001b[0m\u001b[0mself\u001b[0m\u001b[0;34m,\u001b[0m \u001b[0mrowdicts\u001b[0m\u001b[0;34m)\u001b[0m\u001b[0;34m:\u001b[0m\u001b[0;34m\u001b[0m\u001b[0;34m\u001b[0m\u001b[0m\n",
      "\u001b[0;32m~/opt/miniconda3/envs/metnum-tp2/lib/python3.9/csv.py\u001b[0m in \u001b[0;36m_dict_to_list\u001b[0;34m(self, rowdict)\u001b[0m\n\u001b[1;32m    147\u001b[0m             \u001b[0mwrong_fields\u001b[0m \u001b[0;34m=\u001b[0m \u001b[0mrowdict\u001b[0m\u001b[0;34m.\u001b[0m\u001b[0mkeys\u001b[0m\u001b[0;34m(\u001b[0m\u001b[0;34m)\u001b[0m \u001b[0;34m-\u001b[0m \u001b[0mself\u001b[0m\u001b[0;34m.\u001b[0m\u001b[0mfieldnames\u001b[0m\u001b[0;34m\u001b[0m\u001b[0;34m\u001b[0m\u001b[0m\n\u001b[1;32m    148\u001b[0m             \u001b[0;32mif\u001b[0m \u001b[0mwrong_fields\u001b[0m\u001b[0;34m:\u001b[0m\u001b[0;34m\u001b[0m\u001b[0;34m\u001b[0m\u001b[0m\n\u001b[0;32m--> 149\u001b[0;31m                 raise ValueError(\"dict contains fields not in fieldnames: \"\n\u001b[0m\u001b[1;32m    150\u001b[0m                                  + \", \".join([repr(x) for x in wrong_fields]))\n\u001b[1;32m    151\u001b[0m         \u001b[0;32mreturn\u001b[0m \u001b[0;34m(\u001b[0m\u001b[0mrowdict\u001b[0m\u001b[0;34m.\u001b[0m\u001b[0mget\u001b[0m\u001b[0;34m(\u001b[0m\u001b[0mkey\u001b[0m\u001b[0;34m,\u001b[0m \u001b[0mself\u001b[0m\u001b[0;34m.\u001b[0m\u001b[0mrestval\u001b[0m\u001b[0;34m)\u001b[0m \u001b[0;32mfor\u001b[0m \u001b[0mkey\u001b[0m \u001b[0;32min\u001b[0m \u001b[0mself\u001b[0m\u001b[0;34m.\u001b[0m\u001b[0mfieldnames\u001b[0m\u001b[0;34m)\u001b[0m\u001b[0;34m\u001b[0m\u001b[0;34m\u001b[0m\u001b[0m\n",
      "\u001b[0;31mValueError\u001b[0m: dict contains fields not in fieldnames: 'K-Iteration', 'Accuracy'"
     ]
    }
   ],
   "source": [
    "import csv\n",
    "\n",
    "csv_file = \"k_fold_cross_validation-Copy1.csv\"\n",
    "csv_file_average = \"k_fold_cross_validation_average.csv\"\n",
    "\n",
    "csv_columns = ['K-Iteration','Neighbours','Components','Accuracy']\n",
    "csv_columns_average = ['Neighbours','Components','Average Accuracy']\n",
    "\n",
    "\n",
    "try:\n",
    "    with open(csv_file, 'r') as csvfile:\n",
    "        with open(csv_file_average, 'w') as csvfile_average:\n",
    "            writer = csv.DictWriter(csvfile_average, fieldnames=csv_columns_average)\n",
    "            writer.writeheader()\n",
    "            reader = csv.DictReader(csvfile, fieldnames=csv_columns)\n",
    "            for data in reader:\n",
    "                if i != 2:\n",
    "                    avg_accuracy += float(data['Accuracy'])\n",
    "                else:\n",
    "                    avg_accuracy = avg_accuracy / 3\n",
    "                        avg_data = {'Neighbours': data['Neighbours'], 'Components': data['Components'], 'Average Accuracy': avg_accuracy}\n",
    "                        writer.writerow(data)\n",
    "                    \n",
    "                for i in range(3):\n",
    "                    print(data['Accuracy'])\n",
    "                    avg_accuracy += float(data['Accuracy'])\n",
    "                    if i == 2:\n",
    "                        \n",
    "                a+=1\n",
    "except IOError:\n",
    "    print(\"I/O error\")"
   ]
  },
  {
   "cell_type": "code",
   "execution_count": 11,
   "metadata": {},
   "outputs": [
    {
     "data": {
      "image/png": "[encoded data removed]",
      "text/plain": [
       "<Figure size 576x360 with 1 Axes>"
      ]
     },
     "metadata": {
      "needs_background": "light"
     },
     "output_type": "display_data"
    }
   ],
   "source": [
    "# CSV generado en celda anterior\n",
    "dfff = pd.read_csv('3_fold')\n",
    "\n",
    "neibs = dfff['Number of neighbours'].to_list()\n",
    "\n",
    "it1 = dfff['Iteration 1'].to_list()\n",
    "it2 =  dfff['Iteration 2'].to_list()\n",
    "it3 =  dfff['Iteration 3'].to_list()\n",
    "\n",
    "plt.figure(figsize=(8,5))\n",
    "plt.style.use('ggplot')\n",
    "plt.plot(neibs, it1, marker = '.')\n",
    "plt.plot(neibs, it2, marker = '.')\n",
    "plt.plot(neibs, it3, marker = '.')\n",
    "plt.xlabel('Cantidad de vecinos')\n",
    "plt.ylabel('Accuracy')\n",
    "plt.title('3-Fold cross validation con distintas cantidades de vecinos')\n",
    "plt.legend(['Iteración 1', 'Iteración 2', 'Iteración 3'])\n",
    "plt.savefig(\"3_fold_cross_validation_cant_vecinos.png\")"
   ]
  },
  {
   "cell_type": "code",
   "execution_count": 65,
   "metadata": {},
   "outputs": [
    {
     "name": "stdout",
     "output_type": "stream",
     "text": [
      "0.003040178571428548\n",
      "1.8577806122448923e-06\n",
      "1.3788584183673533e-05\n"
     ]
    }
   ],
   "source": [
    "sum = 0\n",
    "\n",
    "for x in range (16):\n",
    "    sum = sum + abs(it1[x]-it2[x])\n",
    "    \n",
    "sum = sum / 16   \n",
    "\n",
    "print(sum)\n",
    "\n",
    "suma = 0\n",
    "\n",
    "for x in range (16):\n",
    "    suma = suma + abs(it1[x]-it3[x])**2\n",
    "    \n",
    "suma = suma / 16 \n",
    "\n",
    "print(suma)\n",
    "\n",
    "sumb = 0\n",
    "\n",
    "for x in range (16):\n",
    "    sumb = sumb + abs(it3[x]-it2[x])**2\n",
    "    \n",
    "sumb = sumb / 16 \n",
    "\n",
    "print(sumb)\n",
    "\n",
    "\n"
   ]
  }
 ],
 "metadata": {
  "kernelspec": {
   "display_name": "Python 3 (ipykernel)",
   "language": "python",
   "name": "python3"
  },
  "language_info": {
   "codemirror_mode": {
    "name": "ipython",
    "version": 3
   },
   "file_extension": ".py",
   "mimetype": "text/x-python",
   "name": "python",
   "nbconvert_exporter": "python",
   "pygments_lexer": "ipython3",
   "version": "3.9.7"
  }
 },
 "nbformat": 4,
 "nbformat_minor": 4
}
